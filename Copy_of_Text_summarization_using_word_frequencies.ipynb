{
  "nbformat": 4,
  "nbformat_minor": 0,
  "metadata": {
    "colab": {
      "name": "Copy of Text summarization using word frequencies.ipynb",
      "provenance": [],
      "include_colab_link": true
    },
    "kernelspec": {
      "name": "python3",
      "display_name": "Python 3"
    },
    "language_info": {
      "name": "python"
    }
  },
  "cells": [
    {
      "cell_type": "markdown",
      "metadata": {
        "id": "view-in-github",
        "colab_type": "text"
      },
      "source": [
        "<a href=\"https://colab.research.google.com/github/prashanth018/Text-Summarization/blob/Dyuthi/Copy_of_Text_summarization_using_word_frequencies.ipynb\" target=\"_parent\"><img src=\"https://colab.research.google.com/assets/colab-badge.svg\" alt=\"Open In Colab\"/></a>"
      ]
    },
    {
      "cell_type": "code",
      "metadata": {
        "colab": {
          "base_uri": "https://localhost:8080/"
        },
        "id": "w7nTxB9CVbg9",
        "outputId": "b0ad2d99-6918-4a1e-affe-8b1d383ae3cd"
      },
      "source": [
        "import pandas as pd\n",
        "import numpy as np\n",
        "import nltk\n",
        "import re\n",
        "import bs4 as bs\n",
        "import urllib.request\n",
        "import nltk\n",
        "nltk.download('punkt')"
      ],
      "execution_count": 1,
      "outputs": [
        {
          "output_type": "stream",
          "text": [
            "[nltk_data] Downloading package punkt to /root/nltk_data...\n",
            "[nltk_data]   Unzipping tokenizers/punkt.zip.\n"
          ],
          "name": "stdout"
        },
        {
          "output_type": "execute_result",
          "data": {
            "text/plain": [
              "True"
            ]
          },
          "metadata": {
            "tags": []
          },
          "execution_count": 1
        }
      ]
    },
    {
      "cell_type": "code",
      "metadata": {
        "colab": {
          "base_uri": "https://localhost:8080/"
        },
        "id": "RS9Qk0ynPVzi",
        "outputId": "f8742d8d-31b7-4fea-cf63-8a61a64079fa"
      },
      "source": [
        "!pip install rouge_metric"
      ],
      "execution_count": 2,
      "outputs": [
        {
          "output_type": "stream",
          "text": [
            "Collecting rouge_metric\n",
            "\u001b[?25l  Downloading https://files.pythonhosted.org/packages/bb/34/18ddbc94f65e8b45220b373b2ad2db6bef7549f4b00b4baaaaa47204be1a/rouge_metric-1.0.1-py3-none-any.whl (151kB)\n",
            "\r\u001b[K     |██▏                             | 10kB 11.8MB/s eta 0:00:01\r\u001b[K     |████▎                           | 20kB 12.8MB/s eta 0:00:01\r\u001b[K     |██████▌                         | 30kB 12.6MB/s eta 0:00:01\r\u001b[K     |████████▋                       | 40kB 9.1MB/s eta 0:00:01\r\u001b[K     |██████████▉                     | 51kB 7.5MB/s eta 0:00:01\r\u001b[K     |█████████████                   | 61kB 8.0MB/s eta 0:00:01\r\u001b[K     |███████████████▏                | 71kB 8.1MB/s eta 0:00:01\r\u001b[K     |█████████████████▎              | 81kB 8.3MB/s eta 0:00:01\r\u001b[K     |███████████████████▍            | 92kB 7.9MB/s eta 0:00:01\r\u001b[K     |█████████████████████▋          | 102kB 8.4MB/s eta 0:00:01\r\u001b[K     |███████████████████████▊        | 112kB 8.4MB/s eta 0:00:01\r\u001b[K     |██████████████████████████      | 122kB 8.4MB/s eta 0:00:01\r\u001b[K     |████████████████████████████    | 133kB 8.4MB/s eta 0:00:01\r\u001b[K     |██████████████████████████████▎ | 143kB 8.4MB/s eta 0:00:01\r\u001b[K     |████████████████████████████████| 153kB 8.4MB/s \n",
            "\u001b[?25hInstalling collected packages: rouge-metric\n",
            "Successfully installed rouge-metric-1.0.1\n"
          ],
          "name": "stdout"
        }
      ]
    },
    {
      "cell_type": "code",
      "metadata": {
        "colab": {
          "base_uri": "https://localhost:8080/"
        },
        "id": "GFaJdfCPPhlo",
        "outputId": "bb763a63-d88b-4172-b930-278d08de9f75"
      },
      "source": [
        "!pip install fuzzywuzzy"
      ],
      "execution_count": 3,
      "outputs": [
        {
          "output_type": "stream",
          "text": [
            "Collecting fuzzywuzzy\n",
            "  Downloading https://files.pythonhosted.org/packages/43/ff/74f23998ad2f93b945c0309f825be92e04e0348e062026998b5eefef4c33/fuzzywuzzy-0.18.0-py2.py3-none-any.whl\n",
            "Installing collected packages: fuzzywuzzy\n",
            "Successfully installed fuzzywuzzy-0.18.0\n"
          ],
          "name": "stdout"
        }
      ]
    },
    {
      "cell_type": "code",
      "metadata": {
        "colab": {
          "base_uri": "https://localhost:8080/"
        },
        "id": "7Eqg12AEPpPh",
        "outputId": "b61a3dc9-67d7-4360-b884-d83ec6ef1d12"
      },
      "source": [
        "!pip install python-Levenshtein"
      ],
      "execution_count": 4,
      "outputs": [
        {
          "output_type": "stream",
          "text": [
            "Collecting python-Levenshtein\n",
            "\u001b[?25l  Downloading https://files.pythonhosted.org/packages/2a/dc/97f2b63ef0fa1fd78dcb7195aca577804f6b2b51e712516cc0e902a9a201/python-Levenshtein-0.12.2.tar.gz (50kB)\n",
            "\r\u001b[K     |██████▌                         | 10kB 17.3MB/s eta 0:00:01\r\u001b[K     |█████████████                   | 20kB 18.2MB/s eta 0:00:01\r\u001b[K     |███████████████████▌            | 30kB 12.8MB/s eta 0:00:01\r\u001b[K     |██████████████████████████      | 40kB 15.6MB/s eta 0:00:01\r\u001b[K     |████████████████████████████████| 51kB 3.8MB/s \n",
            "\u001b[?25hRequirement already satisfied: setuptools in /usr/local/lib/python3.7/dist-packages (from python-Levenshtein) (56.0.0)\n",
            "Building wheels for collected packages: python-Levenshtein\n",
            "  Building wheel for python-Levenshtein (setup.py) ... \u001b[?25l\u001b[?25hdone\n",
            "  Created wheel for python-Levenshtein: filename=python_Levenshtein-0.12.2-cp37-cp37m-linux_x86_64.whl size=149812 sha256=1e54aaab834ec13e308ce4a21698684e9772f21d8072b804596bb228a92ccbca\n",
            "  Stored in directory: /root/.cache/pip/wheels/b3/26/73/4b48503bac73f01cf18e52cd250947049a7f339e940c5df8fc\n",
            "Successfully built python-Levenshtein\n",
            "Installing collected packages: python-Levenshtein\n",
            "Successfully installed python-Levenshtein-0.12.2\n"
          ],
          "name": "stdout"
        }
      ]
    },
    {
      "cell_type": "code",
      "metadata": {
        "id": "1qXSMlXyWxD3"
      },
      "source": [
        "def casefolding(sentence):\n",
        "    return sentence.lower()\n",
        "\n",
        "def cleaning(sentence):\n",
        "    return re.sub(r'[^a-z]', ' ', re.sub(\"’\", '', sentence))\n",
        "\n",
        "def tokenization(sentence):\n",
        "    return sentence.split()"
      ],
      "execution_count": 5,
      "outputs": []
    },
    {
      "cell_type": "code",
      "metadata": {
        "id": "Z9kX4e9PW1ym"
      },
      "source": [
        "def sentence_split(paragraph):\n",
        "    return nltk.sent_tokenize(paragraph)"
      ],
      "execution_count": 6,
      "outputs": []
    },
    {
      "cell_type": "code",
      "metadata": {
        "id": "m8yoTwAxW5zv"
      },
      "source": [
        "def word_freq(data):\n",
        "    w = []\n",
        "    for sentence in data:\n",
        "        for words in sentence:\n",
        "            w.append(words)\n",
        "    bag = list(set(w))\n",
        "    res = {}\n",
        "    for word in bag:\n",
        "        res[word] = w.count(word)\n",
        "    return res\n"
      ],
      "execution_count": 7,
      "outputs": []
    },
    {
      "cell_type": "code",
      "metadata": {
        "id": "fCch35rjPBPc"
      },
      "source": [
        "news = '''\n",
        "O'Sullivan could run in Worlds\n",
        "Sonia O'Sullivan has indicated that she would like to participate in next month's World Cross Country Championships in St Etienne.\n",
        "Athletics Ireland have hinted that the 35-year-old Cobh runner may be included in the official line-up for the event in France on 19-20 March. \n",
        "Provincial teams were selected after last Saturday's Nationals in Santry and will be officially announced this week. \n",
        "O'Sullivan is at present preparing for the London marathon on 17 April. \n",
        "The participation of O'Sullivan, currentily training at her base in Australia, would boost the Ireland team who won the bronze three years agio. \n",
        "The first three at Santry last Saturday, Jolene Byrne, Maria McCambridge and Fionnualla Britton, are automatic selections and will most likely form part of the long-course team. \n",
        "O'Sullivan will also take part in the Bupa Great Ireland Run on 9 April in Dublin. \n",
        "'''"
      ],
      "execution_count": 9,
      "outputs": []
    },
    {
      "cell_type": "code",
      "metadata": {
        "id": "fPAcvM_LXL-C"
      },
      "source": [
        "def summarize(news):\n",
        "  sentence_list = sentence_split(str(news))\n",
        "  data = []\n",
        "  for sentence in sentence_list:\n",
        "      data.append(tokenization(cleaning(casefolding(sentence))))\n",
        "  data = (list(filter(None, data)))\n",
        "  wordfreq = word_freq(data)\n",
        "  ranking = []\n",
        "  for words in data:\n",
        "      temp = 0\n",
        "      for word in words:\n",
        "          temp += wordfreq[word]\n",
        "      ranking.append(temp)\n",
        "  n = 2\n",
        "  result = ''\n",
        "  sort_list = np.argsort(ranking)[::-1][:n]\n",
        "  #print(sort_list)\n",
        "  for i in range(n):\n",
        "      result += '{} '.format(sentence_list[sort_list[i]])\n",
        "  return result"
      ],
      "execution_count": 12,
      "outputs": []
    },
    {
      "cell_type": "code",
      "metadata": {
        "id": "uRMu_JUSPGJf"
      },
      "source": [
        "result = summarize(news)\n",
        "hypotheses = list()\n",
        "hypotheses.append(result.split())"
      ],
      "execution_count": 13,
      "outputs": []
    },
    {
      "cell_type": "code",
      "metadata": {
        "id": "6ey859i5PLI0"
      },
      "source": [
        "actual_summary = '''\n",
        "The participation of O'Sullivan, currentily training at her base in Australia, would boost the Ireland team who won the bronze three years agio.\n",
        "O'Sullivan will also take part in the Bupa Great Ireland Run on 9 April in Dublin.\n",
        "O'Sullivan is at present preparing for the London marathon on 17 April.\n",
        "'''"
      ],
      "execution_count": 14,
      "outputs": []
    },
    {
      "cell_type": "code",
      "metadata": {
        "id": "Xe0B9JGKPNdE"
      },
      "source": [
        "references = list()\n",
        "references.append(actual_summary.split())"
      ],
      "execution_count": 15,
      "outputs": []
    },
    {
      "cell_type": "code",
      "metadata": {
        "colab": {
          "base_uri": "https://localhost:8080/"
        },
        "id": "eFzz7ZCuPPxK",
        "outputId": "766570e4-044c-41ee-b58e-b49773a3fdaa"
      },
      "source": [
        "from rouge_metric import PyRouge\n",
        "rouge = PyRouge(rouge_n=(1, 2, 4), rouge_l=True, rouge_w=True,\n",
        "                rouge_w_weight=1.2, rouge_s=True, rouge_su=True, skip_gap=4)\n",
        "scores = rouge.evaluate_tokenized(hypotheses, references)\n",
        "print(scores)"
      ],
      "execution_count": 16,
      "outputs": [
        {
          "output_type": "stream",
          "text": [
            "{'rouge-1': {'r': 0.9718875502008032, 'p': 0.019689203482222764, 'f': 0.03859649122807018}, 'rouge-2': {'r': 0.8585858585858586, 'p': 0.013888888888888888, 'f': 0.027335584499115613}, 'rouge-4': {'r': 0.7037037037037037, 'p': 0.006261328060636019, 'f': 0.012412216233872285}, 'rouge-l': {'r': 0.9718875502008032, 'p': 0.019689203482222764, 'f': 0.03859649122807018}, 'rouge-w-1.2': {'r': 0.7270575698607228, 'p': 0.01518870040037385, 'f': 0.029755783342781447}, 'rouge-s4': {'r': 0.9182282793867121, 'p': 0.008881199538638985, 'f': 0.01759224505116112}, 'rouge-su4': {'r': 0.9312101910828026, 'p': 0.010023310023310023, 'f': 0.019833141151733024}}\n"
          ],
          "name": "stdout"
        }
      ]
    },
    {
      "cell_type": "code",
      "metadata": {
        "colab": {
          "base_uri": "https://localhost:8080/"
        },
        "id": "y3aGezKfPdpE",
        "outputId": "e433cafb-b623-4014-d7bd-8112e8331bba"
      },
      "source": [
        "from fuzzywuzzy import fuzz\n",
        "fuzz_ratio = fuzz.ratio(result, actual)\n",
        "fuzz_ratio"
      ],
      "execution_count": 17,
      "outputs": [
        {
          "output_type": "execute_result",
          "data": {
            "text/plain": [
              "71"
            ]
          },
          "metadata": {
            "tags": []
          },
          "execution_count": 17
        }
      ]
    },
    {
      "cell_type": "code",
      "metadata": {
        "id": "gCaQ6EJ8RAOV",
        "colab": {
          "resources": {
            "http://localhost:8080/nbextensions/google.colab/files.js": {
              "data": "Ly8gQ29weXJpZ2h0IDIwMTcgR29vZ2xlIExMQwovLwovLyBMaWNlbnNlZCB1bmRlciB0aGUgQXBhY2hlIExpY2Vuc2UsIFZlcnNpb24gMi4wICh0aGUgIkxpY2Vuc2UiKTsKLy8geW91IG1heSBub3QgdXNlIHRoaXMgZmlsZSBleGNlcHQgaW4gY29tcGxpYW5jZSB3aXRoIHRoZSBMaWNlbnNlLgovLyBZb3UgbWF5IG9idGFpbiBhIGNvcHkgb2YgdGhlIExpY2Vuc2UgYXQKLy8KLy8gICAgICBodHRwOi8vd3d3LmFwYWNoZS5vcmcvbGljZW5zZXMvTElDRU5TRS0yLjAKLy8KLy8gVW5sZXNzIHJlcXVpcmVkIGJ5IGFwcGxpY2FibGUgbGF3IG9yIGFncmVlZCB0byBpbiB3cml0aW5nLCBzb2Z0d2FyZQovLyBkaXN0cmlidXRlZCB1bmRlciB0aGUgTGljZW5zZSBpcyBkaXN0cmlidXRlZCBvbiBhbiAiQVMgSVMiIEJBU0lTLAovLyBXSVRIT1VUIFdBUlJBTlRJRVMgT1IgQ09ORElUSU9OUyBPRiBBTlkgS0lORCwgZWl0aGVyIGV4cHJlc3Mgb3IgaW1wbGllZC4KLy8gU2VlIHRoZSBMaWNlbnNlIGZvciB0aGUgc3BlY2lmaWMgbGFuZ3VhZ2UgZ292ZXJuaW5nIHBlcm1pc3Npb25zIGFuZAovLyBsaW1pdGF0aW9ucyB1bmRlciB0aGUgTGljZW5zZS4KCi8qKgogKiBAZmlsZW92ZXJ2aWV3IEhlbHBlcnMgZm9yIGdvb2dsZS5jb2xhYiBQeXRob24gbW9kdWxlLgogKi8KKGZ1bmN0aW9uKHNjb3BlKSB7CmZ1bmN0aW9uIHNwYW4odGV4dCwgc3R5bGVBdHRyaWJ1dGVzID0ge30pIHsKICBjb25zdCBlbGVtZW50ID0gZG9jdW1lbnQuY3JlYXRlRWxlbWVudCgnc3BhbicpOwogIGVsZW1lbnQudGV4dENvbnRlbnQgPSB0ZXh0OwogIGZvciAoY29uc3Qga2V5IG9mIE9iamVjdC5rZXlzKHN0eWxlQXR0cmlidXRlcykpIHsKICAgIGVsZW1lbnQuc3R5bGVba2V5XSA9IHN0eWxlQXR0cmlidXRlc1trZXldOwogIH0KICByZXR1cm4gZWxlbWVudDsKfQoKLy8gTWF4IG51bWJlciBvZiBieXRlcyB3aGljaCB3aWxsIGJlIHVwbG9hZGVkIGF0IGEgdGltZS4KY29uc3QgTUFYX1BBWUxPQURfU0laRSA9IDEwMCAqIDEwMjQ7CgpmdW5jdGlvbiBfdXBsb2FkRmlsZXMoaW5wdXRJZCwgb3V0cHV0SWQpIHsKICBjb25zdCBzdGVwcyA9IHVwbG9hZEZpbGVzU3RlcChpbnB1dElkLCBvdXRwdXRJZCk7CiAgY29uc3Qgb3V0cHV0RWxlbWVudCA9IGRvY3VtZW50LmdldEVsZW1lbnRCeUlkKG91dHB1dElkKTsKICAvLyBDYWNoZSBzdGVwcyBvbiB0aGUgb3V0cHV0RWxlbWVudCB0byBtYWtlIGl0IGF2YWlsYWJsZSBmb3IgdGhlIG5leHQgY2FsbAogIC8vIHRvIHVwbG9hZEZpbGVzQ29udGludWUgZnJvbSBQeXRob24uCiAgb3V0cHV0RWxlbWVudC5zdGVwcyA9IHN0ZXBzOwoKICByZXR1cm4gX3VwbG9hZEZpbGVzQ29udGludWUob3V0cHV0SWQpOwp9CgovLyBUaGlzIGlzIHJvdWdobHkgYW4gYXN5bmMgZ2VuZXJhdG9yIChub3Qgc3VwcG9ydGVkIGluIHRoZSBicm93c2VyIHlldCksCi8vIHdoZXJlIHRoZXJlIGFyZSBtdWx0aXBsZSBhc3luY2hyb25vdXMgc3RlcHMgYW5kIHRoZSBQeXRob24gc2lkZSBpcyBnb2luZwovLyB0byBwb2xsIGZvciBjb21wbGV0aW9uIG9mIGVhY2ggc3RlcC4KLy8gVGhpcyB1c2VzIGEgUHJvbWlzZSB0byBibG9jayB0aGUgcHl0aG9uIHNpZGUgb24gY29tcGxldGlvbiBvZiBlYWNoIHN0ZXAsCi8vIHRoZW4gcGFzc2VzIHRoZSByZXN1bHQgb2YgdGhlIHByZXZpb3VzIHN0ZXAgYXMgdGhlIGlucHV0IHRvIHRoZSBuZXh0IHN0ZXAuCmZ1bmN0aW9uIF91cGxvYWRGaWxlc0NvbnRpbnVlKG91dHB1dElkKSB7CiAgY29uc3Qgb3V0cHV0RWxlbWVudCA9IGRvY3VtZW50LmdldEVsZW1lbnRCeUlkKG91dHB1dElkKTsKICBjb25zdCBzdGVwcyA9IG91dHB1dEVsZW1lbnQuc3RlcHM7CgogIGNvbnN0IG5leHQgPSBzdGVwcy5uZXh0KG91dHB1dEVsZW1lbnQubGFzdFByb21pc2VWYWx1ZSk7CiAgcmV0dXJuIFByb21pc2UucmVzb2x2ZShuZXh0LnZhbHVlLnByb21pc2UpLnRoZW4oKHZhbHVlKSA9PiB7CiAgICAvLyBDYWNoZSB0aGUgbGFzdCBwcm9taXNlIHZhbHVlIHRvIG1ha2UgaXQgYXZhaWxhYmxlIHRvIHRoZSBuZXh0CiAgICAvLyBzdGVwIG9mIHRoZSBnZW5lcmF0b3IuCiAgICBvdXRwdXRFbGVtZW50Lmxhc3RQcm9taXNlVmFsdWUgPSB2YWx1ZTsKICAgIHJldHVybiBuZXh0LnZhbHVlLnJlc3BvbnNlOwogIH0pOwp9CgovKioKICogR2VuZXJhdG9yIGZ1bmN0aW9uIHdoaWNoIGlzIGNhbGxlZCBiZXR3ZWVuIGVhY2ggYXN5bmMgc3RlcCBvZiB0aGUgdXBsb2FkCiAqIHByb2Nlc3MuCiAqIEBwYXJhbSB7c3RyaW5nfSBpbnB1dElkIEVsZW1lbnQgSUQgb2YgdGhlIGlucHV0IGZpbGUgcGlja2VyIGVsZW1lbnQuCiAqIEBwYXJhbSB7c3RyaW5nfSBvdXRwdXRJZCBFbGVtZW50IElEIG9mIHRoZSBvdXRwdXQgZGlzcGxheS4KICogQHJldHVybiB7IUl0ZXJhYmxlPCFPYmplY3Q+fSBJdGVyYWJsZSBvZiBuZXh0IHN0ZXBzLgogKi8KZnVuY3Rpb24qIHVwbG9hZEZpbGVzU3RlcChpbnB1dElkLCBvdXRwdXRJZCkgewogIGNvbnN0IGlucHV0RWxlbWVudCA9IGRvY3VtZW50LmdldEVsZW1lbnRCeUlkKGlucHV0SWQpOwogIGlucHV0RWxlbWVudC5kaXNhYmxlZCA9IGZhbHNlOwoKICBjb25zdCBvdXRwdXRFbGVtZW50ID0gZG9jdW1lbnQuZ2V0RWxlbWVudEJ5SWQob3V0cHV0SWQpOwogIG91dHB1dEVsZW1lbnQuaW5uZXJIVE1MID0gJyc7CgogIGNvbnN0IHBpY2tlZFByb21pc2UgPSBuZXcgUHJvbWlzZSgocmVzb2x2ZSkgPT4gewogICAgaW5wdXRFbGVtZW50LmFkZEV2ZW50TGlzdGVuZXIoJ2NoYW5nZScsIChlKSA9PiB7CiAgICAgIHJlc29sdmUoZS50YXJnZXQuZmlsZXMpOwogICAgfSk7CiAgfSk7CgogIGNvbnN0IGNhbmNlbCA9IGRvY3VtZW50LmNyZWF0ZUVsZW1lbnQoJ2J1dHRvbicpOwogIGlucHV0RWxlbWVudC5wYXJlbnRFbGVtZW50LmFwcGVuZENoaWxkKGNhbmNlbCk7CiAgY2FuY2VsLnRleHRDb250ZW50ID0gJ0NhbmNlbCB1cGxvYWQnOwogIGNvbnN0IGNhbmNlbFByb21pc2UgPSBuZXcgUHJvbWlzZSgocmVzb2x2ZSkgPT4gewogICAgY2FuY2VsLm9uY2xpY2sgPSAoKSA9PiB7CiAgICAgIHJlc29sdmUobnVsbCk7CiAgICB9OwogIH0pOwoKICAvLyBXYWl0IGZvciB0aGUgdXNlciB0byBwaWNrIHRoZSBmaWxlcy4KICBjb25zdCBmaWxlcyA9IHlpZWxkIHsKICAgIHByb21pc2U6IFByb21pc2UucmFjZShbcGlja2VkUHJvbWlzZSwgY2FuY2VsUHJvbWlzZV0pLAogICAgcmVzcG9uc2U6IHsKICAgICAgYWN0aW9uOiAnc3RhcnRpbmcnLAogICAgfQogIH07CgogIGNhbmNlbC5yZW1vdmUoKTsKCiAgLy8gRGlzYWJsZSB0aGUgaW5wdXQgZWxlbWVudCBzaW5jZSBmdXJ0aGVyIHBpY2tzIGFyZSBub3QgYWxsb3dlZC4KICBpbnB1dEVsZW1lbnQuZGlzYWJsZWQgPSB0cnVlOwoKICBpZiAoIWZpbGVzKSB7CiAgICByZXR1cm4gewogICAgICByZXNwb25zZTogewogICAgICAgIGFjdGlvbjogJ2NvbXBsZXRlJywKICAgICAgfQogICAgfTsKICB9CgogIGZvciAoY29uc3QgZmlsZSBvZiBmaWxlcykgewogICAgY29uc3QgbGkgPSBkb2N1bWVudC5jcmVhdGVFbGVtZW50KCdsaScpOwogICAgbGkuYXBwZW5kKHNwYW4oZmlsZS5uYW1lLCB7Zm9udFdlaWdodDogJ2JvbGQnfSkpOwogICAgbGkuYXBwZW5kKHNwYW4oCiAgICAgICAgYCgke2ZpbGUudHlwZSB8fCAnbi9hJ30pIC0gJHtmaWxlLnNpemV9IGJ5dGVzLCBgICsKICAgICAgICBgbGFzdCBtb2RpZmllZDogJHsKICAgICAgICAgICAgZmlsZS5sYXN0TW9kaWZpZWREYXRlID8gZmlsZS5sYXN0TW9kaWZpZWREYXRlLnRvTG9jYWxlRGF0ZVN0cmluZygpIDoKICAgICAgICAgICAgICAgICAgICAgICAgICAgICAgICAgICAgJ24vYSd9IC0gYCkpOwogICAgY29uc3QgcGVyY2VudCA9IHNwYW4oJzAlIGRvbmUnKTsKICAgIGxpLmFwcGVuZENoaWxkKHBlcmNlbnQpOwoKICAgIG91dHB1dEVsZW1lbnQuYXBwZW5kQ2hpbGQobGkpOwoKICAgIGNvbnN0IGZpbGVEYXRhUHJvbWlzZSA9IG5ldyBQcm9taXNlKChyZXNvbHZlKSA9PiB7CiAgICAgIGNvbnN0IHJlYWRlciA9IG5ldyBGaWxlUmVhZGVyKCk7CiAgICAgIHJlYWRlci5vbmxvYWQgPSAoZSkgPT4gewogICAgICAgIHJlc29sdmUoZS50YXJnZXQucmVzdWx0KTsKICAgICAgfTsKICAgICAgcmVhZGVyLnJlYWRBc0FycmF5QnVmZmVyKGZpbGUpOwogICAgfSk7CiAgICAvLyBXYWl0IGZvciB0aGUgZGF0YSB0byBiZSByZWFkeS4KICAgIGxldCBmaWxlRGF0YSA9IHlpZWxkIHsKICAgICAgcHJvbWlzZTogZmlsZURhdGFQcm9taXNlLAogICAgICByZXNwb25zZTogewogICAgICAgIGFjdGlvbjogJ2NvbnRpbnVlJywKICAgICAgfQogICAgfTsKCiAgICAvLyBVc2UgYSBjaHVua2VkIHNlbmRpbmcgdG8gYXZvaWQgbWVzc2FnZSBzaXplIGxpbWl0cy4gU2VlIGIvNjIxMTU2NjAuCiAgICBsZXQgcG9zaXRpb24gPSAwOwogICAgd2hpbGUgKHBvc2l0aW9uIDwgZmlsZURhdGEuYnl0ZUxlbmd0aCkgewogICAgICBjb25zdCBsZW5ndGggPSBNYXRoLm1pbihmaWxlRGF0YS5ieXRlTGVuZ3RoIC0gcG9zaXRpb24sIE1BWF9QQVlMT0FEX1NJWkUpOwogICAgICBjb25zdCBjaHVuayA9IG5ldyBVaW50OEFycmF5KGZpbGVEYXRhLCBwb3NpdGlvbiwgbGVuZ3RoKTsKICAgICAgcG9zaXRpb24gKz0gbGVuZ3RoOwoKICAgICAgY29uc3QgYmFzZTY0ID0gYnRvYShTdHJpbmcuZnJvbUNoYXJDb2RlLmFwcGx5KG51bGwsIGNodW5rKSk7CiAgICAgIHlpZWxkIHsKICAgICAgICByZXNwb25zZTogewogICAgICAgICAgYWN0aW9uOiAnYXBwZW5kJywKICAgICAgICAgIGZpbGU6IGZpbGUubmFtZSwKICAgICAgICAgIGRhdGE6IGJhc2U2NCwKICAgICAgICB9LAogICAgICB9OwogICAgICBwZXJjZW50LnRleHRDb250ZW50ID0KICAgICAgICAgIGAke01hdGgucm91bmQoKHBvc2l0aW9uIC8gZmlsZURhdGEuYnl0ZUxlbmd0aCkgKiAxMDApfSUgZG9uZWA7CiAgICB9CiAgfQoKICAvLyBBbGwgZG9uZS4KICB5aWVsZCB7CiAgICByZXNwb25zZTogewogICAgICBhY3Rpb246ICdjb21wbGV0ZScsCiAgICB9CiAgfTsKfQoKc2NvcGUuZ29vZ2xlID0gc2NvcGUuZ29vZ2xlIHx8IHt9OwpzY29wZS5nb29nbGUuY29sYWIgPSBzY29wZS5nb29nbGUuY29sYWIgfHwge307CnNjb3BlLmdvb2dsZS5jb2xhYi5fZmlsZXMgPSB7CiAgX3VwbG9hZEZpbGVzLAogIF91cGxvYWRGaWxlc0NvbnRpbnVlLAp9Owp9KShzZWxmKTsK",
              "ok": true,
              "headers": [
                [
                  "content-type",
                  "application/javascript"
                ]
              ],
              "status": 200,
              "status_text": ""
            }
          },
          "base_uri": "https://localhost:8080/",
          "height": 72
        },
        "outputId": "6ebb56d3-32d8-4972-bf5e-e5ce12c839ca"
      },
      "source": [
        "#for BBC Dataset\n",
        "from google.colab import files\n",
        "uploaded = files.upload()"
      ],
      "execution_count": 18,
      "outputs": [
        {
          "output_type": "display_data",
          "data": {
            "text/html": [
              "\n",
              "     <input type=\"file\" id=\"files-3cc76368-7a0b-46ef-8e5a-29daa1639de3\" name=\"files[]\" multiple disabled\n",
              "        style=\"border:none\" />\n",
              "     <output id=\"result-3cc76368-7a0b-46ef-8e5a-29daa1639de3\">\n",
              "      Upload widget is only available when the cell has been executed in the\n",
              "      current browser session. Please rerun this cell to enable.\n",
              "      </output>\n",
              "      <script src=\"/nbextensions/google.colab/files.js\"></script> "
            ],
            "text/plain": [
              "<IPython.core.display.HTML object>"
            ]
          },
          "metadata": {
            "tags": []
          }
        },
        {
          "output_type": "stream",
          "text": [
            "Saving BBCDataset.csv to BBCDataset.csv\n"
          ],
          "name": "stdout"
        }
      ]
    },
    {
      "cell_type": "code",
      "metadata": {
        "id": "zineAYi5RA3Z",
        "colab": {
          "base_uri": "https://localhost:8080/"
        },
        "outputId": "9afa30b7-54c6-44b6-b70d-396d4ddeecca"
      },
      "source": [
        "import pandas as pd\n",
        "\n",
        "# Run summarization\n",
        "dataset = pd.read_csv('BBCDataset.csv', encoding ='cp1252')\n",
        "story = dataset['story'].iloc[0:10]\n",
        "original_summary  = dataset['Summary'].iloc[0:10]"
      ],
      "execution_count": 25,
      "outputs": [
        {
          "output_type": "execute_result",
          "data": {
            "text/plain": [
              "0    Holmes will make her first track appearance on...\n",
              "1    Thanou, 30, was provisionally suspended for mi...\n",
              "2    Aston Villa's Carlton Cole could be out for si...\n",
              "3    \"I think this award reinforces what we did on ...\n",
              "4    Ninth seed Nalbandian had never come back from...\n",
              "5    Edelman added that it was pointless having a b...\n",
              "6    He said, \"A three-month ban would mean that I ...\n",
              "7    \"I kept thinking to myself 'I'm not losing thi...\n",
              "8    Arsenal keeper Jens Lehmann, whose personal ri...\n",
              "9    Although the move would be a lucrative one for...\n",
              "Name: Summary, dtype: object"
            ]
          },
          "metadata": {
            "tags": []
          },
          "execution_count": 25
        }
      ]
    },
    {
      "cell_type": "code",
      "metadata": {
        "id": "OVxkmMVFSmfR"
      },
      "source": [
        "summary_list = list()\n",
        "for news in story:\n",
        "  #print(news)\n",
        "  #print('...............')\n",
        "  result = summarize(news)\n",
        "  summary_list.append(result)"
      ],
      "execution_count": 28,
      "outputs": []
    },
    {
      "cell_type": "code",
      "metadata": {
        "id": "3zKc4sgKRQrZ",
        "colab": {
          "base_uri": "https://localhost:8080/"
        },
        "outputId": "8fa700ad-d882-4896-cec9-6f14e13a4607"
      },
      "source": [
        "hypotheses = list()\n",
        "hypotheses = summary_list\n",
        "hypotheses"
      ],
      "execution_count": 22,
      "outputs": [
        {
          "output_type": "execute_result",
          "data": {
            "text/plain": [
              "['She will also run in the Grand Prix in Birmingham in February and may defend her indoor AAA 800m title in Sheffield earlier that month. She added: \"These events are also a great opportunity to thank the British public for the enormous levels of support they have given me from the moment I stepped off that plane from Greece.\" ',\n",
              " 'The IAAF - which said it was \"very surprised\" by the decision of the Greek tribunal - is deciding whether to appeal against the decision at the Court of Arbitration for Sport. However, Dick Pound, the chairman of the World Anti-Doping Authority, has said he will appeal against the decision if the IAAF does not. ',\n",
              " \"The return to fitness of Darius Vassell after four months out with a broken ankle and the emergence of Luke Moore has alleviated some of the Villa's manager's problems in that department. Cole, who also struggled with an ankle problem earlier in the season, was unable to rest because O'Leary had a shortage of strikers. \",\n",
              " '\"This award is not just for me, but for all my friends, family and the people who have helped me to get to this level in my sport.\" Relay squad thrilled with honours\\n\\nJason Gardener says being made an MBE in the New Year Honours List underlines the achievement of Great Britain\\'s 4x100m relay squad at the Olympics. ',\n",
              " 'The balance of power changed completely in the third set as Hewitt allowed his level to dip, and he double-faulted twice as Nalbandian broke on the way to taking the fourth set. But the tiring third seed showed incredible reserves of strength to force the break despite being outplayed for much of the final set and three times coming within two points of defeat. ',\n",
              " '\"Its great to have nice, new surroundings, but if the team aren\\'t performing on the pitch, then there isn\\'t great respect in having a fabulous stadium,\" he said. The club\\'s managing director, Keith Edelman, stressed that the development of their new Â£350m stadium had no affect on Wenger\\'s spending power. ',\n",
              " \"Koubek, who defeated Britain's Greg Rusedski in the decisive rubber of the Davis Cup in September, is now set to miss the start of the season. Koubek believes an injection given to him by an Austrian doctor to treat a wrist injury is to blame for producing traces of the substance in his system. \",\n",
              " '\"At the end I think I was a little bit fatigued but she took advantage of it and kept going - she\\'s a great frontrunner when she gets going.\" \"Then I just had that horrible lapse, I think serving up 40-0, and made a few errors and opened up the door for her and she just kept going through it. ',\n",
              " 'Kolo Toure\\'s late goal gives the Gunners hope for the second leg, but Wenger said: \"The only positive is that we are still in the tie. Wenger dejected as Arsenal slump\\n\\nArsenal manager Arsene Wenger claimed their display in the 3-1 defeat against Bayern Munich was \"our worst peformance in the Champions League\". ',\n",
              " '\"As well as the Rugby Football Union, the league, the individual club and the England coaching team have a say, so it\\'s not a quick decision,\" he said. Farrell saga to drag on - Lindsay\\n\\nWigan chairman Maurice Lindsay says he does not expect a quick solution to the on-going saga of captain Andy Farrell\\'s possible switch to rugby union. ']"
            ]
          },
          "metadata": {
            "tags": []
          },
          "execution_count": 22
        }
      ]
    },
    {
      "cell_type": "code",
      "metadata": {
        "colab": {
          "base_uri": "https://localhost:8080/"
        },
        "id": "Zi52IdqqTPr_",
        "outputId": "2e1014f4-f678-41d2-e347-579c6287bf21"
      },
      "source": [
        "references = list()\n",
        "for i in original_summary:\n",
        "  references.append(i)\n",
        "references"
      ],
      "execution_count": 30,
      "outputs": [
        {
          "output_type": "execute_result",
          "data": {
            "text/plain": [
              "[\"Holmes will make her first track appearance on home soil since winning double Olympic gold in January's Norwich Union International in Glasgow.The Glasgow meeting will see Holmes compete over 1500m in a five-way match against Sweden, France, Russia and Italy.She will also run in the Grand Prix in Birmingham in February and may defend her indoor AAA 800m title in Sheffield earlier that month.\",\n",
              " 'Thanou, 30, was provisionally suspended for missing a test before the Olympics, but the decision was overturned.The IAAF - which said it was \"very surprised\" by the decision of the Greek tribunal - is deciding whether to appeal against the decision at the Court of Arbitration for Sport.Greek sprinter Katerina Thanou says she is eager to compete again after being cleared of missing a drugs test by an independent Greek tribunal.Thanou, 30, and her compatriot Kostas Kenteris were provisionally suspended by the IAAF in December for missing three drugs tests.\"The IAAF will decide if we can compete again in Greece and abroad,\" Thanou told To Vima newspaper in her first interview since the Athens Olympics.\"I cannot deny that we made a lot of mistakes during that time.I cannot risk everything I\\'ve achieved in such a silly way.\"',\n",
              " 'Aston Villa\\'s Carlton Cole could be out for six weeks with a knee injury.The return to fitness of Darius Vassell after four months out with a broken ankle and the emergence of Luke Moore has alleviated some of the Villa\\'s manager\\'s problems in that department.\"Carlton will be out of action for four to six weeks after a bad challenge,\" said Villa boss David O\\'Leary.',\n",
              " '\"I think this award reinforces what we did on that fantastic night,\" he said.\"Winning the gold medal was the highlight of my athletics career so far,\" said the Birchfield Harrier.\"Of course this award is very special, but for me nothing will ever take away winning an Olympic gold medal.\"I think the MBE is important because the people closest to me know my journey,\" said the Newport-based athlete.Life since then has been fantastic.\"\"This recognition is really inspiring and makes me want to have more success,\" said Lewis-Francis.Gardener, Darren Campbell, Marlon Devonish and Mark Lewis-Francis have all been awarded MBEs after beating pre-race favourites USA to gold.And when the USA stumbled with a poor switch between Justin Gatlin and Coby Miller at the 300m stage, Britain edged ahead going into the final bend.',\n",
              " 'Ninth seed Nalbandian had never come back from two sets down to win a match, and there was no indication he would do so as Hewitt dominated the first two sets.The balance of power changed completely in the third set as Hewitt allowed his level to dip, and he double-faulted twice as Nalbandian broke on the way to taking the fourth set.But Nalbandian broke his serve three times in both of the next two sets to set up a nailbiting decider.It was always tough serving second in the fifth set,\" said Hewitt, who had never reached the last four at his home Grand Slam.And he had words with Hewitt during one change of ends in the second set when the Australian appeared to brush shoulders with him as they went to their chairs.Hewitt eventually grabbed the vital break in the 17th game and served out to win 6-3 6-2 1-6 3-6 10-8 and set up a meeting with Andy Roddick.It\\'s set up for a pretty good showdown in the semis and finals.\"',\n",
              " 'Edelman added that it was pointless having a brand new stadium if the team did not match the surroundings.\"It\\'s important that we had sufficient funds for our team in place, before we began on the stadium.\"\"Its great to have nice, new surroundings, but if the team aren\\'t performing on the pitch, then there isn\\'t great respect in having a fabulous stadium,\" he said.Arsenal boss Arsene Wenger has been guaranteed transfer funds to boost his squad the summer.',\n",
              " 'He said, \"A three-month ban would mean that I not only will miss the Australian Open, but also the Davis Cup in Australia.\"Koubek, who defeated Britain\\'s Greg Rusedski in the decisive rubber of the Davis Cup in September, is now set to miss the start of the season.Koubek believes an injection given to him by an Austrian doctor to treat a wrist injury is to blame for producing traces of the substance in his system.',\n",
              " '\"I kept thinking to myself \\'I\\'m not losing this game,\" said Williams afterwards.Davenport took advantage to race through the opening set and held six break points in game five of the second.Williams later explained her injury problem, saying it was the result of lunging for a ball early in the first set.She quickly dropped the first set but from 3-3 in the second found another gear as Davenport\\'s game collapsed, allowing Williams to take the title.Williams won nine consecutive points for the set and powered through the decider as a lacklustre Davenport looked to have run out of energy after a gruelling two weeks.Davenport paid tribute to Williams, saying: \"She\\'s had a tough couple of years and she\\'s come back like a champion.\"Serena Williams staged a remarkable recovery to beat Lindsay Davenport and win her second Australian Open title.\"At the end I think I was a little bit fatigued but she took advantage of it and kept going - she\\'s a great frontrunner when she gets going.\"',\n",
              " 'Arsenal keeper Jens Lehmann, whose personal rivalry with Bayern goalkeeper Oliver Kahn was not helped by the result, said: \"Do I blame myself for the third goal?Kolo Toure\\'s late goal gives the Gunners hope for the second leg, but Wenger said: \"The only positive is that we are still in the tie.\"It would have been impossible to go through at 3-0 - but with the goal we have chances.My players failed to try and score a fourth to kill the tie and then conceded the late goal.\"I just know the goals were very easy against us.\"Arsenal are fully capable of scoring several goals against us on their own turf.\"In my time here, we have never conceded three easy goals like that - but sometimes it happens.Goalscorer Toure was also at fault for two goals, and Wenger said: \"We need to help Toure rebuild his confidence as he is low at the moment.\"',\n",
              " 'Although the move would be a lucrative one for both Farrell and Wigan, Lindsay said money was not a motivating factor for the club.Lindsay also said he understood why rugby union was so interested in signing up Farrell.\"As well as the Rugby Football Union, the league, the individual club and the England coaching team have a say, so it\\'s not a quick decision,\" he said.\"But he\\'s a very loyal friend to the club, so there\\'s no question that he\\'s deserting us.Wigan chairman Maurice Lindsay says he does not expect a quick solution to the on-going saga of captain Andy Farrell\\'s possible switch to rugby union.\"A shortage of money has never been a problem for us.\"It came as a bolt out of the blue to us,\" admitted Lindsay.Leicester and Saracens are leading the chase for the player, but Lindsay told the BBC it was not yet a done deal.']"
            ]
          },
          "metadata": {
            "tags": []
          },
          "execution_count": 30
        }
      ]
    },
    {
      "cell_type": "code",
      "metadata": {
        "colab": {
          "base_uri": "https://localhost:8080/"
        },
        "id": "rnWxD8oSTdwN",
        "outputId": "3924fddb-f59a-41fd-ea88-1c9dfef8e88e"
      },
      "source": [
        "from rouge_metric import PyRouge\n",
        "rouge = PyRouge(rouge_n=(1, 2, 4), rouge_l=True, rouge_w=True,\n",
        "                rouge_w_weight=1.2, rouge_s=True, rouge_su=True, skip_gap=4)\n",
        "\n",
        "scores = rouge.evaluate_tokenized(hypotheses, references)\n",
        "print(scores)"
      ],
      "execution_count": 35,
      "outputs": [
        {
          "output_type": "stream",
          "text": [
            "{'rouge-1': {'r': 0.978530208772763, 'p': 0.003079236424830554, 'f': 0.006139154174588468}, 'rouge-2': {'r': 0.0, 'p': 0.0, 'f': 0.0}, 'rouge-4': {'r': 0.0, 'p': 0.0, 'f': 0.0}, 'rouge-l': {'r': 0.978530208772763, 'p': 0.003079236424830554, 'f': 0.006139154174588468}, 'rouge-w-1.2': {'r': 0.9820650268386798, 'p': 0.0030904016869661606, 'f': 0.0061614143875647655}, 'rouge-s4': {'r': 0.0, 'p': 0.0, 'f': 0.0}, 'rouge-su4': {'r': 0.0, 'p': 0.0, 'f': 0.0}}\n"
          ],
          "name": "stdout"
        }
      ]
    },
    {
      "cell_type": "code",
      "metadata": {
        "colab": {
          "base_uri": "https://localhost:8080/"
        },
        "id": "1espoF8BUrmk",
        "outputId": "a94e2f7a-8363-4436-c540-5c6377da4a1b"
      },
      "source": [
        "from fuzzywuzzy import fuzz\n",
        "for i in range(len(hypotheses)):\n",
        "  fuzz_ratio = fuzz.ratio(hypotheses[i],references[i])\n",
        "  print(fuzz_ratio)"
      ],
      "execution_count": 37,
      "outputs": [
        {
          "output_type": "stream",
          "text": [
            "39\n",
            "47\n",
            "68\n",
            "36\n",
            "48\n",
            "54\n",
            "82\n",
            "33\n",
            "43\n",
            "55\n"
          ],
          "name": "stdout"
        }
      ]
    }
  ]
}