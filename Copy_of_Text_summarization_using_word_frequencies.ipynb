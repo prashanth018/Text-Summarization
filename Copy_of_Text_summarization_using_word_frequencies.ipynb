{
  "nbformat": 4,
  "nbformat_minor": 0,
  "metadata": {
    "colab": {
      "name": "Copy of Text summarization using word frequencies.ipynb",
      "provenance": [],
      "include_colab_link": true
    },
    "kernelspec": {
      "name": "python3",
      "display_name": "Python 3"
    },
    "language_info": {
      "name": "python"
    }
  },
  "cells": [
    {
      "cell_type": "markdown",
      "metadata": {
        "id": "view-in-github",
        "colab_type": "text"
      },
      "source": [
        "<a href=\"https://colab.research.google.com/github/prashanth018/Text-Summarization/blob/Dyuthi/Copy_of_Text_summarization_using_word_frequencies.ipynb\" target=\"_parent\"><img src=\"https://colab.research.google.com/assets/colab-badge.svg\" alt=\"Open In Colab\"/></a>"
      ]
    },
    {
      "cell_type": "code",
      "metadata": {
        "colab": {
          "base_uri": "https://localhost:8080/"
        },
        "id": "w7nTxB9CVbg9",
        "outputId": "e051f2ce-00bb-481d-fbbc-564774f33c47"
      },
      "source": [
        "import pandas as pd\n",
        "import numpy as np\n",
        "import nltk\n",
        "import re\n",
        "import bs4 as bs\n",
        "import urllib.request\n",
        "import nltk\n",
        "nltk.download('punkt')"
      ],
      "execution_count": 1,
      "outputs": [
        {
          "output_type": "stream",
          "text": [
            "[nltk_data] Downloading package punkt to /root/nltk_data...\n",
            "[nltk_data]   Unzipping tokenizers/punkt.zip.\n"
          ],
          "name": "stdout"
        },
        {
          "output_type": "execute_result",
          "data": {
            "text/plain": [
              "True"
            ]
          },
          "metadata": {
            "tags": []
          },
          "execution_count": 1
        }
      ]
    },
    {
      "cell_type": "code",
      "metadata": {
        "colab": {
          "base_uri": "https://localhost:8080/"
        },
        "id": "RS9Qk0ynPVzi",
        "outputId": "2143a4fb-7300-430f-f14f-6858415a869c"
      },
      "source": [
        "!pip install rouge_metric"
      ],
      "execution_count": 2,
      "outputs": [
        {
          "output_type": "stream",
          "text": [
            "Collecting rouge_metric\n",
            "\u001b[?25l  Downloading https://files.pythonhosted.org/packages/bb/34/18ddbc94f65e8b45220b373b2ad2db6bef7549f4b00b4baaaaa47204be1a/rouge_metric-1.0.1-py3-none-any.whl (151kB)\n",
            "\r\u001b[K     |██▏                             | 10kB 11.7MB/s eta 0:00:01\r\u001b[K     |████▎                           | 20kB 16.5MB/s eta 0:00:01\r\u001b[K     |██████▌                         | 30kB 10.1MB/s eta 0:00:01\r\u001b[K     |████████▋                       | 40kB 8.0MB/s eta 0:00:01\r\u001b[K     |██████████▉                     | 51kB 4.5MB/s eta 0:00:01\r\u001b[K     |█████████████                   | 61kB 5.1MB/s eta 0:00:01\r\u001b[K     |███████████████▏                | 71kB 5.4MB/s eta 0:00:01\r\u001b[K     |█████████████████▎              | 81kB 5.9MB/s eta 0:00:01\r\u001b[K     |███████████████████▍            | 92kB 6.1MB/s eta 0:00:01\r\u001b[K     |█████████████████████▋          | 102kB 6.3MB/s eta 0:00:01\r\u001b[K     |███████████████████████▊        | 112kB 6.3MB/s eta 0:00:01\r\u001b[K     |██████████████████████████      | 122kB 6.3MB/s eta 0:00:01\r\u001b[K     |████████████████████████████    | 133kB 6.3MB/s eta 0:00:01\r\u001b[K     |██████████████████████████████▎ | 143kB 6.3MB/s eta 0:00:01\r\u001b[K     |████████████████████████████████| 153kB 6.3MB/s \n",
            "\u001b[?25hInstalling collected packages: rouge-metric\n",
            "Successfully installed rouge-metric-1.0.1\n"
          ],
          "name": "stdout"
        }
      ]
    },
    {
      "cell_type": "code",
      "metadata": {
        "colab": {
          "base_uri": "https://localhost:8080/"
        },
        "id": "GFaJdfCPPhlo",
        "outputId": "6edc3da4-988f-4d65-851d-1ed5069a63da"
      },
      "source": [
        "!pip install fuzzywuzzy"
      ],
      "execution_count": 3,
      "outputs": [
        {
          "output_type": "stream",
          "text": [
            "Collecting fuzzywuzzy\n",
            "  Downloading https://files.pythonhosted.org/packages/43/ff/74f23998ad2f93b945c0309f825be92e04e0348e062026998b5eefef4c33/fuzzywuzzy-0.18.0-py2.py3-none-any.whl\n",
            "Installing collected packages: fuzzywuzzy\n",
            "Successfully installed fuzzywuzzy-0.18.0\n"
          ],
          "name": "stdout"
        }
      ]
    },
    {
      "cell_type": "code",
      "metadata": {
        "colab": {
          "base_uri": "https://localhost:8080/"
        },
        "id": "7Eqg12AEPpPh",
        "outputId": "a9bf33ac-44e3-4465-fdc2-eb56fa0324f7"
      },
      "source": [
        "!pip install python-Levenshtein"
      ],
      "execution_count": 4,
      "outputs": [
        {
          "output_type": "stream",
          "text": [
            "Collecting python-Levenshtein\n",
            "\u001b[?25l  Downloading https://files.pythonhosted.org/packages/2a/dc/97f2b63ef0fa1fd78dcb7195aca577804f6b2b51e712516cc0e902a9a201/python-Levenshtein-0.12.2.tar.gz (50kB)\n",
            "\r\u001b[K     |██████▌                         | 10kB 11.7MB/s eta 0:00:01\r\u001b[K     |█████████████                   | 20kB 14.7MB/s eta 0:00:01\r\u001b[K     |███████████████████▌            | 30kB 9.4MB/s eta 0:00:01\r\u001b[K     |██████████████████████████      | 40kB 8.9MB/s eta 0:00:01\r\u001b[K     |████████████████████████████████| 51kB 2.8MB/s \n",
            "\u001b[?25hRequirement already satisfied: setuptools in /usr/local/lib/python3.7/dist-packages (from python-Levenshtein) (56.0.0)\n",
            "Building wheels for collected packages: python-Levenshtein\n",
            "  Building wheel for python-Levenshtein (setup.py) ... \u001b[?25l\u001b[?25hdone\n",
            "  Created wheel for python-Levenshtein: filename=python_Levenshtein-0.12.2-cp37-cp37m-linux_x86_64.whl size=149806 sha256=1f6a1d9084fc1a88d23da9c5dad110d3737b3ee7e257d9598bdba76d2a9957ca\n",
            "  Stored in directory: /root/.cache/pip/wheels/b3/26/73/4b48503bac73f01cf18e52cd250947049a7f339e940c5df8fc\n",
            "Successfully built python-Levenshtein\n",
            "Installing collected packages: python-Levenshtein\n",
            "Successfully installed python-Levenshtein-0.12.2\n"
          ],
          "name": "stdout"
        }
      ]
    },
    {
      "cell_type": "code",
      "metadata": {
        "id": "1qXSMlXyWxD3"
      },
      "source": [
        "def casefolding(sentence):\n",
        "    return sentence.lower()\n",
        "\n",
        "def cleaning(sentence):\n",
        "    return re.sub(r'[^a-z]', ' ', re.sub(\"’\", '', sentence))\n",
        "\n",
        "def tokenization(sentence):\n",
        "    return sentence.split()"
      ],
      "execution_count": 5,
      "outputs": []
    },
    {
      "cell_type": "code",
      "metadata": {
        "id": "Z9kX4e9PW1ym"
      },
      "source": [
        "def sentence_split(paragraph):\n",
        "    return nltk.sent_tokenize(paragraph)"
      ],
      "execution_count": 6,
      "outputs": []
    },
    {
      "cell_type": "code",
      "metadata": {
        "id": "m8yoTwAxW5zv"
      },
      "source": [
        "def word_freq(data):\n",
        "    w = []\n",
        "    for sentence in data:\n",
        "        for words in sentence:\n",
        "            w.append(words)\n",
        "    bag = list(set(w))\n",
        "    res = {}\n",
        "    for word in bag:\n",
        "        res[word] = w.count(word)\n",
        "    return res\n"
      ],
      "execution_count": 7,
      "outputs": []
    },
    {
      "cell_type": "code",
      "metadata": {
        "id": "fCch35rjPBPc"
      },
      "source": [
        "news = '''\n",
        "O'Sullivan could run in Worlds\n",
        "Sonia O'Sullivan has indicated that she would like to participate in next month's World Cross Country Championships in St Etienne.\n",
        "Athletics Ireland have hinted that the 35-year-old Cobh runner may be included in the official line-up for the event in France on 19-20 March. \n",
        "Provincial teams were selected after last Saturday's Nationals in Santry and will be officially announced this week. \n",
        "O'Sullivan is at present preparing for the London marathon on 17 April. \n",
        "The participation of O'Sullivan, currentily training at her base in Australia, would boost the Ireland team who won the bronze three years agio. \n",
        "The first three at Santry last Saturday, Jolene Byrne, Maria McCambridge and Fionnualla Britton, are automatic selections and will most likely form part of the long-course team. \n",
        "O'Sullivan will also take part in the Bupa Great Ireland Run on 9 April in Dublin. \n",
        "'''"
      ],
      "execution_count": 8,
      "outputs": []
    },
    {
      "cell_type": "code",
      "metadata": {
        "id": "fPAcvM_LXL-C"
      },
      "source": [
        "def summarize(news):\n",
        "  sentence_list = sentence_split(str(news))\n",
        "  data = []\n",
        "  for sentence in sentence_list:\n",
        "      data.append(tokenization(cleaning(casefolding(sentence))))\n",
        "  data = (list(filter(None, data)))\n",
        "  wordfreq = word_freq(data)\n",
        "  ranking = []\n",
        "  for words in data:\n",
        "      temp = 0\n",
        "      for word in words:\n",
        "          temp += wordfreq[word]\n",
        "      ranking.append(temp)\n",
        "  n = 2\n",
        "  result = ''\n",
        "  sort_list = np.argsort(ranking)[::-1][:n]\n",
        "  #print(sort_list)\n",
        "  for i in range(n):\n",
        "      result += '{} '.format(sentence_list[sort_list[i]])\n",
        "  return result"
      ],
      "execution_count": 9,
      "outputs": []
    },
    {
      "cell_type": "code",
      "metadata": {
        "id": "uRMu_JUSPGJf"
      },
      "source": [
        "result = summarize(news)\n",
        "hypotheses = list()\n",
        "hypotheses.append(result.split())"
      ],
      "execution_count": 10,
      "outputs": []
    },
    {
      "cell_type": "code",
      "metadata": {
        "id": "6ey859i5PLI0"
      },
      "source": [
        "actual_summary = '''\n",
        "The participation of O'Sullivan, currentily training at her base in Australia, would boost the Ireland team who won the bronze three years agio.\n",
        "O'Sullivan will also take part in the Bupa Great Ireland Run on 9 April in Dublin.\n",
        "O'Sullivan is at present preparing for the London marathon on 17 April.\n",
        "'''"
      ],
      "execution_count": 11,
      "outputs": []
    },
    {
      "cell_type": "code",
      "metadata": {
        "id": "Xe0B9JGKPNdE"
      },
      "source": [
        "references = list()\n",
        "references.append(actual_summary.split())"
      ],
      "execution_count": 12,
      "outputs": []
    },
    {
      "cell_type": "code",
      "metadata": {
        "colab": {
          "base_uri": "https://localhost:8080/"
        },
        "id": "eFzz7ZCuPPxK",
        "outputId": "0b4e58c7-bfa1-496e-f96d-dc9980a0bc07"
      },
      "source": [
        "from rouge_metric import PyRouge\n",
        "rouge = PyRouge(rouge_n=(1, 2, 4), rouge_l=True, rouge_w=True,\n",
        "                rouge_w_weight=1.2, rouge_s=True, rouge_su=True, skip_gap=4)\n",
        "scores = rouge.evaluate_tokenized(hypotheses, references)\n",
        "print(scores)"
      ],
      "execution_count": 13,
      "outputs": [
        {
          "output_type": "stream",
          "text": [
            "{'rouge-1': {'r': 0.9718875502008032, 'p': 0.019689203482222764, 'f': 0.03859649122807018}, 'rouge-2': {'r': 0.8585858585858586, 'p': 0.013888888888888888, 'f': 0.027335584499115613}, 'rouge-4': {'r': 0.7037037037037037, 'p': 0.006261328060636019, 'f': 0.012412216233872285}, 'rouge-l': {'r': 0.9718875502008032, 'p': 0.019689203482222764, 'f': 0.03859649122807018}, 'rouge-w-1.2': {'r': 0.7270575698607228, 'p': 0.01518870040037385, 'f': 0.029755783342781447}, 'rouge-s4': {'r': 0.9182282793867121, 'p': 0.008881199538638985, 'f': 0.01759224505116112}, 'rouge-su4': {'r': 0.9312101910828026, 'p': 0.010023310023310023, 'f': 0.019833141151733024}}\n"
          ],
          "name": "stdout"
        }
      ]
    },
    {
      "cell_type": "code",
      "metadata": {
        "colab": {
          "base_uri": "https://localhost:8080/"
        },
        "id": "y3aGezKfPdpE",
        "outputId": "22f7a1c0-4306-4939-d5cb-89a58bf399e2"
      },
      "source": [
        "from fuzzywuzzy import fuzz\n",
        "fuzz_ratio = fuzz.ratio(result, actual_summary)\n",
        "fuzz_ratio"
      ],
      "execution_count": 16,
      "outputs": [
        {
          "output_type": "execute_result",
          "data": {
            "text/plain": [
              "71"
            ]
          },
          "metadata": {
            "tags": []
          },
          "execution_count": 16
        }
      ]
    },
    {
      "cell_type": "code",
      "metadata": {
        "id": "gCaQ6EJ8RAOV",
        "colab": {
          "resources": {
            "http://localhost:8080/nbextensions/google.colab/files.js": {
              "data": "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",
              "ok": true,
              "headers": [
                [
                  "content-type",
                  "application/javascript"
                ]
              ],
              "status": 200,
              "status_text": ""
            }
          },
          "base_uri": "https://localhost:8080/",
          "height": 72
        },
        "outputId": "5ce2d34a-c9d3-40f8-eb76-cf65971af0dd"
      },
      "source": [
        "#for BBC Dataset\n",
        "from google.colab import files\n",
        "uploaded = files.upload()"
      ],
      "execution_count": 17,
      "outputs": [
        {
          "output_type": "display_data",
          "data": {
            "text/html": [
              "\n",
              "     <input type=\"file\" id=\"files-45eda4c7-3d1d-4d96-be5a-8c464276f744\" name=\"files[]\" multiple disabled\n",
              "        style=\"border:none\" />\n",
              "     <output id=\"result-45eda4c7-3d1d-4d96-be5a-8c464276f744\">\n",
              "      Upload widget is only available when the cell has been executed in the\n",
              "      current browser session. Please rerun this cell to enable.\n",
              "      </output>\n",
              "      <script src=\"/nbextensions/google.colab/files.js\"></script> "
            ],
            "text/plain": [
              "<IPython.core.display.HTML object>"
            ]
          },
          "metadata": {
            "tags": []
          }
        },
        {
          "output_type": "stream",
          "text": [
            "Saving BBCDataset.csv to BBCDataset.csv\n"
          ],
          "name": "stdout"
        }
      ]
    },
    {
      "cell_type": "code",
      "metadata": {
        "id": "zineAYi5RA3Z"
      },
      "source": [
        "import pandas as pd\n",
        "\n",
        "# Run summarization\n",
        "dataset = pd.read_csv('BBCDataset.csv', encoding ='cp1252')\n",
        "story = dataset['story'].iloc[0:30]\n",
        "original_summary  = dataset['Summary'].iloc[0:30]"
      ],
      "execution_count": 19,
      "outputs": []
    },
    {
      "cell_type": "code",
      "metadata": {
        "id": "OVxkmMVFSmfR"
      },
      "source": [
        "summary_list = list()\n",
        "for news in story:\n",
        "  #print(news)\n",
        "  #print('...............')\n",
        "  result = summarize(news)\n",
        "  summary_list.append(result)"
      ],
      "execution_count": 20,
      "outputs": []
    },
    {
      "cell_type": "code",
      "metadata": {
        "id": "3zKc4sgKRQrZ",
        "colab": {
          "base_uri": "https://localhost:8080/"
        },
        "outputId": "5755f59c-766c-487c-a69e-6d33d3ce3710"
      },
      "source": [
        "hypotheses = list()\n",
        "hypotheses = summary_list\n",
        "hypotheses"
      ],
      "execution_count": 21,
      "outputs": [
        {
          "output_type": "execute_result",
          "data": {
            "text/plain": [
              "['She will also run in the Grand Prix in Birmingham in February and may defend her indoor AAA 800m title in Sheffield earlier that month. She added: \"These events are also a great opportunity to thank the British public for the enormous levels of support they have given me from the moment I stepped off that plane from Greece.\" ',\n",
              " 'The IAAF - which said it was \"very surprised\" by the decision of the Greek tribunal - is deciding whether to appeal against the decision at the Court of Arbitration for Sport. However, Dick Pound, the chairman of the World Anti-Doping Authority, has said he will appeal against the decision if the IAAF does not. ',\n",
              " \"The return to fitness of Darius Vassell after four months out with a broken ankle and the emergence of Luke Moore has alleviated some of the Villa's manager's problems in that department. Cole, who also struggled with an ankle problem earlier in the season, was unable to rest because O'Leary had a shortage of strikers. \",\n",
              " '\"This award is not just for me, but for all my friends, family and the people who have helped me to get to this level in my sport.\" Relay squad thrilled with honours\\n\\nJason Gardener says being made an MBE in the New Year Honours List underlines the achievement of Great Britain\\'s 4x100m relay squad at the Olympics. ',\n",
              " 'The balance of power changed completely in the third set as Hewitt allowed his level to dip, and he double-faulted twice as Nalbandian broke on the way to taking the fourth set. But the tiring third seed showed incredible reserves of strength to force the break despite being outplayed for much of the final set and three times coming within two points of defeat. ',\n",
              " '\"Its great to have nice, new surroundings, but if the team aren\\'t performing on the pitch, then there isn\\'t great respect in having a fabulous stadium,\" he said. The club\\'s managing director, Keith Edelman, stressed that the development of their new Â£350m stadium had no affect on Wenger\\'s spending power. ',\n",
              " \"Koubek, who defeated Britain's Greg Rusedski in the decisive rubber of the Davis Cup in September, is now set to miss the start of the season. Koubek believes an injection given to him by an Austrian doctor to treat a wrist injury is to blame for producing traces of the substance in his system. \",\n",
              " '\"At the end I think I was a little bit fatigued but she took advantage of it and kept going - she\\'s a great frontrunner when she gets going.\" \"Then I just had that horrible lapse, I think serving up 40-0, and made a few errors and opened up the door for her and she just kept going through it. ',\n",
              " 'Kolo Toure\\'s late goal gives the Gunners hope for the second leg, but Wenger said: \"The only positive is that we are still in the tie. Wenger dejected as Arsenal slump\\n\\nArsenal manager Arsene Wenger claimed their display in the 3-1 defeat against Bayern Munich was \"our worst peformance in the Champions League\". ',\n",
              " '\"As well as the Rugby Football Union, the league, the individual club and the England coaching team have a say, so it\\'s not a quick decision,\" he said. Farrell saga to drag on - Lindsay\\n\\nWigan chairman Maurice Lindsay says he does not expect a quick solution to the on-going saga of captain Andy Farrell\\'s possible switch to rugby union. ',\n",
              " \"Roche 'turns down Federer offer'\\n\\nAustralian tennis coach Tony Roche has turned down an approach from Roger Federer to be the world number one's new full-time coach, say reports. Roche, a former Davis Cup player for Australia, won the French Open, reached the Wimbledon and US Open finals and won five Wimbledon doubles titles with John Newcombe. \",\n",
              " 'Jay-Jay Okocha twisted and turned on the edge of the area and after a neat exchange of passes involving Kevin Davies and Gary Speed, the Greek striker found the bottom corner with a first-time strike. But the home side survived, and they should have re-taken the lead with the first meaningful attack of the second half. ',\n",
              " \"The 29-year-old has finished second to Paula Radcliffe in the 2002 and 2003 London races as well as in November's New York City marathon. London hope over Chepkemei\\n\\nLondon Marathon organisers are hoping that banned athlete Susan Chepkemei will still take part in this year's race on 17 April. \",\n",
              " '\"In coming to a decision on this case, Chelsea believed the club\\'s social responsibility to its fans, players, employees and other stakeholders in football regarding drugs was more important than the major financial considerations to the company. \"Fifa is not in a position to make any comment on the matter until the English FA have informed us of their disciplinary decision and the relevant information associated with it,\" said a Fifa spokesman. ',\n",
              " '\"I know I\\'m fit enough, I\\'m strong enough, I\\'m skilful enough.\" Dawson played a vital part in England\\'s World Cup win last year but has fallen out of favour with new coach Andy Robinson after missing a training session in September. ',\n",
              " \"He is one of the few African runners who has embraced the tradition of the mile and he loves to hear all the Roger Bannister stories. The victory for the British men's 4x100m relay team was a bit of a surprise but a great climax to the Games. \",\n",
              " \"The Wasps flanker replaces Denis Leamy but O'Connor knows that the Munster man will be pushing hard for a recall for the following game against England. And his reputation as a breakdown scavenger and heavy hitter has seen him come to the forefront of O'Sullivan's mind for the Scottish tussle. \",\n",
              " 'Marca\\'s headline says it all: \"Wayne Rooney se volvi&#243; loco en el Bernab&#233;u (Wayne Rooney became crazy in the Bernabeu)\" Rooney\\'s display alarms the writer, in particular three \"chilling\" fouls on Joaquin, Casillas and Marchena, which \"could well have left them in the infirmary.\" Marca refers in passing to the booing of England\\'s black players - but only after referring to the cheers of \"ole\" which greeted the long periods of Spanish possession. ',\n",
              " 'Tulu to appear at Caledonian run\\n\\nTwo-time Olympic 10,000 metres champion Derartu Tulu has confirmed she will take part in the BUPA Great Caledonian Run in Edinburgh on 8 May. \"We are delighted to have secured the services of one the most decorated competitors the sport has ever seen,\" said race director Matthew Turnbull. ',\n",
              " 'But he said: \"All I can tell you is that the chairman has worked really hard in the last couple of months to try to do deals. \"We have said from day one we want to strengthen, and that is what we are hoping to do in the coming weeks.\" ',\n",
              " 'But Woodward added: \"The key thing that I want to stress is that I intend to use the Six Nations and the players who are available to international rugby as the key benchmark. \"I am told he should be back playing by March and he has plenty of time to prove his fitness for the Lions - and there are other players like Richard Hill in the same boat.\" ',\n",
              " 'Everton\\'s Weir cools Euro hopes\\n\\nEverton defender David Weir has played down talk of European football, despite his team lying in second place in the Premiership after beating Liverpool. \"Also injuries and suspensions haven\\'t cost us too badly and we have a lot of self-belief around the place.\" ',\n",
              " 'Rochus shocks Coria in Auckland\\n\\nTop seed Guillermo Coria went out of the Heineken Open in Auckland on Thursday with a surprise loss to Olivier Rochus of Belgium. Coria lost the semi-final 6-4 6-4 to Rochus, who goes on to face Czech Jan Hernych, a 6-4 7-5 winner over Jose Acasuso of Argentina. ',\n",
              " \"The Livi striker ignored the pass, however, and Dair ran on to it and played Easton in at the back post and he headed home from close range. McAllister himself scored the second when he met Saul Mikoliunas' cross at the back post to put the game beyond the visitors. \",\n",
              " 'His contribution follows pledges by four other players to donate their prize money from the tournament, which went ahead after the 26 December disaster which has so far claimed at least 150,000 lives. The Spaniard then donated his Â£28,000 prize money to relief efforts for the victims of the Asian tsunami. ',\n",
              " '\"As far as I\\'m concerned, that incident and Mark Cueto\\'s effort from Charlie Hodgson\\'s cross-field kick that led to what looked like a good try were the two key elements in the game.\" The Wasps wing insisted he grounded the ball when he was bundled over the line and said referee Jonathan Kaplan had made a wrong decision. ',\n",
              " 'Scotland doctor James Robson said: \"A scan has shown damage to the medial ligaments of Scott\\'s right knee ruling him out of the first part of the Championship. \"We have got plenty of good, young players coming through and we have got to look at the opportunities it represents for them, rather than the negatives,\" Williams added. ',\n",
              " 'Scotland finally made the most of a rare foray into the Italian half and snatched three points from Paterson when an Italian forward handled the ball in a ruck. R de Marigny; Mirco Bergamasco, C Stoica, A Masi, L Nitoglia; L Orquera, A Troncon; A Lo Cicero, F Ongaro, M Castrogiovanni; S Dellape, M Bortolami (capt); A Persico, D Dal Maso, S Parisse. ',\n",
              " \"Coyne (Burnley), Jones (Wolves), Roberts (Wrexham), Collins (Sunderland), Edwards (Wolves), Gabbidon (Cardiff), Page (Cardiff), Partridge (Motherwell), Ricketts (Swansea), Roberts (Tranmere), Weston (Cardiff), Davies (Tottenham), Fletcher (West Ham), Giggs (Man Utd), Koumas (West Brom), Robinson (Sunderland), Savage (Blackburn), Williams (West Ham), Bellamy (Newcastle), Earnshaw (West Brom), Hartson (Celtic). There were also doubts over Gabbidon's fellow Cardiff defender Rhys Weston, but the full-back appears to have shrugged off the knock he picked up in the Bluebirds' 1-0 loss to West Ham on Sunday. \",\n",
              " '\"Then finally [the coach] called my parents up and said \\'the way she hits the ball, I\\'ve never seen a six-year-old hit a ball like that\\',\" Mirza told the Associated Press. Serena ends Sania Mirza\\'s dream\\n\\nSania Mirza, the first Indian woman to reach the third round of a Grand Slam tennis event, has lost to women\\'s favourite Serena Williams. ']"
            ]
          },
          "metadata": {
            "tags": []
          },
          "execution_count": 21
        }
      ]
    },
    {
      "cell_type": "code",
      "metadata": {
        "colab": {
          "base_uri": "https://localhost:8080/"
        },
        "id": "Zi52IdqqTPr_",
        "outputId": "2cf2547c-baad-4ba7-dcda-7f90ca0b3067"
      },
      "source": [
        "references = list()\n",
        "for i in original_summary:\n",
        "  references.append(i)\n",
        "references"
      ],
      "execution_count": 22,
      "outputs": [
        {
          "output_type": "execute_result",
          "data": {
            "text/plain": [
              "[\"Holmes will make her first track appearance on home soil since winning double Olympic gold in January's Norwich Union International in Glasgow.The Glasgow meeting will see Holmes compete over 1500m in a five-way match against Sweden, France, Russia and Italy.She will also run in the Grand Prix in Birmingham in February and may defend her indoor AAA 800m title in Sheffield earlier that month.\",\n",
              " 'Thanou, 30, was provisionally suspended for missing a test before the Olympics, but the decision was overturned.The IAAF - which said it was \"very surprised\" by the decision of the Greek tribunal - is deciding whether to appeal against the decision at the Court of Arbitration for Sport.Greek sprinter Katerina Thanou says she is eager to compete again after being cleared of missing a drugs test by an independent Greek tribunal.Thanou, 30, and her compatriot Kostas Kenteris were provisionally suspended by the IAAF in December for missing three drugs tests.\"The IAAF will decide if we can compete again in Greece and abroad,\" Thanou told To Vima newspaper in her first interview since the Athens Olympics.\"I cannot deny that we made a lot of mistakes during that time.I cannot risk everything I\\'ve achieved in such a silly way.\"',\n",
              " 'Aston Villa\\'s Carlton Cole could be out for six weeks with a knee injury.The return to fitness of Darius Vassell after four months out with a broken ankle and the emergence of Luke Moore has alleviated some of the Villa\\'s manager\\'s problems in that department.\"Carlton will be out of action for four to six weeks after a bad challenge,\" said Villa boss David O\\'Leary.',\n",
              " '\"I think this award reinforces what we did on that fantastic night,\" he said.\"Winning the gold medal was the highlight of my athletics career so far,\" said the Birchfield Harrier.\"Of course this award is very special, but for me nothing will ever take away winning an Olympic gold medal.\"I think the MBE is important because the people closest to me know my journey,\" said the Newport-based athlete.Life since then has been fantastic.\"\"This recognition is really inspiring and makes me want to have more success,\" said Lewis-Francis.Gardener, Darren Campbell, Marlon Devonish and Mark Lewis-Francis have all been awarded MBEs after beating pre-race favourites USA to gold.And when the USA stumbled with a poor switch between Justin Gatlin and Coby Miller at the 300m stage, Britain edged ahead going into the final bend.',\n",
              " 'Ninth seed Nalbandian had never come back from two sets down to win a match, and there was no indication he would do so as Hewitt dominated the first two sets.The balance of power changed completely in the third set as Hewitt allowed his level to dip, and he double-faulted twice as Nalbandian broke on the way to taking the fourth set.But Nalbandian broke his serve three times in both of the next two sets to set up a nailbiting decider.It was always tough serving second in the fifth set,\" said Hewitt, who had never reached the last four at his home Grand Slam.And he had words with Hewitt during one change of ends in the second set when the Australian appeared to brush shoulders with him as they went to their chairs.Hewitt eventually grabbed the vital break in the 17th game and served out to win 6-3 6-2 1-6 3-6 10-8 and set up a meeting with Andy Roddick.It\\'s set up for a pretty good showdown in the semis and finals.\"',\n",
              " 'Edelman added that it was pointless having a brand new stadium if the team did not match the surroundings.\"It\\'s important that we had sufficient funds for our team in place, before we began on the stadium.\"\"Its great to have nice, new surroundings, but if the team aren\\'t performing on the pitch, then there isn\\'t great respect in having a fabulous stadium,\" he said.Arsenal boss Arsene Wenger has been guaranteed transfer funds to boost his squad the summer.',\n",
              " 'He said, \"A three-month ban would mean that I not only will miss the Australian Open, but also the Davis Cup in Australia.\"Koubek, who defeated Britain\\'s Greg Rusedski in the decisive rubber of the Davis Cup in September, is now set to miss the start of the season.Koubek believes an injection given to him by an Austrian doctor to treat a wrist injury is to blame for producing traces of the substance in his system.',\n",
              " '\"I kept thinking to myself \\'I\\'m not losing this game,\" said Williams afterwards.Davenport took advantage to race through the opening set and held six break points in game five of the second.Williams later explained her injury problem, saying it was the result of lunging for a ball early in the first set.She quickly dropped the first set but from 3-3 in the second found another gear as Davenport\\'s game collapsed, allowing Williams to take the title.Williams won nine consecutive points for the set and powered through the decider as a lacklustre Davenport looked to have run out of energy after a gruelling two weeks.Davenport paid tribute to Williams, saying: \"She\\'s had a tough couple of years and she\\'s come back like a champion.\"Serena Williams staged a remarkable recovery to beat Lindsay Davenport and win her second Australian Open title.\"At the end I think I was a little bit fatigued but she took advantage of it and kept going - she\\'s a great frontrunner when she gets going.\"',\n",
              " 'Arsenal keeper Jens Lehmann, whose personal rivalry with Bayern goalkeeper Oliver Kahn was not helped by the result, said: \"Do I blame myself for the third goal?Kolo Toure\\'s late goal gives the Gunners hope for the second leg, but Wenger said: \"The only positive is that we are still in the tie.\"It would have been impossible to go through at 3-0 - but with the goal we have chances.My players failed to try and score a fourth to kill the tie and then conceded the late goal.\"I just know the goals were very easy against us.\"Arsenal are fully capable of scoring several goals against us on their own turf.\"In my time here, we have never conceded three easy goals like that - but sometimes it happens.Goalscorer Toure was also at fault for two goals, and Wenger said: \"We need to help Toure rebuild his confidence as he is low at the moment.\"',\n",
              " 'Although the move would be a lucrative one for both Farrell and Wigan, Lindsay said money was not a motivating factor for the club.Lindsay also said he understood why rugby union was so interested in signing up Farrell.\"As well as the Rugby Football Union, the league, the individual club and the England coaching team have a say, so it\\'s not a quick decision,\" he said.\"But he\\'s a very loyal friend to the club, so there\\'s no question that he\\'s deserting us.Wigan chairman Maurice Lindsay says he does not expect a quick solution to the on-going saga of captain Andy Farrell\\'s possible switch to rugby union.\"A shortage of money has never been a problem for us.\"It came as a bolt out of the blue to us,\" admitted Lindsay.Leicester and Saracens are leading the chase for the player, but Lindsay told the BBC it was not yet a done deal.',\n",
              " \"Australian tennis coach Tony Roche has turned down an approach from Roger Federer to be the world number one's new full-time coach, say reports.Federer has been without a coach since splitting with Peter Lundgren in 2003.Some reports claim Federer initially wanted Andre Agassi's Australian coach Darren Cahill, before Agassi confirmed he would play on in 2005.However, Roche is happy to work with the Swiss star on a casual basis and is helping him prepare for next month's defence of his Australian Open crown.\",\n",
              " 'Goals: Bowyer 35, Dyer 69.But the home side survived, and they should have re-taken the lead with the first meaningful attack of the second half.Bolton: Jaaskelainen, Hunt (Fadiga 14), N\\'Gotty, Ben Haim, Candela, Giannakopoulos, Okocha (Vaz Te 77), Hierro (Campo 64), Speed, Gardner, Davies.Alan Shearer\\'s snap-shot was charged down and Dyer reacted first to smash the ball past the despairing Jaaskelainen from six yards.Goals: Giannakopoulos 41.Bolton were creating little going forward and they seemed content to frustrate the Magpies.\"In the first half we had put them under a lot of pressure, and our goal matched theirs in quality.Lee Bowyer put Newcastle ahead when he fed Stephen Carr on the right flank, then sprinted into the area to power home a header from the resultant cross.But Dyer had the last word in a game of few chances, pouncing on a loose ball after Alan Shearer\\'s shot was blocked and firing into the top corner.Newcastle: Given, Carr, Boumsong, Bramble, Babayaro, Dyer, Faye, Bowyer, Robert (Jenas 77), Ameobi, Shearer.\"We had a slow first 45 minutes when we looked a bit tired but we got going after that.Kieron Dyer smashed home the winner to end Bolton\\'s 10-game unbeaten run.Bolton had produced little going forward at this point but they responded well.Fernando Hierro cynically chopped down Dyer on the edge of the area with the midfielder clean through.Bolton keeper Jussi Jaaskelainen had to make two saves in quick succession midway through the first-half - keeping out Shearer\\'s low shot and Dyer\\'s close-range header - but that was the only goalmouth action of note.',\n",
              " \"London Marathon organisers are hoping that banned athlete Susan Chepkemei will still take part in this year's race on 17 April.Chepkemei however took part and finished third in last Sunday's world best 10K race in Puerto Rico.The 29-year-old has finished second to Paula Radcliffe in the 2002 and 2003 London races as well as in November's New York City marathon.\",\n",
              " 'It emerged that Mutu had failed a drugs test on October 18 and, although it was initially reported that the banned substance in question was cocaine.Chelsea have sacked Adrian Mutu after he failed a drugs test.\"In coming to a decision on this case, Chelsea believed the club\\'s social responsibility to its fans, players, employees and other stakeholders in football regarding drugs was more important than the major financial considerations to the company.The Football Association has yet to act on Mutu\\'s failed drugs test and refuses to discuss his case.\"It is a very clear stance by Chelsea and it has given a strong boost to the reputation of the club.\"A statement from Chelsea explaining the decision read:\"We want to make clear that Chelsea has a zero tolerance policy towards drugs.\"\"Any player who takes drugs breaches his contract with the club as well as Football Association rules.\"It was a very difficult decision for them and an expensive decision for them but the terms of his contract were breached and it was the only decision they could make.And the sport\\'s world governing body has re-iterated their stance over Mutu\\'s failed drugs test, maintaining it is a matter for the domestic sporting authorities.',\n",
              " 'European champions Wasps are set to offer Matt Dawson a new deal.\"I\\'m very happy with his contribution and I think he\\'s good enough to play for another couple of years.\"Wasps coach Warren Gatland told the Daily Mirror: \"We have not yet offered Matt a new contract but we will be doing so.However he hopes the new deal will help him regain his England place.',\n",
              " 'And it was a bit of a rarity for me too because I genuinely did not have an inkling how the race was going to pan out.Dropping out of the marathon was the right thing to do but starting in the 10,000m five days later was not wise.It was such good fun to commentate on her 1500m and it was nice to be able to be part of her Athens story.One of my favourite Olympic moments was Kelly\\'s success in the 800m.Winning that race was the key to her success because if she won that then the 1500m would be a bit of a formality.So to have an Australian come up and deliver such a surprise was something special.The victory for the British men\\'s 4x100m relay team was a bit of a surprise but a great climax to the Games.That was her heart and not her head reacting.He was the first man since for 80 years to win both the 1500m and 5,000m titles.And one of the positive things to come out of Balco is people are starting to blow the whistle.It was also a real delight for all athletics fans because, to use one of my favourite words, Paula showed real \"bouncebackability\".The thing is if we don\\'t have athletes getting into the finals at junior level then it really doesn\\'t look good for the Beijing Olympics and beyond.What happened to Paula in Athens this year is the obvious low on a personal level and for the expectations of the nation as well.The only individual men\\'s finalist on the track was Michael East in the 1500m.Dani Barnes came fourth in the 1500m and she was the highest finisher for Team GB.Paula had a lot of little things going wrong in her preparation and on the day.The lads had run poorly in the individual sprints so maybe they did lift their game when they knew something was really at stake.Well, it\\'s goodbye to another Olympic year and as usual there were plenty of highs and lows in Athens.And that\\'s where things begin to look even gloomier for British athletics as we did not win any medals at the world junior championships in Italy.',\n",
              " 'O\\'Connor will be winning his third cap after making his debut in the victory over South Africa last November.Nonetheless, all O\\'Connor is currently concerned about is making an impression while winning his third cap.The Wasps flanker replaces Denis Leamy but O\\'Connor knows that the Munster man will be pushing hard for a recall for the following game against England.\"It\\'s a \\'horses for courses\\' selection really,\" said O\\'Connor.O\\'Connor added: \"It will be interesting to see how situations on the deck is reffed, with the new laws having come in.O\\'Connor, who celebrated his 25th birthday on Wednesday, was touted by Wasps director of rugby Warren Gatland as a possible 2005 Lions Test openside as far back as last September.',\n",
              " 'Aragones\\' \"no comment\" to questions about racism after the match is also highlighted, as Marca focuses on the Spanish coach\\'s praise for his players.This hasn\\'t happened in the Spanish league and Spain for many years,\" said Spanish Federation press officer Fernando Garrido.But what did the Spanish press make of the affair?Elsewhere, the Spanish media criticises its English counterparts for stoking up the racism issue.And Spanish daily ABC accuses English reporters of launching a witch-hunt against Aragones.Marca refers in passing to the booing of England\\'s black players - but only after referring to the cheers of \"ole\" which greeted the long periods of Spanish possession.Controversy was in no short supply, with racist abuse of England\\'s black players, Wayne Rooney\\'s petulance and England\\'s inept performance.On a controversial evening, AS offers one seemingly undeniable viewpoint: \"Spanish football players played better football than the English.\"\"What the boy in the Bernabeu did was odd... Rooney seemed intent to kick any Spanish player who approached him.\"England\\'s 1-0 defeat to Spain on Wednesday dominated the back and front pages of the country\\'s press on Thursday.But AS does cover the English reaction to the pre-match comments from Spain coach Luis Aragones, who highlighted Britain\\'s colonial past when probed about his own remarks regarding Thierry Henry in October.',\n",
              " 'Two-time Olympic 10,000 metres champion Derartu Tulu has confirmed she will take part in the BUPA Great Caledonian Run in Edinburgh on 8 May.Tulu has won the Boston, London and Tokyo Marathons, as well as the world 10,000m title in 2001.\"We are delighted to have secured the services of one the most decorated competitors the sport has ever seen,\" said race director Matthew Turnbull.',\n",
              " 'Babayaro has been in the Premiership since 1997 when he moved to Chelsea for Â£2.25m from Anderlecht.Newcastle manager Graeme Souness is closing in on signing Chelsea defender Celestine Babayaro when the transfer window reopens.But he said: \"All I can tell you is that the chairman has worked really hard in the last couple of months to try to do deals.',\n",
              " 'But Woodward added: \"The key thing that I want to stress is that I intend to use the Six Nations and the players who are available to international rugby as the key benchmark.\"But I would have to have a compulsive reason to pick any player who is not available to international rugby.\"\"Every player has to be looked at on their own merits and Simon Taylor is an outstanding player and I have no doubts that if he gets back to full fitness he will be on the trip.\"I think it\\'s absolutely critical and with the history of the Lions we have got to take players playing for the four countries.\"British and Irish Lions coach Clive Woodward says he is unlikely to select any players not involved in next year\\'s RBS Six Nations Championship.As a result, Woodward stressed his Lions group might not be dominated by players from England and Ireland and held out hope for the struggling Scots.\"I am told he should be back playing by March and he has plenty of time to prove his fitness for the Lions - and there are other players like Richard Hill in the same boat.\"\"If you are not playing international rugby then it\\'s still a step up to Test rugby.And following the All Blacks\\' impressive displays in Europe in recent weeks, including a 45-6 humiliation of France, Woodward believes the three-test series in New Zealand will provide the ultimate rugby challenge.Dallaglio, Back and Johnson have all retired from international rugby over the last 12 months but continue to star for their club sides.',\n",
              " 'Everton defender David Weir has played down talk of European football, despite his team lying in second place in the Premiership after beating Liverpool.\"I think you start taking your eye off the ball if you make statements and look too far into the future.\"If you start making predictions you soon fall back into trouble.\"Also injuries and suspensions haven\\'t cost us too badly and we have a lot of self-belief around the place.\"',\n",
              " 'Top seed Guillermo Coria went out of the Heineken Open in Auckland on Thursday with a surprise loss to Olivier Rochus of Belgium.Coria lost the semi-final 6-4 6-4 to Rochus, who goes on to face Czech Jan Hernych, a 6-4 7-5 winner over Jose Acasuso of Argentina.Coria conceded that Rochus \"played just too good,\" and added: \"When you give your best out there you can\\'t be too sad.\"Rochus made the semi-finals at the Australian hardcourt championships in Adelaide last week and is naturally delighted with his form.',\n",
              " \"Meldrum, McNamee, Bahoken (Stanic 45), Deloumeaux, Strong, Dair, Easton, Mark Wilson (Vincze 45), Lilley (Horvath 45), O'Brien, McPake.The Livi striker ignored the pass, however, and Dair ran on to it and played Easton in at the back post and he headed home from close range.Miller 1, McAllister 10.Mikoliunas sprinted down the right, crossed to the back post where McAllister raced in to head past Meldrum.McAllister floated the free kick into the Livi box and Miller outjumped the static visiting defence to loop his header from 10 yards over Meldrum.Gordon, Webster, Miller, Hartley, Neilson, McAllister, Simmons (MacFarlane 64), Berra, Burchill (Wyness 82), Mikoliunas (Cesnauskis 77), Wallace.The opening goal came after Gus Bahoken had clumsily fouled Miller 35 yards from goal.Lee Miller scored inside the opening 60 seconds, heading over Colin Meldrum and into the net from a Jamie McAllister free kick.McAllister himself scored the second when he met Saul Mikoliunas' cross at the back post to put the game beyond the visitors.Craig Easton headed in a controversial goal after an hour but Hearts held on.The home side called for offside against McPake but referee Alan Freeland ignored their claims and pointed to the centre-circle.The impressive Mikoliunas twice went close before half time - a low drive was comfortably gathered by Meldrum and then he curled a left-footed shot past the keeper's right-hand post.\",\n",
              " 'The ATP has announced that it would contribute the US$25,000 tournament fee to Unicef\\'s emergency relief fund in Tamil Nadu.Moya confirmed afterwards: \"I\\'m donating my prize money from this tournament for the tsunami victims, hoping it makes some difference to their lives.The Spaniard then donated his Â£28,000 prize money to relief efforts for the victims of the Asian tsunami.His contribution follows pledges by four other players to donate their prize money from the tournament, which went ahead after the 26 December disaster which has so far claimed at least 150,000 lives.',\n",
              " '\"I was driven over and I put the ball on the ground.The whistle went and I let go of the ball.\"The Wasps wing insisted he grounded the ball when he was bundled over the line and said referee Jonathan Kaplan had made a wrong decision.\"I don\\'t think I could have been offside for, without a doubt, I was behind the ball,\" said the Sale player.\"The move was a planned technique, it was not off the cuff.Cueto was also puzzled as to why his try had been disallowed by Kaplan.',\n",
              " 'Another potential option, Glasgow flanker Andrew Wilson, has been ruled out for a month after damaging ligaments in both knees against Northampton recently.The Borders flanker has a knee injury and joins Donnie Macfadyen and Allister Hogg on the sidelines.Scotland doctor James Robson said: \"A scan has shown damage to the medial ligaments of Scott\\'s right knee ruling him out of the first part of the Championship.Star number eight Simon Taylor will miss at least the first two games after damaging an ankle during his comeback.Scotland\\'s back row crisis has worsened ahead of the RBS Six Nations with news that Scott Gray will miss out on the opening matches.',\n",
              " \"And Scotland capitalised with a third Paterson penalty on 50 minutes.Paterson slotted four more second-half penalties and Scotland were denied a try when wing Sean Lamont's touchdown was ruled out for a forward pass.Scotland defended the initial thrusts but on 20 minutes Italy, after coming up yards short of the line, equalised through a De Marigny penalty.Six Chris Paterson penalties gave Scotland victory in a dour but clinical encounter against Italy at Murrayfield.Italy were offered another penalty when Scottish flanker Simon Taylor was offside but the left-footed De Marigny pushed his kick wide.Another Paterson penalty on 70 minutes kept the pressure on the wilting visitors.With the pendulum of possession swinging towards Scotland, Lamont thought he had wriggled over in the left corner after 65 minutes but play was recalled for a marginal forward pass from Paterson.Scotland came out on top of the early exchanges and took a quick 3-0 lead through the boot of full-back Paterson.Scotland finally made the most of a rare foray into the Italian half and snatched three points from Paterson when an Italian forward handled the ball in a ruck.\",\n",
              " \"Coyne (Burnley), Jones (Wolves), Roberts (Wrexham), Collins (Sunderland), Edwards (Wolves), Gabbidon (Cardiff), Page (Cardiff), Partridge (Motherwell), Ricketts (Swansea), Roberts (Tranmere), Weston (Cardiff), Davies (Tottenham), Fletcher (West Ham), Giggs (Man Utd), Koumas (West Brom), Robinson (Sunderland), Savage (Blackburn), Williams (West Ham), Bellamy (Newcastle), Earnshaw (West Brom), Hartson (Celtic).There were also doubts over Gabbidon's fellow Cardiff defender Rhys Weston, but the full-back appears to have shrugged off the knock he picked up in the Bluebirds' 1-0 loss to West Ham on Sunday.Defenders Danny Gabbidon and Gareth Roberts, plus Ryan Giggs have hamstring concerns, while there are also doubts over Robbie Savage (groin).West Ham's Gavin Williams (ankle) looks certain to be out, so uncapped Wrexham defender Stephen Roberts is drafted in.\",\n",
              " 'Sania Mirza, the first Indian woman to reach the third round of a Grand Slam tennis event, has lost to women\\'s favourite Serena Williams.I was confident but I didn\\'t think it was going to be that easy,\" Mirza said after her second round win.\"My aim was to win a round here.Mirza, a junior Wimbledon doubles title winner, became the first Indian woman to reach the third round of a grand slam tennis event when she beat Hungarian Petra Mandula on Wednesday.The 18-year-old Mirza, who got a wild card entry into the Australian Open in Melbourne, lost to Williams 1-6,4-6 in the third round.Williams took just 56 minutes to defeat Mirza and sail into the fourth round.Vaidyanathan made it to the second round of the Australian Open in 1998.']"
            ]
          },
          "metadata": {
            "tags": []
          },
          "execution_count": 22
        }
      ]
    },
    {
      "cell_type": "code",
      "metadata": {
        "colab": {
          "base_uri": "https://localhost:8080/"
        },
        "id": "rnWxD8oSTdwN",
        "outputId": "2e382651-be0b-4495-91a8-0694cd8a634a"
      },
      "source": [
        "from rouge_metric import PyRouge\n",
        "rouge = PyRouge(rouge_n=(1, 2, 4), rouge_l=True, rouge_w=True,\n",
        "                rouge_w_weight=1.2, rouge_s=True, rouge_su=True, skip_gap=4)\n",
        "\n",
        "scores = rouge.evaluate_tokenized(hypotheses, references)\n",
        "print(scores)"
      ],
      "execution_count": 23,
      "outputs": [
        {
          "output_type": "stream",
          "text": [
            "{'rouge-1': {'r': 0.9792609932405971, 'p': 0.0030830280177583783, 'f': 0.00614670423705799}, 'rouge-2': {'r': 0.0, 'p': 0.0, 'f': 0.0}, 'rouge-4': {'r': 0.0, 'p': 0.0, 'f': 0.0}, 'rouge-l': {'r': 0.9792609932405971, 'p': 0.0030830280177583783, 'f': 0.00614670423705799}, 'rouge-w-1.2': {'r': 0.9826742478405974, 'p': 0.003094280637931066, 'f': 0.006169135675653424}, 'rouge-s4': {'r': 0.0, 'p': 0.0, 'f': 0.0}, 'rouge-su4': {'r': 0.0, 'p': 0.0, 'f': 0.0}}\n"
          ],
          "name": "stdout"
        }
      ]
    },
    {
      "cell_type": "code",
      "metadata": {
        "colab": {
          "base_uri": "https://localhost:8080/"
        },
        "id": "1espoF8BUrmk",
        "outputId": "661ce639-e5da-4c19-9a5e-9ac0946d7589"
      },
      "source": [
        "from fuzzywuzzy import fuzz\n",
        "fuzzy_ratio_list = []\n",
        "for i in range(len(hypotheses)):\n",
        "  fuzz_ratio = fuzz.ratio(hypotheses[i],references[i])\n",
        "  print(fuzz_ratio)\n",
        "  fuzzy_ratio_list.append(fuzz_ratio)"
      ],
      "execution_count": 24,
      "outputs": [
        {
          "output_type": "stream",
          "text": [
            "39\n",
            "47\n",
            "68\n",
            "36\n",
            "48\n",
            "54\n",
            "82\n",
            "33\n",
            "43\n",
            "55\n",
            "56\n",
            "26\n",
            "42\n",
            "47\n",
            "39\n",
            "19\n",
            "46\n",
            "34\n",
            "82\n",
            "43\n",
            "38\n",
            "72\n",
            "65\n",
            "32\n",
            "49\n",
            "49\n",
            "48\n",
            "31\n",
            "82\n",
            "41\n"
          ],
          "name": "stdout"
        }
      ]
    },
    {
      "cell_type": "code",
      "metadata": {
        "colab": {
          "base_uri": "https://localhost:8080/",
          "height": 279
        },
        "id": "eszdLUP93gPQ",
        "outputId": "07a8465f-eb58-44d6-a7bf-03dcbb7b9ca1"
      },
      "source": [
        "import matplotlib.pyplot as plt\n",
        "p2 = plt.plot([1, 2, 3, 4, 5, 6, 7, 8,9,10,11,12,13,14,15,16,17,18,19,20,21,22,23,24,25,26,27,28,29,30], fuzzy_ratio_list, 'g ^', label=\"bert\")\n",
        "plt.ylabel('Levenshtein distance Score')\n",
        "plt.xlabel('# of Article')\n",
        "#plt.legend(handles=[p2], title='title', bbox_to_anchor=(1.05, 1), loc='upper left', fontsize='small')\n",
        "plt.show()"
      ],
      "execution_count": 25,
      "outputs": [
        {
          "output_type": "display_data",
          "data": {
            "image/png": "[encoded data removed]",
            "text/plain": [
              "<Figure size 432x288 with 1 Axes>"
            ]
          },
          "metadata": {
            "tags": [],
            "needs_background": "light"
          }
        }
      ]
    }
  ]
}