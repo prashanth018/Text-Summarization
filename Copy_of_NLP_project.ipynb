{
  "nbformat": 4,
  "nbformat_minor": 0,
  "metadata": {
    "colab": {
      "name": "Copy of NLP project.ipynb",
      "provenance": [],
      "collapsed_sections": [],
      "include_colab_link": true
    },
    "kernelspec": {
      "name": "python3",
      "display_name": "Python 3"
    },
    "language_info": {
      "name": "python"
    },
    "accelerator": "GPU"
  },
  "cells": [
    {
      "cell_type": "markdown",
      "metadata": {
        "id": "view-in-github",
        "colab_type": "text"
      },
      "source": [
        "<a href=\"https://colab.research.google.com/github/prashanth018/Text-Summarization/blob/shreya/Copy_of_NLP_project.ipynb\" target=\"_parent\"><img src=\"https://colab.research.google.com/assets/colab-badge.svg\" alt=\"Open In Colab\"/></a>"
      ]
    },
    {
      "cell_type": "code",
      "metadata": {
        "id": "Ah0XdY4Qj-Qb"
      },
      "source": [
        "import pandas as pd\n",
        "import io\n",
        "import re\n",
        "import spacy\n",
        "from time import time\n",
        "import matplotlib.pyplot as plt\n",
        "import numpy as np\n",
        "from sklearn.model_selection import train_test_split\n",
        "from tensorflow.keras.preprocessing.text import Tokenizer \n",
        "from tensorflow.keras.preprocessing.sequence import pad_sequences\n",
        "from tensorflow.keras.layers import Input, LSTM, Embedding, Dense, Concatenate, TimeDistributed\n",
        "from tensorflow.keras.models import Model\n",
        "from tensorflow.keras.callbacks import EarlyStopping\n",
        "import tensorflow as tf\n",
        "import os\n",
        "\n",
        "#strategy = tf.distribute.MirroredStrategy(devices=[\"/gpu:0\", \"/gpu:1\"])\n",
        "#print('Number of devices: {}'.format(strategy.num_replicas_in_sync))"
      ],
      "execution_count": 1,
      "outputs": []
    },
    {
      "cell_type": "code",
      "metadata": {
        "colab": {
          "resources": {
            "http://localhost:8080/nbextensions/google.colab/files.js": {
              "data": "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",
              "ok": true,
              "headers": [
                [
                  "content-type",
                  "application/javascript"
                ]
              ],
              "status": 200,
              "status_text": ""
            }
          },
          "base_uri": "https://localhost:8080/",
          "height": 72
        },
        "id": "j-7oG7FykL4q",
        "outputId": "de37a40e-8a6f-4c56-e079-33cf71979390"
      },
      "source": [
        "from google.colab import files\n",
        "uploaded = files.upload()"
      ],
      "execution_count": 2,
      "outputs": [
        {
          "output_type": "display_data",
          "data": {
            "text/html": [
              "\n",
              "     <input type=\"file\" id=\"files-20329219-c588-4215-9bc7-437ce9c682f6\" name=\"files[]\" multiple disabled\n",
              "        style=\"border:none\" />\n",
              "     <output id=\"result-20329219-c588-4215-9bc7-437ce9c682f6\">\n",
              "      Upload widget is only available when the cell has been executed in the\n",
              "      current browser session. Please rerun this cell to enable.\n",
              "      </output>\n",
              "      <script src=\"/nbextensions/google.colab/files.js\"></script> "
            ],
            "text/plain": [
              "<IPython.core.display.HTML object>"
            ]
          },
          "metadata": {
            "tags": []
          }
        },
        {
          "output_type": "stream",
          "text": [
            "Saving News_Category_Dataset-17000-30000.csv to News_Category_Dataset-17000-30000.csv\n"
          ],
          "name": "stdout"
        }
      ]
    },
    {
      "cell_type": "markdown",
      "metadata": {
        "id": "MgFflf9OzJbr"
      },
      "source": [
        ""
      ]
    },
    {
      "cell_type": "code",
      "metadata": {
        "colab": {
          "base_uri": "https://localhost:8080/",
          "height": 606
        },
        "id": "Fnr2sEFdomhF",
        "outputId": "747ac9ff-22cb-4d52-e220-e5f369b39445"
      },
      "source": [
        "dataset = pd.read_csv(io.BytesIO(uploaded[r'News_Category_Dataset-17000-30000.csv']))\n",
        "dataset"
      ],
      "execution_count": 3,
      "outputs": [
        {
          "output_type": "execute_result",
          "data": {
            "text/html": [
              "<div>\n",
              "<style scoped>\n",
              "    .dataframe tbody tr th:only-of-type {\n",
              "        vertical-align: middle;\n",
              "    }\n",
              "\n",
              "    .dataframe tbody tr th {\n",
              "        vertical-align: top;\n",
              "    }\n",
              "\n",
              "    .dataframe thead th {\n",
              "        text-align: right;\n",
              "    }\n",
              "</style>\n",
              "<table border=\"1\" class=\"dataframe\">\n",
              "  <thead>\n",
              "    <tr style=\"text-align: right;\">\n",
              "      <th></th>\n",
              "      <th>Unnamed: 0</th>\n",
              "      <th>news_text</th>\n",
              "      <th>category</th>\n",
              "      <th>headline</th>\n",
              "      <th>short_desc</th>\n",
              "      <th>url</th>\n",
              "    </tr>\n",
              "  </thead>\n",
              "  <tbody>\n",
              "    <tr>\n",
              "      <th>0</th>\n",
              "      <td>1</td>\n",
              "      <td>andyshots via Getty Images #TitheTrans invites...</td>\n",
              "      <td>QUEER VOICES</td>\n",
              "      <td>Christian LGBTQ Group Raises Money To Help Pay...</td>\n",
              "      <td>“I want #TitheTrans to be a way for Christians...</td>\n",
              "      <td>https://www.huffingtonpost.com/entry/christian...</td>\n",
              "    </tr>\n",
              "    <tr>\n",
              "      <th>1</th>\n",
              "      <td>2</td>\n",
              "      <td>Today’s topics include: Comedian Jen Kirkman i...</td>\n",
              "      <td>COMEDY</td>\n",
              "      <td>The Bob Cesca Show Podcast: Comedian Jen Kirkm...</td>\n",
              "      <td>Today’s topics include: Comedian Jen Kirkman i...</td>\n",
              "      <td>https://www.huffingtonpost.com/entry/the-bob-c...</td>\n",
              "    </tr>\n",
              "    <tr>\n",
              "      <th>2</th>\n",
              "      <td>3</td>\n",
              "      <td>Congress has returned to Washington after a mo...</td>\n",
              "      <td>POLITICS</td>\n",
              "      <td>A Big To-Do List For Congress</td>\n",
              "      <td>Congress has returned to Washington after a mo...</td>\n",
              "      <td>https://www.huffingtonpost.com/entry/a-big-to-...</td>\n",
              "    </tr>\n",
              "    <tr>\n",
              "      <th>3</th>\n",
              "      <td>4</td>\n",
              "      <td>Like most teachers, I’ve worked at a variety o...</td>\n",
              "      <td>EDUCATION</td>\n",
              "      <td>Every Teacher Should Be Bad At Something</td>\n",
              "      <td>Many of our students have to get up every day ...</td>\n",
              "      <td>https://www.huffingtonpost.com/entry/every-tea...</td>\n",
              "    </tr>\n",
              "    <tr>\n",
              "      <th>4</th>\n",
              "      <td>5</td>\n",
              "      <td>Welcome to the horrible world of the news.\\n\\n...</td>\n",
              "      <td>WORLD NEWS</td>\n",
              "      <td>News Roundup for September 7, 2017</td>\n",
              "      <td>Welcome to the horrible world of the news. 1. ...</td>\n",
              "      <td>https://www.huffingtonpost.com/entry/news-roun...</td>\n",
              "    </tr>\n",
              "    <tr>\n",
              "      <th>...</th>\n",
              "      <td>...</td>\n",
              "      <td>...</td>\n",
              "      <td>...</td>\n",
              "      <td>...</td>\n",
              "      <td>...</td>\n",
              "      <td>...</td>\n",
              "    </tr>\n",
              "    <tr>\n",
              "      <th>4895</th>\n",
              "      <td>4896</td>\n",
              "      <td>AP/The Flint Journal-MLive.com/Jake May The ch...</td>\n",
              "      <td>EDUCATION</td>\n",
              "      <td>The Charter School Charade Offers Rhetoric, No...</td>\n",
              "      <td>Charter school advocates are well-versed in th...</td>\n",
              "      <td>https://www.huffingtonpost.com/entry/the-chart...</td>\n",
              "    </tr>\n",
              "    <tr>\n",
              "      <th>4896</th>\n",
              "      <td>4897</td>\n",
              "      <td>An abiding image of Simone Veil from September...</td>\n",
              "      <td>WORLD NEWS</td>\n",
              "      <td>Two Or Three Things I Know About Simone Veil</td>\n",
              "      <td>She was both imperious and gentle. Irascible a...</td>\n",
              "      <td>https://www.huffingtonpost.com/entry/two-or-th...</td>\n",
              "    </tr>\n",
              "    <tr>\n",
              "      <th>4897</th>\n",
              "      <td>4898</td>\n",
              "      <td>Nobody has ever accused Donald Trump of being ...</td>\n",
              "      <td>POLITICS</td>\n",
              "      <td>Trump Accidentally Confirms Lavrov Account Of ...</td>\n",
              "      <td>Trump’s Sunday morning tweet is more consisten...</td>\n",
              "      <td>https://www.huffingtonpost.com/entry/trump-acc...</td>\n",
              "    </tr>\n",
              "    <tr>\n",
              "      <th>4898</th>\n",
              "      <td>4899</td>\n",
              "      <td>By Elizabeth Mormino, PhD, Stanford University...</td>\n",
              "      <td>HEALTHY LIVING</td>\n",
              "      <td>To Understand Sex Differences In Alzheimer’s D...</td>\n",
              "      <td>By Elizabeth Mormino, PhD, Stanford University...</td>\n",
              "      <td>https://www.huffingtonpost.com/entry/to-unders...</td>\n",
              "    </tr>\n",
              "    <tr>\n",
              "      <th>4899</th>\n",
              "      <td>4900</td>\n",
              "      <td>Our son, who will be starting his freshman yea...</td>\n",
              "      <td>PARENTS</td>\n",
              "      <td>Learning To Say Goodbye To Our Kids, From Nurs...</td>\n",
              "      <td>Our son, who will be starting his freshman yea...</td>\n",
              "      <td>https://www.huffingtonpost.com/entry/learning-...</td>\n",
              "    </tr>\n",
              "  </tbody>\n",
              "</table>\n",
              "<p>4900 rows × 6 columns</p>\n",
              "</div>"
            ],
            "text/plain": [
              "      Unnamed: 0  ...                                                url\n",
              "0              1  ...  https://www.huffingtonpost.com/entry/christian...\n",
              "1              2  ...  https://www.huffingtonpost.com/entry/the-bob-c...\n",
              "2              3  ...  https://www.huffingtonpost.com/entry/a-big-to-...\n",
              "3              4  ...  https://www.huffingtonpost.com/entry/every-tea...\n",
              "4              5  ...  https://www.huffingtonpost.com/entry/news-roun...\n",
              "...          ...  ...                                                ...\n",
              "4895        4896  ...  https://www.huffingtonpost.com/entry/the-chart...\n",
              "4896        4897  ...  https://www.huffingtonpost.com/entry/two-or-th...\n",
              "4897        4898  ...  https://www.huffingtonpost.com/entry/trump-acc...\n",
              "4898        4899  ...  https://www.huffingtonpost.com/entry/to-unders...\n",
              "4899        4900  ...  https://www.huffingtonpost.com/entry/learning-...\n",
              "\n",
              "[4900 rows x 6 columns]"
            ]
          },
          "metadata": {
            "tags": []
          },
          "execution_count": 3
        }
      ]
    },
    {
      "cell_type": "code",
      "metadata": {
        "colab": {
          "base_uri": "https://localhost:8080/",
          "height": 419
        },
        "id": "4IbNjd-9p3wp",
        "outputId": "c5952b0a-f92b-484d-e45f-d5ebf27761d0"
      },
      "source": [
        "df = pd.DataFrame()\n",
        "df['news_text'] = dataset['news_text']\n",
        "df['headline'] = dataset['headline']\n",
        "df"
      ],
      "execution_count": 4,
      "outputs": [
        {
          "output_type": "execute_result",
          "data": {
            "text/html": [
              "<div>\n",
              "<style scoped>\n",
              "    .dataframe tbody tr th:only-of-type {\n",
              "        vertical-align: middle;\n",
              "    }\n",
              "\n",
              "    .dataframe tbody tr th {\n",
              "        vertical-align: top;\n",
              "    }\n",
              "\n",
              "    .dataframe thead th {\n",
              "        text-align: right;\n",
              "    }\n",
              "</style>\n",
              "<table border=\"1\" class=\"dataframe\">\n",
              "  <thead>\n",
              "    <tr style=\"text-align: right;\">\n",
              "      <th></th>\n",
              "      <th>news_text</th>\n",
              "      <th>headline</th>\n",
              "    </tr>\n",
              "  </thead>\n",
              "  <tbody>\n",
              "    <tr>\n",
              "      <th>0</th>\n",
              "      <td>andyshots via Getty Images #TitheTrans invites...</td>\n",
              "      <td>Christian LGBTQ Group Raises Money To Help Pay...</td>\n",
              "    </tr>\n",
              "    <tr>\n",
              "      <th>1</th>\n",
              "      <td>Today’s topics include: Comedian Jen Kirkman i...</td>\n",
              "      <td>The Bob Cesca Show Podcast: Comedian Jen Kirkm...</td>\n",
              "    </tr>\n",
              "    <tr>\n",
              "      <th>2</th>\n",
              "      <td>Congress has returned to Washington after a mo...</td>\n",
              "      <td>A Big To-Do List For Congress</td>\n",
              "    </tr>\n",
              "    <tr>\n",
              "      <th>3</th>\n",
              "      <td>Like most teachers, I’ve worked at a variety o...</td>\n",
              "      <td>Every Teacher Should Be Bad At Something</td>\n",
              "    </tr>\n",
              "    <tr>\n",
              "      <th>4</th>\n",
              "      <td>Welcome to the horrible world of the news.\\n\\n...</td>\n",
              "      <td>News Roundup for September 7, 2017</td>\n",
              "    </tr>\n",
              "    <tr>\n",
              "      <th>...</th>\n",
              "      <td>...</td>\n",
              "      <td>...</td>\n",
              "    </tr>\n",
              "    <tr>\n",
              "      <th>4895</th>\n",
              "      <td>AP/The Flint Journal-MLive.com/Jake May The ch...</td>\n",
              "      <td>The Charter School Charade Offers Rhetoric, No...</td>\n",
              "    </tr>\n",
              "    <tr>\n",
              "      <th>4896</th>\n",
              "      <td>An abiding image of Simone Veil from September...</td>\n",
              "      <td>Two Or Three Things I Know About Simone Veil</td>\n",
              "    </tr>\n",
              "    <tr>\n",
              "      <th>4897</th>\n",
              "      <td>Nobody has ever accused Donald Trump of being ...</td>\n",
              "      <td>Trump Accidentally Confirms Lavrov Account Of ...</td>\n",
              "    </tr>\n",
              "    <tr>\n",
              "      <th>4898</th>\n",
              "      <td>By Elizabeth Mormino, PhD, Stanford University...</td>\n",
              "      <td>To Understand Sex Differences In Alzheimer’s D...</td>\n",
              "    </tr>\n",
              "    <tr>\n",
              "      <th>4899</th>\n",
              "      <td>Our son, who will be starting his freshman yea...</td>\n",
              "      <td>Learning To Say Goodbye To Our Kids, From Nurs...</td>\n",
              "    </tr>\n",
              "  </tbody>\n",
              "</table>\n",
              "<p>4900 rows × 2 columns</p>\n",
              "</div>"
            ],
            "text/plain": [
              "                                              news_text                                           headline\n",
              "0     andyshots via Getty Images #TitheTrans invites...  Christian LGBTQ Group Raises Money To Help Pay...\n",
              "1     Today’s topics include: Comedian Jen Kirkman i...  The Bob Cesca Show Podcast: Comedian Jen Kirkm...\n",
              "2     Congress has returned to Washington after a mo...                      A Big To-Do List For Congress\n",
              "3     Like most teachers, I’ve worked at a variety o...           Every Teacher Should Be Bad At Something\n",
              "4     Welcome to the horrible world of the news.\\n\\n...                 News Roundup for September 7, 2017\n",
              "...                                                 ...                                                ...\n",
              "4895  AP/The Flint Journal-MLive.com/Jake May The ch...  The Charter School Charade Offers Rhetoric, No...\n",
              "4896  An abiding image of Simone Veil from September...       Two Or Three Things I Know About Simone Veil\n",
              "4897  Nobody has ever accused Donald Trump of being ...  Trump Accidentally Confirms Lavrov Account Of ...\n",
              "4898  By Elizabeth Mormino, PhD, Stanford University...  To Understand Sex Differences In Alzheimer’s D...\n",
              "4899  Our son, who will be starting his freshman yea...  Learning To Say Goodbye To Our Kids, From Nurs...\n",
              "\n",
              "[4900 rows x 2 columns]"
            ]
          },
          "metadata": {
            "tags": []
          },
          "execution_count": 4
        }
      ]
    },
    {
      "cell_type": "code",
      "metadata": {
        "id": "n7olO7o0p7UE"
      },
      "source": [
        "def text_strip(column):\n",
        "\n",
        "    for row in column:\n",
        "        row = re.sub(\"(\\\\t)\", \" \", str(row)).lower()\n",
        "        row = re.sub(\"(\\\\r)\", \" \", str(row)).lower()\n",
        "        row = re.sub(\"(\\\\n)\", \" \", str(row)).lower()\n",
        "\n",
        "        # Remove _ if it occurs more than one time consecutively\n",
        "        row = re.sub(\"(__+)\", \" \", str(row)).lower()\n",
        "\n",
        "        # Remove - if it occurs more than one time consecutively\n",
        "        row = re.sub(\"(--+)\", \" \", str(row)).lower()\n",
        "\n",
        "        # Remove ~ if it occurs more than one time consecutively\n",
        "        row = re.sub(\"(~~+)\", \" \", str(row)).lower()\n",
        "\n",
        "        # Remove + if it occurs more than one time consecutively\n",
        "        row = re.sub(\"(\\+\\++)\", \" \", str(row)).lower()\n",
        "\n",
        "        # Remove . if it occurs more than one time consecutively\n",
        "        row = re.sub(\"(\\.\\.+)\", \" \", str(row)).lower()\n",
        "\n",
        "        # Remove the characters - <>()|&©ø\"',;?~*!\n",
        "        row = re.sub(r\"[<>()|&©ø\\[\\]\\'\\\",;?~*!]\", \" \", str(row)).lower()\n",
        "\n",
        "        # Remove mailto:\n",
        "        row = re.sub(\"(mailto:)\", \" \", str(row)).lower()\n",
        "\n",
        "        # Remove \\x9* in text\n",
        "        row = re.sub(r\"(\\\\x9\\d)\", \" \", str(row)).lower()\n",
        "\n",
        "        # Replace INC nums to INC_NUM\n",
        "        row = re.sub(\"([iI][nN][cC]\\d+)\", \"INC_NUM\", str(row)).lower()\n",
        "\n",
        "        # Replace CM# and CHG# to CM_NUM\n",
        "        row = re.sub(\"([cC][mM]\\d+)|([cC][hH][gG]\\d+)\", \"CM_NUM\", str(row)).lower()\n",
        "\n",
        "        # Remove punctuations at the end of a word\n",
        "        row = re.sub(\"(\\.\\s+)\", \" \", str(row)).lower()\n",
        "        row = re.sub(\"(\\-\\s+)\", \" \", str(row)).lower()\n",
        "        row = re.sub(\"(\\:\\s+)\", \" \", str(row)).lower()\n",
        "\n",
        "        # Replace any url to only the domain name\n",
        "        try:\n",
        "            url = re.search(r\"((https*:\\/*)([^\\/\\s]+))(.[^\\s]+)\", str(row))\n",
        "            repl_url = url.group(3)\n",
        "            row = re.sub(r\"((https*:\\/*)([^\\/\\s]+))(.[^\\s]+)\", repl_url, str(row))\n",
        "        except:\n",
        "            pass\n",
        "\n",
        "        # Remove multiple spaces\n",
        "        row = re.sub(\"(\\s+)\", \" \", str(row)).lower()\n",
        "\n",
        "        # Remove the single character hanging between any two spaces\n",
        "        row = re.sub(\"(\\s+.\\s+)\", \" \", str(row)).lower()\n",
        "\n",
        "        yield row"
      ],
      "execution_count": 5,
      "outputs": []
    },
    {
      "cell_type": "code",
      "metadata": {
        "id": "UIYqPn4yp_hO"
      },
      "source": [
        "processed_text = text_strip(df['news_text'])\n",
        "processed_summary = text_strip(df['headline'])\n",
        "nlp = spacy.load('en_core_web_sm', disable=['ner', 'parser'])\n",
        "text = [str(doc) for doc in nlp.pipe(processed_text, batch_size=2000)]\n",
        "summary = ['_START_ '+ str(doc) + ' _END_' for doc in nlp.pipe(processed_summary, batch_size=2000)]"
      ],
      "execution_count": 6,
      "outputs": []
    },
    {
      "cell_type": "code",
      "metadata": {
        "id": "_m7VBvV6sp4u"
      },
      "source": [
        "df['cleaned_news_text'] = pd.Series(text)\n",
        "df['cleaned_headline'] = pd.Series(summary)"
      ],
      "execution_count": 7,
      "outputs": []
    },
    {
      "cell_type": "code",
      "metadata": {
        "colab": {
          "base_uri": "https://localhost:8080/",
          "height": 589
        },
        "id": "dtgvI805tOGk",
        "outputId": "c32eb2f2-db2a-40c9-e9d5-c2b439d2fd9d"
      },
      "source": [
        "df"
      ],
      "execution_count": 8,
      "outputs": [
        {
          "output_type": "execute_result",
          "data": {
            "text/html": [
              "<div>\n",
              "<style scoped>\n",
              "    .dataframe tbody tr th:only-of-type {\n",
              "        vertical-align: middle;\n",
              "    }\n",
              "\n",
              "    .dataframe tbody tr th {\n",
              "        vertical-align: top;\n",
              "    }\n",
              "\n",
              "    .dataframe thead th {\n",
              "        text-align: right;\n",
              "    }\n",
              "</style>\n",
              "<table border=\"1\" class=\"dataframe\">\n",
              "  <thead>\n",
              "    <tr style=\"text-align: right;\">\n",
              "      <th></th>\n",
              "      <th>news_text</th>\n",
              "      <th>headline</th>\n",
              "      <th>cleaned_news_text</th>\n",
              "      <th>cleaned_headline</th>\n",
              "    </tr>\n",
              "  </thead>\n",
              "  <tbody>\n",
              "    <tr>\n",
              "      <th>0</th>\n",
              "      <td>andyshots via Getty Images #TitheTrans invites...</td>\n",
              "      <td>Christian LGBTQ Group Raises Money To Help Pay...</td>\n",
              "      <td>andyshots via getty images #tithetrans invites...</td>\n",
              "      <td>_START_ christian lgbtq group raises money to ...</td>\n",
              "    </tr>\n",
              "    <tr>\n",
              "      <th>1</th>\n",
              "      <td>Today’s topics include: Comedian Jen Kirkman i...</td>\n",
              "      <td>The Bob Cesca Show Podcast: Comedian Jen Kirkm...</td>\n",
              "      <td>today’s topics include comedian jen kirkman is...</td>\n",
              "      <td>_START_ the bob cesca show podcast comedian je...</td>\n",
              "    </tr>\n",
              "    <tr>\n",
              "      <th>2</th>\n",
              "      <td>Congress has returned to Washington after a mo...</td>\n",
              "      <td>A Big To-Do List For Congress</td>\n",
              "      <td>congress has returned to washington after mont...</td>\n",
              "      <td>_START_ a big to-do list for congress _END_</td>\n",
              "    </tr>\n",
              "    <tr>\n",
              "      <th>3</th>\n",
              "      <td>Like most teachers, I’ve worked at a variety o...</td>\n",
              "      <td>Every Teacher Should Be Bad At Something</td>\n",
              "      <td>like most teachers i’ve worked at variety of s...</td>\n",
              "      <td>_START_ every teacher should be bad at somethi...</td>\n",
              "    </tr>\n",
              "    <tr>\n",
              "      <th>4</th>\n",
              "      <td>Welcome to the horrible world of the news.\\n\\n...</td>\n",
              "      <td>News Roundup for September 7, 2017</td>\n",
              "      <td>welcome to the horrible world of the news hurr...</td>\n",
              "      <td>_START_ news roundup for september 2017 _END_</td>\n",
              "    </tr>\n",
              "    <tr>\n",
              "      <th>...</th>\n",
              "      <td>...</td>\n",
              "      <td>...</td>\n",
              "      <td>...</td>\n",
              "      <td>...</td>\n",
              "    </tr>\n",
              "    <tr>\n",
              "      <th>4895</th>\n",
              "      <td>AP/The Flint Journal-MLive.com/Jake May The ch...</td>\n",
              "      <td>The Charter School Charade Offers Rhetoric, No...</td>\n",
              "      <td>ap/the flint journal-mlive.com/jake may the ch...</td>\n",
              "      <td>_START_ the charter school charade offers rhet...</td>\n",
              "    </tr>\n",
              "    <tr>\n",
              "      <th>4896</th>\n",
              "      <td>An abiding image of Simone Veil from September...</td>\n",
              "      <td>Two Or Three Things I Know About Simone Veil</td>\n",
              "      <td>an abiding image of simone veil from september...</td>\n",
              "      <td>_START_ two or three things know about simone ...</td>\n",
              "    </tr>\n",
              "    <tr>\n",
              "      <th>4897</th>\n",
              "      <td>Nobody has ever accused Donald Trump of being ...</td>\n",
              "      <td>Trump Accidentally Confirms Lavrov Account Of ...</td>\n",
              "      <td>nobody has ever accused donald trump of being ...</td>\n",
              "      <td>_START_ trump accidentally confirms lavrov acc...</td>\n",
              "    </tr>\n",
              "    <tr>\n",
              "      <th>4898</th>\n",
              "      <td>By Elizabeth Mormino, PhD, Stanford University...</td>\n",
              "      <td>To Understand Sex Differences In Alzheimer’s D...</td>\n",
              "      <td>by elizabeth mormino phd stanford university s...</td>\n",
              "      <td>_START_ to understand sex differences in alzhe...</td>\n",
              "    </tr>\n",
              "    <tr>\n",
              "      <th>4899</th>\n",
              "      <td>Our son, who will be starting his freshman yea...</td>\n",
              "      <td>Learning To Say Goodbye To Our Kids, From Nurs...</td>\n",
              "      <td>our son who will be starting his freshman year...</td>\n",
              "      <td>_START_ learning to say goodbye to our kids fr...</td>\n",
              "    </tr>\n",
              "  </tbody>\n",
              "</table>\n",
              "<p>4900 rows × 4 columns</p>\n",
              "</div>"
            ],
            "text/plain": [
              "                                              news_text  ...                                   cleaned_headline\n",
              "0     andyshots via Getty Images #TitheTrans invites...  ...  _START_ christian lgbtq group raises money to ...\n",
              "1     Today’s topics include: Comedian Jen Kirkman i...  ...  _START_ the bob cesca show podcast comedian je...\n",
              "2     Congress has returned to Washington after a mo...  ...        _START_ a big to-do list for congress _END_\n",
              "3     Like most teachers, I’ve worked at a variety o...  ...  _START_ every teacher should be bad at somethi...\n",
              "4     Welcome to the horrible world of the news.\\n\\n...  ...      _START_ news roundup for september 2017 _END_\n",
              "...                                                 ...  ...                                                ...\n",
              "4895  AP/The Flint Journal-MLive.com/Jake May The ch...  ...  _START_ the charter school charade offers rhet...\n",
              "4896  An abiding image of Simone Veil from September...  ...  _START_ two or three things know about simone ...\n",
              "4897  Nobody has ever accused Donald Trump of being ...  ...  _START_ trump accidentally confirms lavrov acc...\n",
              "4898  By Elizabeth Mormino, PhD, Stanford University...  ...  _START_ to understand sex differences in alzhe...\n",
              "4899  Our son, who will be starting his freshman yea...  ...  _START_ learning to say goodbye to our kids fr...\n",
              "\n",
              "[4900 rows x 4 columns]"
            ]
          },
          "metadata": {
            "tags": []
          },
          "execution_count": 8
        }
      ]
    },
    {
      "cell_type": "code",
      "metadata": {
        "colab": {
          "base_uri": "https://localhost:8080/",
          "height": 281
        },
        "id": "yYLDiwQTtRty",
        "outputId": "9bdc76ce-85a6-4f23-b5a4-5fe0274cb086"
      },
      "source": [
        "text_count = []\n",
        "summary_count = []\n",
        "for sent in df['cleaned_news_text']:\n",
        "  text_count.append(len(sent.split()))\n",
        "for sent in df['cleaned_headline']:\n",
        "  summary_count.append(len(sent.split()))\n",
        "graph = pd.DataFrame()\n",
        "graph['Text'] = text_count\n",
        "graph['Summary'] = summary_count\n",
        "graph.hist(bins=10)\n",
        "plt.show()"
      ],
      "execution_count": 9,
      "outputs": [
        {
          "output_type": "display_data",
          "data": {
            "image/png": "[encoded data removed]",
            "text/plain": [
              "<Figure size 432x288 with 2 Axes>"
            ]
          },
          "metadata": {
            "tags": [],
            "needs_background": "light"
          }
        }
      ]
    },
    {
      "cell_type": "code",
      "metadata": {
        "colab": {
          "base_uri": "https://localhost:8080/"
        },
        "id": "gcDFOfQRtTMF",
        "outputId": "ccc2638b-81be-4333-face-7766aac0b907"
      },
      "source": [
        "cnt = 0\n",
        "for sent in df['cleaned_news_text']:\n",
        "  if len(sent.split())<=1500:\n",
        "    cnt=cnt+1\n",
        "print(cnt/len(df['cleaned_news_text']))"
      ],
      "execution_count": 10,
      "outputs": [
        {
          "output_type": "stream",
          "text": [
            "0.9477551020408164\n"
          ],
          "name": "stdout"
        }
      ]
    },
    {
      "cell_type": "code",
      "metadata": {
        "id": "vTU4v0F5tXlP"
      },
      "source": [
        "max_text_len = 2500\n",
        "max_summary_len = 20"
      ],
      "execution_count": 11,
      "outputs": []
    },
    {
      "cell_type": "code",
      "metadata": {
        "colab": {
          "base_uri": "https://localhost:8080/",
          "height": 111
        },
        "id": "pSvbyR4BtbEl",
        "outputId": "05907eb7-b357-4484-de13-aec542fe3586"
      },
      "source": [
        "cleaned_text = np.array(df['cleaned_news_text'])\n",
        "cleaned_summary= np.array(df['cleaned_headline'])\n",
        "\n",
        "short_text = []\n",
        "short_summary = []\n",
        "\n",
        "for i in range(len(cleaned_text)):\n",
        "    if len(cleaned_summary[i].split()) <= max_summary_len and len(cleaned_text[i].split()) <= max_text_len:\n",
        "        short_text.append(cleaned_text[i])\n",
        "        short_summary.append(cleaned_summary[i])\n",
        "        \n",
        "post_pre = pd.DataFrame({'text': short_text,'summary': short_summary})\n",
        "\n",
        "post_pre.head(2)"
      ],
      "execution_count": 12,
      "outputs": [
        {
          "output_type": "execute_result",
          "data": {
            "text/html": [
              "<div>\n",
              "<style scoped>\n",
              "    .dataframe tbody tr th:only-of-type {\n",
              "        vertical-align: middle;\n",
              "    }\n",
              "\n",
              "    .dataframe tbody tr th {\n",
              "        vertical-align: top;\n",
              "    }\n",
              "\n",
              "    .dataframe thead th {\n",
              "        text-align: right;\n",
              "    }\n",
              "</style>\n",
              "<table border=\"1\" class=\"dataframe\">\n",
              "  <thead>\n",
              "    <tr style=\"text-align: right;\">\n",
              "      <th></th>\n",
              "      <th>text</th>\n",
              "      <th>summary</th>\n",
              "    </tr>\n",
              "  </thead>\n",
              "  <tbody>\n",
              "    <tr>\n",
              "      <th>0</th>\n",
              "      <td>andyshots via getty images #tithetrans invites...</td>\n",
              "      <td>_START_ christian lgbtq group raises money to ...</td>\n",
              "    </tr>\n",
              "    <tr>\n",
              "      <th>1</th>\n",
              "      <td>today’s topics include comedian jen kirkman is...</td>\n",
              "      <td>_START_ the bob cesca show podcast comedian je...</td>\n",
              "    </tr>\n",
              "  </tbody>\n",
              "</table>\n",
              "</div>"
            ],
            "text/plain": [
              "                                                text                                            summary\n",
              "0  andyshots via getty images #tithetrans invites...  _START_ christian lgbtq group raises money to ...\n",
              "1  today’s topics include comedian jen kirkman is...  _START_ the bob cesca show podcast comedian je..."
            ]
          },
          "metadata": {
            "tags": []
          },
          "execution_count": 12
        }
      ]
    },
    {
      "cell_type": "code",
      "metadata": {
        "colab": {
          "base_uri": "https://localhost:8080/",
          "height": 111
        },
        "id": "a5rTmfW6tdhG",
        "outputId": "49fac9ce-afa0-4f24-afae-51ef41c8edd8"
      },
      "source": [
        "post_pre['summary'] = post_pre['summary'].apply(lambda x: 'sostok ' + x \\\n",
        "        + ' eostok')\n",
        "\n",
        "post_pre.head(2)"
      ],
      "execution_count": 13,
      "outputs": [
        {
          "output_type": "execute_result",
          "data": {
            "text/html": [
              "<div>\n",
              "<style scoped>\n",
              "    .dataframe tbody tr th:only-of-type {\n",
              "        vertical-align: middle;\n",
              "    }\n",
              "\n",
              "    .dataframe tbody tr th {\n",
              "        vertical-align: top;\n",
              "    }\n",
              "\n",
              "    .dataframe thead th {\n",
              "        text-align: right;\n",
              "    }\n",
              "</style>\n",
              "<table border=\"1\" class=\"dataframe\">\n",
              "  <thead>\n",
              "    <tr style=\"text-align: right;\">\n",
              "      <th></th>\n",
              "      <th>text</th>\n",
              "      <th>summary</th>\n",
              "    </tr>\n",
              "  </thead>\n",
              "  <tbody>\n",
              "    <tr>\n",
              "      <th>0</th>\n",
              "      <td>andyshots via getty images #tithetrans invites...</td>\n",
              "      <td>sostok _START_ christian lgbtq group raises mo...</td>\n",
              "    </tr>\n",
              "    <tr>\n",
              "      <th>1</th>\n",
              "      <td>today’s topics include comedian jen kirkman is...</td>\n",
              "      <td>sostok _START_ the bob cesca show podcast come...</td>\n",
              "    </tr>\n",
              "  </tbody>\n",
              "</table>\n",
              "</div>"
            ],
            "text/plain": [
              "                                                text                                            summary\n",
              "0  andyshots via getty images #tithetrans invites...  sostok _START_ christian lgbtq group raises mo...\n",
              "1  today’s topics include comedian jen kirkman is...  sostok _START_ the bob cesca show podcast come..."
            ]
          },
          "metadata": {
            "tags": []
          },
          "execution_count": 13
        }
      ]
    },
    {
      "cell_type": "code",
      "metadata": {
        "id": "oa4kGMhwth9D"
      },
      "source": [
        "x_tr, x_val, y_tr, y_val = train_test_split(\n",
        "    np.array(post_pre[\"text\"]),\n",
        "    np.array(post_pre[\"summary\"]),\n",
        "    test_size=0.1,\n",
        "    random_state=0,\n",
        "    shuffle=True,\n",
        ")"
      ],
      "execution_count": 14,
      "outputs": []
    },
    {
      "cell_type": "code",
      "metadata": {
        "colab": {
          "base_uri": "https://localhost:8080/"
        },
        "id": "VqETJw7XtlDl",
        "outputId": "20c63428-08a1-44ea-94b7-76d29284e456"
      },
      "source": [
        "x_tokenizer = Tokenizer() \n",
        "x_tokenizer.fit_on_texts(list(x_tr))\n",
        "thresh = 5\n",
        "\n",
        "cnt = 0\n",
        "tot_cnt = 0\n",
        "\n",
        "for key, value in x_tokenizer.word_counts.items():\n",
        "    tot_cnt = tot_cnt + 1\n",
        "    if value < thresh:\n",
        "        cnt = cnt + 1\n",
        "    \n",
        "print(\"% of rare words in vocabulary: \", (cnt / tot_cnt) * 100)"
      ],
      "execution_count": 15,
      "outputs": [
        {
          "output_type": "stream",
          "text": [
            "% of rare words in vocabulary:  68.6314993994845\n"
          ],
          "name": "stdout"
        }
      ]
    },
    {
      "cell_type": "code",
      "metadata": {
        "colab": {
          "base_uri": "https://localhost:8080/"
        },
        "id": "GbBd1wrBtokS",
        "outputId": "1ea9a1da-2f57-4e3e-8c8e-f310400a50f4"
      },
      "source": [
        "x_tokenizer = Tokenizer(num_words = tot_cnt - cnt) \n",
        "x_tokenizer.fit_on_texts(list(x_tr))\n",
        "\n",
        "# Convert text sequences to integer sequences \n",
        "x_tr_seq = x_tokenizer.texts_to_sequences(x_tr) \n",
        "x_val_seq = x_tokenizer.texts_to_sequences(x_val)\n",
        "\n",
        "# Pad zero upto maximum length\n",
        "x_tr = pad_sequences(x_tr_seq,  maxlen=max_text_len, padding='post')\n",
        "x_val = pad_sequences(x_val_seq, maxlen=max_text_len, padding='post')\n",
        "\n",
        "# Size of vocabulary (+1 for padding token)\n",
        "x_voc = x_tokenizer.num_words + 1\n",
        "\n",
        "print(\"Size of vocabulary in X = {}\".format(x_voc))"
      ],
      "execution_count": 16,
      "outputs": [
        {
          "output_type": "stream",
          "text": [
            "Size of vocabulary in X = 23246\n"
          ],
          "name": "stdout"
        }
      ]
    },
    {
      "cell_type": "code",
      "metadata": {
        "colab": {
          "base_uri": "https://localhost:8080/"
        },
        "id": "RcgzAqAMtu0-",
        "outputId": "0226c483-d9e6-45ea-ae00-8a9e3933c13d"
      },
      "source": [
        "y_tokenizer = Tokenizer()   \n",
        "y_tokenizer.fit_on_texts(list(y_tr))\n",
        "\n",
        "thresh = 5\n",
        "\n",
        "cnt = 0\n",
        "tot_cnt = 0\n",
        "\n",
        "for key, value in y_tokenizer.word_counts.items():\n",
        "    tot_cnt = tot_cnt + 1\n",
        "    if value < thresh:\n",
        "        cnt = cnt + 1\n",
        "    \n",
        "print(\"% of rare words in vocabulary:\",(cnt / tot_cnt) * 100)\n",
        "\n",
        "# Prepare a tokenizer, again -- by not considering the rare words\n",
        "y_tokenizer = Tokenizer(num_words=tot_cnt-cnt) \n",
        "y_tokenizer.fit_on_texts(list(y_tr))\n",
        "\n",
        "# Convert text sequences to integer sequences \n",
        "y_tr_seq = y_tokenizer.texts_to_sequences(y_tr) \n",
        "y_val_seq = y_tokenizer.texts_to_sequences(y_val) \n",
        "y_tr = pad_sequences(y_tr_seq, maxlen=max_summary_len, padding='post')\n",
        "y_val = pad_sequences(y_val_seq, maxlen=max_summary_len, padding='post')\n",
        "y_voc = y_tokenizer.num_words + 1\n",
        "\n",
        "print(\"Size of vocabulary in Y = {}\".format(y_voc))"
      ],
      "execution_count": 17,
      "outputs": [
        {
          "output_type": "stream",
          "text": [
            "% of rare words in vocabulary: 81.90920468767779\n",
            "Size of vocabulary in Y = 1591\n"
          ],
          "name": "stdout"
        }
      ]
    },
    {
      "cell_type": "code",
      "metadata": {
        "id": "zRehFsh7twXj"
      },
      "source": [
        "ind = []\n",
        "\n",
        "for i in range(len(y_tr)):\n",
        "    cnt = 0\n",
        "    for j in y_tr[i]:\n",
        "        if j != 0:\n",
        "            cnt = cnt + 1\n",
        "    if cnt == 2:\n",
        "        ind.append(i)\n",
        "\n",
        "y_tr = np.delete(y_tr, ind, axis=0)\n",
        "x_tr = np.delete(x_tr, ind, axis=0)"
      ],
      "execution_count": 18,
      "outputs": []
    },
    {
      "cell_type": "code",
      "metadata": {
        "id": "DRHG3uyCtzif"
      },
      "source": [
        "ind = []\n",
        "for i in range(len(y_val)):\n",
        "    cnt = 0\n",
        "    for j in y_val[i]:\n",
        "        if j != 0:\n",
        "            cnt = cnt + 1\n",
        "    if cnt == 2:\n",
        "        ind.append(i)\n",
        "\n",
        "y_val = np.delete(y_val, ind, axis=0)\n",
        "x_val = np.delete(x_val, ind, axis=0)"
      ],
      "execution_count": 19,
      "outputs": []
    },
    {
      "cell_type": "code",
      "metadata": {
        "colab": {
          "base_uri": "https://localhost:8080/"
        },
        "id": "nY8EdDMCt2PK",
        "outputId": "9d423cf1-ced8-4a3b-9d4b-89e55bc22673"
      },
      "source": [
        "\n",
        "latent_dim = 120\n",
        "embedding_dim = 70\n",
        "\n",
        "# Encoder\n",
        "encoder_inputs = Input(shape=(max_text_len, ))\n",
        "\n",
        "# Embedding layer\n",
        "enc_emb = Embedding(x_voc, embedding_dim,\n",
        "                    trainable=True)(encoder_inputs)\n",
        "\n",
        "# Encoder LSTM 1\n",
        "encoder_lstm1 = LSTM(latent_dim, return_sequences=True,\n",
        "                     return_state=True, dropout=0.4,\n",
        "                     recurrent_dropout=0.4)\n",
        "(encoder_output1, state_h1, state_c1) = encoder_lstm1(enc_emb)\n",
        "\n",
        "  # Encoder LSTM 2\n",
        "encoder_lstm2 = LSTM(latent_dim, return_sequences=True,\n",
        "                     return_state=True, dropout=0.4,\n",
        "                     recurrent_dropout=0.4)\n",
        "(encoder_output2, state_h2, state_c2) = encoder_lstm2(encoder_output1)\n",
        "\n",
        "  # Encoder LSTM 3\n",
        "encoder_lstm3 = LSTM(latent_dim, return_state=True,\n",
        "                     return_sequences=True, dropout=0.4,\n",
        "                     recurrent_dropout=0.4)\n",
        "(encoder_outputs, state_h, state_c) = encoder_lstm3(encoder_output2)\n",
        "\n",
        "# Set up the decoder, using encoder_states as the initial state\n",
        "decoder_inputs = Input(shape=(None, ))\n",
        "\n",
        "# Embedding layer\n",
        "dec_emb_layer = Embedding(y_voc, embedding_dim, trainable=True)\n",
        "dec_emb = dec_emb_layer(decoder_inputs)\n",
        "\n",
        "#  Decoder LSTM\n",
        "decoder_lstm = LSTM(latent_dim, return_sequences=True,\n",
        "                    return_state=True, dropout=0.4,\n",
        "                    recurrent_dropout=0.2)\n",
        "(decoder_outputs, decoder_fwd_state, decoder_back_state) = \\\n",
        "decoder_lstm(dec_emb, initial_state=[state_h, state_c])\n",
        "\n",
        "# Dense layer\n",
        "decoder_dense = TimeDistributed(Dense(y_voc, activation='softmax'))\n",
        "decoder_outputs = decoder_dense(decoder_outputs)\n",
        "\n",
        "# Define the model\n",
        "\n",
        "model = Model([encoder_inputs, decoder_inputs], decoder_outputs)\n",
        "model.compile(optimizer='rmsprop', loss='sparse_categorical_crossentropy')\n",
        "\n",
        "model.summary()"
      ],
      "execution_count": 20,
      "outputs": [
        {
          "output_type": "stream",
          "text": [
            "WARNING:tensorflow:Layer lstm will not use cuDNN kernel since it doesn't meet the cuDNN kernel criteria. It will use generic GPU kernel as fallback when running on GPU\n",
            "WARNING:tensorflow:Layer lstm_1 will not use cuDNN kernel since it doesn't meet the cuDNN kernel criteria. It will use generic GPU kernel as fallback when running on GPU\n",
            "WARNING:tensorflow:Layer lstm_2 will not use cuDNN kernel since it doesn't meet the cuDNN kernel criteria. It will use generic GPU kernel as fallback when running on GPU\n",
            "WARNING:tensorflow:Layer lstm_3 will not use cuDNN kernel since it doesn't meet the cuDNN kernel criteria. It will use generic GPU kernel as fallback when running on GPU\n",
            "Model: \"model\"\n",
            "__________________________________________________________________________________________________\n",
            "Layer (type)                    Output Shape         Param #     Connected to                     \n",
            "==================================================================================================\n",
            "input_1 (InputLayer)            [(None, 2500)]       0                                            \n",
            "__________________________________________________________________________________________________\n",
            "embedding (Embedding)           (None, 2500, 70)     1627220     input_1[0][0]                    \n",
            "__________________________________________________________________________________________________\n",
            "lstm (LSTM)                     [(None, 2500, 120),  91680       embedding[0][0]                  \n",
            "__________________________________________________________________________________________________\n",
            "input_2 (InputLayer)            [(None, None)]       0                                            \n",
            "__________________________________________________________________________________________________\n",
            "lstm_1 (LSTM)                   [(None, 2500, 120),  115680      lstm[0][0]                       \n",
            "__________________________________________________________________________________________________\n",
            "embedding_1 (Embedding)         (None, None, 70)     111370      input_2[0][0]                    \n",
            "__________________________________________________________________________________________________\n",
            "lstm_2 (LSTM)                   [(None, 2500, 120),  115680      lstm_1[0][0]                     \n",
            "__________________________________________________________________________________________________\n",
            "lstm_3 (LSTM)                   [(None, None, 120),  91680       embedding_1[0][0]                \n",
            "                                                                 lstm_2[0][1]                     \n",
            "                                                                 lstm_2[0][2]                     \n",
            "__________________________________________________________________________________________________\n",
            "time_distributed (TimeDistribut (None, None, 1591)   192511      lstm_3[0][0]                     \n",
            "==================================================================================================\n",
            "Total params: 2,345,821\n",
            "Trainable params: 2,345,821\n",
            "Non-trainable params: 0\n",
            "__________________________________________________________________________________________________\n"
          ],
          "name": "stdout"
        }
      ]
    },
    {
      "cell_type": "code",
      "metadata": {
        "id": "l2afB2wbt-dt"
      },
      "source": [
        "es = EarlyStopping(monitor='val_loss', mode='min', verbose=1, patience=2)"
      ],
      "execution_count": 21,
      "outputs": []
    },
    {
      "cell_type": "code",
      "metadata": {
        "colab": {
          "base_uri": "https://localhost:8080/"
        },
        "id": "2KYMWfGJt_zA",
        "outputId": "c168156f-c512-4b74-8b4f-fcd8919e47e6"
      },
      "source": [
        "history = model.fit(\n",
        "    [x_tr, y_tr[:, :-1]],\n",
        "    y_tr.reshape(y_tr.shape[0], y_tr.shape[1], 1)[:, 1:],\n",
        "    epochs=40,\n",
        "    callbacks=[es],\n",
        "    batch_size=128,\n",
        "    validation_data=([x_val, y_val[:, :-1]], y_val.reshape(y_val.shape[0], y_val.shape[1], 1)[:,1:]),)"
      ],
      "execution_count": 22,
      "outputs": [
        {
          "output_type": "stream",
          "text": [
            "Epoch 1/40\n",
            "35/35 [==============================] - 832s 23s/step - loss: 5.2858 - val_loss: 3.1680\n",
            "Epoch 2/40\n",
            "35/35 [==============================] - 825s 24s/step - loss: 3.1570 - val_loss: 2.8901\n",
            "Epoch 3/40\n",
            "35/35 [==============================] - 821s 23s/step - loss: 2.8756 - val_loss: 2.6787\n",
            "Epoch 4/40\n",
            "35/35 [==============================] - 814s 23s/step - loss: 2.7279 - val_loss: 2.6455\n",
            "Epoch 5/40\n",
            "35/35 [==============================] - 817s 23s/step - loss: 2.6525 - val_loss: 2.5520\n",
            "Epoch 6/40\n",
            "35/35 [==============================] - 812s 23s/step - loss: 2.6334 - val_loss: 2.5405\n",
            "Epoch 7/40\n",
            "35/35 [==============================] - 809s 23s/step - loss: 2.6082 - val_loss: 2.5198\n",
            "Epoch 8/40\n",
            "35/35 [==============================] - 805s 23s/step - loss: 2.5977 - val_loss: 2.5100\n",
            "Epoch 9/40\n",
            "35/35 [==============================] - 805s 23s/step - loss: 2.5751 - val_loss: 2.5042\n",
            "Epoch 10/40\n",
            "35/35 [==============================] - 806s 23s/step - loss: 2.5552 - val_loss: 2.4986\n",
            "Epoch 11/40\n",
            "35/35 [==============================] - 806s 23s/step - loss: 2.5710 - val_loss: 2.4957\n",
            "Epoch 12/40\n",
            "35/35 [==============================] - 811s 23s/step - loss: 2.5300 - val_loss: 2.4938\n",
            "Epoch 13/40\n",
            "35/35 [==============================] - 807s 23s/step - loss: 2.5341 - val_loss: 2.4951\n",
            "Epoch 14/40\n",
            "35/35 [==============================] - 821s 23s/step - loss: 2.5288 - val_loss: 2.4867\n",
            "Epoch 15/40\n",
            "35/35 [==============================] - 817s 23s/step - loss: 2.5218 - val_loss: 2.4759\n",
            "Epoch 16/40\n",
            "35/35 [==============================] - 816s 23s/step - loss: 2.5181 - val_loss: 2.4751\n",
            "Epoch 17/40\n",
            "35/35 [==============================] - 813s 23s/step - loss: 2.4991 - val_loss: 2.4719\n",
            "Epoch 18/40\n",
            "35/35 [==============================] - 807s 23s/step - loss: 2.4710 - val_loss: 2.4639\n",
            "Epoch 19/40\n",
            "35/35 [==============================] - 810s 23s/step - loss: 2.4791 - val_loss: 2.4601\n",
            "Epoch 20/40\n",
            "35/35 [==============================] - 811s 23s/step - loss: 2.4697 - val_loss: 2.4554\n",
            "Epoch 21/40\n",
            "35/35 [==============================] - 811s 23s/step - loss: 2.4610 - val_loss: 2.4594\n",
            "Epoch 22/40\n",
            "35/35 [==============================] - 814s 23s/step - loss: 2.4508 - val_loss: 2.4532\n",
            "Epoch 23/40\n",
            "35/35 [==============================] - 816s 23s/step - loss: 2.4760 - val_loss: 2.4504\n",
            "Epoch 24/40\n",
            "35/35 [==============================] - 818s 23s/step - loss: 2.4312 - val_loss: 2.4430\n",
            "Epoch 25/40\n",
            "35/35 [==============================] - 811s 23s/step - loss: 2.4266 - val_loss: 2.4401\n",
            "Epoch 26/40\n",
            "35/35 [==============================] - 814s 23s/step - loss: 2.4122 - val_loss: 2.4498\n",
            "Epoch 27/40\n",
            "35/35 [==============================] - 816s 23s/step - loss: 2.4337 - val_loss: 2.4308\n",
            "Epoch 28/40\n",
            "35/35 [==============================] - 813s 23s/step - loss: 2.4184 - val_loss: 2.4312\n",
            "Epoch 29/40\n",
            "35/35 [==============================] - 820s 23s/step - loss: 2.4070 - val_loss: 2.4255\n",
            "Epoch 30/40\n",
            "35/35 [==============================] - 815s 23s/step - loss: 2.4035 - val_loss: 2.4245\n",
            "Epoch 31/40\n",
            "35/35 [==============================] - 816s 23s/step - loss: 2.3752 - val_loss: 2.4223\n",
            "Epoch 32/40\n",
            "35/35 [==============================] - 816s 23s/step - loss: 2.3815 - val_loss: 2.4157\n",
            "Epoch 33/40\n",
            "35/35 [==============================] - 813s 23s/step - loss: 2.3828 - val_loss: 2.4181\n",
            "Epoch 34/40\n",
            "35/35 [==============================] - 811s 23s/step - loss: 2.3571 - val_loss: 2.4147\n",
            "Epoch 35/40\n",
            "35/35 [==============================] - 815s 23s/step - loss: 2.3772 - val_loss: 2.4098\n",
            "Epoch 36/40\n",
            "35/35 [==============================] - 813s 23s/step - loss: 2.3346 - val_loss: 2.4077\n",
            "Epoch 37/40\n",
            "35/35 [==============================] - 816s 23s/step - loss: 2.3312 - val_loss: 2.4029\n",
            "Epoch 38/40\n",
            "35/35 [==============================] - 814s 23s/step - loss: 2.3410 - val_loss: 2.4049\n",
            "Epoch 39/40\n",
            "35/35 [==============================] - 813s 23s/step - loss: 2.3180 - val_loss: 2.3979\n",
            "Epoch 40/40\n",
            "35/35 [==============================] - 815s 23s/step - loss: 2.2929 - val_loss: 2.3947\n"
          ],
          "name": "stdout"
        }
      ]
    },
    {
      "cell_type": "code",
      "metadata": {
        "colab": {
          "base_uri": "https://localhost:8080/",
          "height": 266
        },
        "id": "KKl9WjUggms-",
        "outputId": "13666be6-e10e-4853-bcf4-aaeaede77665"
      },
      "source": [
        "from matplotlib import pyplot\n",
        "\n",
        "pyplot.plot(history.history['loss'], label='train')\n",
        "pyplot.plot(history.history['val_loss'], label='test')\n",
        "pyplot.legend()\n",
        "pyplot.show()"
      ],
      "execution_count": 23,
      "outputs": [
        {
          "output_type": "display_data",
          "data": {
            "image/png": "[encoded data removed]",
            "text/plain": [
              "<Figure size 432x288 with 1 Axes>"
            ]
          },
          "metadata": {
            "tags": [],
            "needs_background": "light"
          }
        }
      ]
    },
    {
      "cell_type": "code",
      "metadata": {
        "id": "MYVfsrBJgvpa"
      },
      "source": [
        "reverse_target_word_index = y_tokenizer.index_word\n",
        "reverse_source_word_index = x_tokenizer.index_word\n",
        "target_word_index = y_tokenizer.word_index"
      ],
      "execution_count": 24,
      "outputs": []
    },
    {
      "cell_type": "code",
      "metadata": {
        "id": "go91g8cqg3S-"
      },
      "source": [
        "# Inference Models\n",
        "\n",
        "# Encode the input sequence to get the feature vector\n",
        "encoder_model = Model(inputs=encoder_inputs, outputs=[encoder_outputs,\n",
        "                      state_h, state_c])\n",
        "\n",
        "# Decoder setup\n",
        "\n",
        "# Below tensors will hold the states of the previous time step\n",
        "decoder_state_input_h = Input(shape=(latent_dim, ))\n",
        "decoder_state_input_c = Input(shape=(latent_dim, ))\n",
        "decoder_hidden_state_input = Input(shape=(max_text_len, latent_dim))\n",
        "\n",
        "# Get the embeddings of the decoder sequence\n",
        "dec_emb2 = dec_emb_layer(decoder_inputs)\n",
        "\n",
        "# To predict the next word in the sequence, set the initial states to the states from the previous time step\n",
        "(decoder_outputs2, state_h2, state_c2) = decoder_lstm(dec_emb2,\n",
        "        initial_state=[decoder_state_input_h, decoder_state_input_c])\n",
        "\n",
        "# A dense softmax layer to generate prob dist. over the target vocabulary\n",
        "decoder_outputs2 = decoder_dense(decoder_outputs2)\n",
        "\n",
        "# Final decoder model\n",
        "decoder_model = Model([decoder_inputs] + [decoder_hidden_state_input,\n",
        "                      decoder_state_input_h, decoder_state_input_c],\n",
        "                      [decoder_outputs2] + [state_h2, state_c2])"
      ],
      "execution_count": 25,
      "outputs": []
    },
    {
      "cell_type": "code",
      "metadata": {
        "id": "8wGjRP4mxrsl"
      },
      "source": [
        "def decode_sequence(input_seq):\n",
        "\n",
        "    # Encode the input as state vectors.\n",
        "    (e_out, e_h, e_c) = encoder_model.predict(input_seq)\n",
        "\n",
        "    # Generate empty target sequence of length 1\n",
        "    target_seq = np.zeros((1, 1))\n",
        "\n",
        "    # Populate the first word of target sequence with the start word.\n",
        "    target_seq[0, 0] = target_word_index['sostok']\n",
        "\n",
        "    stop_condition = False\n",
        "    decoded_sentence = ''\n",
        "\n",
        "    while not stop_condition:\n",
        "        (output_tokens, h, c) = decoder_model.predict([target_seq]\n",
        "                + [e_out, e_h, e_c])\n",
        "\n",
        "        # Sample a token\n",
        "        sampled_token_index = np.argmax(output_tokens[0, -1, :])\n",
        "        sampled_token = reverse_target_word_index[sampled_token_index]\n",
        "\n",
        "        if sampled_token != 'eostok':\n",
        "            decoded_sentence += ' ' + sampled_token\n",
        "\n",
        "        # Exit condition: either hit max length or find the stop word.\n",
        "        if sampled_token == 'eostok' or len(decoded_sentence.split()) \\\n",
        "            >= max_summary_len - 1:\n",
        "            stop_condition = True\n",
        "\n",
        "        # Update the target sequence (of length 1)\n",
        "        target_seq = np.zeros((1, 1))\n",
        "        target_seq[0, 0] = sampled_token_index\n",
        "\n",
        "        # Update internal states\n",
        "        (e_h, e_c) = (h, c)\n",
        "\n",
        "    return decoded_sentence"
      ],
      "execution_count": 26,
      "outputs": []
    },
    {
      "cell_type": "code",
      "metadata": {
        "id": "59ET7Wpgx0lr"
      },
      "source": [
        "# To convert sequence to summary\n",
        "def seq2summary(input_seq):\n",
        "    newString = ''\n",
        "    for i in input_seq:\n",
        "        if i != 0 and i != target_word_index['sostok'] and i \\\n",
        "            != target_word_index['eostok']:\n",
        "            newString = newString + reverse_target_word_index[i] + ' '\n",
        "\n",
        "    return newString\n",
        "\n",
        "\n",
        "# To convert sequence to text\n",
        "def seq2text(input_seq):\n",
        "    newString = ''\n",
        "    for i in input_seq:\n",
        "        if i != 0:\n",
        "            newString = newString + reverse_source_word_index[i] + ' '\n",
        "\n",
        "    return newString"
      ],
      "execution_count": 27,
      "outputs": []
    },
    {
      "cell_type": "code",
      "metadata": {
        "colab": {
          "base_uri": "https://localhost:8080/"
        },
        "id": "28h3-k81yIkR",
        "outputId": "b9511e25-1555-4649-b31f-1b19b70548ae"
      },
      "source": [
        "for i in range(0, 19):\n",
        "    print ('Review:', seq2text(x_tr[i]))\n",
        "    print ('Original summary:', seq2summary(y_tr[i]))\n",
        "    print ('Predicted summary:', decode_sequence(x_tr[i].reshape(1, max_text_len)))\n",
        "    print ('\\n')"
      ],
      "execution_count": 28,
      "outputs": [
        {
          "output_type": "stream",
          "text": [
            "Review: cardinal timothy dolan of new york charged tuesday that president trump’s termination of the daca program “is certainly not christian and would contend it’s not american ” ending the program to help immigrants who came to the u s as children he said on the radio program with cardinal dolan our beloved immigrants into political hockey and they shouldn’t be ” dolan noted trump’s oft expressed concern that immigrants can bring crime with them but suggested that fear is overblown “the statistics show that way less than one percent of the immigrants are criminals are drug carriers are terrorists said dolan less than one percent ” “and to protect the borders from them bravo is that ever essential for sound and fair government “but to penalize all these wonderful people on the program he also talked with cardinal joseph from the archdiocese of newark who called trump’s announcement “another act of bullying ” dolan noted cardinal assertion that “you’re talking about kids who are fleeing most of the time economic hardships or religious persecution or even some retribution in the drug wars “they came here with their folks they are now in our colleges they’re now in our they’re now in our armed forces they’re americans ” dolan noted that tuesday is the feast of saint teresa of whom he called “an icon of love and compassion and said that makes his message “even more compelling ” he also said the catholic church “has special for immigrants because “we are an immigrant church they come to us first the highest percentage of immigrants are guess what catholic ” \n",
            "Original summary: start calls daca not christian and not american end \n",
            "Predicted summary:  start the of the of the end\n",
            "\n",
            "\n",
            "Review: for decades police have kept silent about the toll trauma takes on them their families and their careers but that is changing the associated press nine people were killed in 2015 shooting at emanuel church in charleston south carolina police departments across the country are connecting first responders with group to help them cope with trauma by mindy charleston s c when police chief gregory mullen started getting calls about potential at the emanuel church downtown he knew the first officers on the scene might need some extra help not or more but help coping with what he suspected would be horrific scene and he was right in barely six minutes on the night of june 17 2015 nine people at bible study at one of america’s oldest african american churches were murdered when young white man opened fire spewing racial epithets and 77 hollow point bullets eight victims died on the spot one died later in the hospital to counsel the first responders mullen called in cops who had experience with tough crime scenes some of those group were from virginia and had responded to the slaughter of 32 students and teachers at virginia tech in 2007 for decades police have kept silent about the toll trauma takes on them their families and their careers one result according to researchers is that they have higher suicide rates than the general population to change that police departments across the country are turning to nonprofit or state funded programs that help cops cope by connecting them to their peers and to mental health professionals “there’s much greater awareness of the effects of exposure to traumatic events in just the past five years said james baker director with the international association of chiefs of police many of the nonprofit programs are based on the law enforcement assistance program leap that began in south carolina 20 years ago eric presbyterian pastor launched the program with federal grant and now runs it in partnership with the state police state taxpayers can check box to contribute on their income tax forms and the nonprofit raises additional money from supporters and his peer support cops arrived less than 48 hours after the shooting at the church known as mother emanuel “we did some psychological first aid said later some of the responders attended three day seminar where they talked in both large and small groups of officers who’ve gone through trauma too programs like leap also offer professional mental health counseling teach techniques to dispel lingering memories and even provide to relieve tension arkansas georgia north carolina ohio texas and virginia have similar programs and kentucky is creating one in florida police departments in miami dade and counties are leaders in providing strong psychological support for officers baker said not single charleston officer has retired early or quit the force as result of the emanuel church shooting according to mullen he credits the sessions put on by south carolina’s leap program “a really important part of law enforcement is making sure you keep your people mentally physically emotionally and spiritually fit so they can do the work they are meant to do mullen said cops typically don’t talk about “the horrible things that one human being does to another said gregg psychiatrist who works with the police assistance groups in georgia north carolina and south carolina “there’s fear of what it will do to them on the job if they open up they worry going to know will it cost me promotion ” former agent with the naval criminal investigative service said the military’s increasing openness to helping service members cope with trauma is starting to spread to police departments but many police officers are still reluctant to open up “the ethos of policing is ‘we’re super people and we can’t be weak we’re not bunch of ” said john research professor at the state university of new york at buffalo who studies police health “what they forget is that they’re human ” between and 19 percent of america’s cops suffer from post traumatic stress disorder although those numbers may be low because police don’t readily report their emotional health according to and police are much more likely to commit suicide he said police have 69 percent higher risk of suicide than the average worker and detectives have an 82 percent higher risk according to analysis of data from the centers for disease control and prevention the cumulative effect of seeing mayhem over years makes cops more vulnerable to heart disease and diabetes too according to research “it’s the classic example of mind affecting body he said cops also are working in highly charged political atmosphere now with criticism of police shootings of unarmed people he said “i relate it to the vietnam war where vets were spat on and called killers ” said “it’s demoralizing ” cops also are working in highly charged political atmosphere now with criticism of police shootings of unarmed people he said the back was deputy sheriff in county virginia in 2005 when he got the call that an 8 year old girl had been hit by driver as she was crossing the street it was his daughter isabella though he’d been in the army and been cop for two decades the loss hit him hard “i started drinking heavily fell into alcohol and had thoughts of suicide said back 51 who is now deputy sheriff in charles city virginia his brother capt aaron back of the north carolina state highway patrol hooked his brother up with the leap program in south carolina and took him there for three day session “my brother fought me all the way he didn’t want to go no one would understand aaron said the program was so successful for his brother that aaron helped start leap program in north carolina in 2012 honestly it saved my life back said when cops show up for three day seminar on dealing with trauma they all have that reluctant “what have gotten myself look said rita watkins executive director of the law enforcement management institute in texas which has been running trauma sessions for five years at the beginning of typical session at many of these programs officers and sometimes their spouses sit around big table with peer group cops and mental health professionals the officers tell their stories sometimes for the first time everything is confidential their police chiefs won’t hear about what is said in the sessions “it’s gut wrenching said watkins “there’s lot of emotion that first day we share so much that the day is long ” on the second day the participating officers break into small groups then meet one on one with health professional or peer group cop and maybe get massage “these people are carrying so much physical stress and they don’t even realize it watkins said then they participate in technique to ease symptoms of trauma called eye movement desensitization and it’s an internationally known mode of treatment that combines talk therapy with rapid eye movement like you experience in deep sleep people dealing with trauma can’t get the images of the violence they’ve seen out of their minds “it’s like 60 inch color tv in front of your face all day long said lt steve click of the ohio state highway patrol who directs the ohio program after training he said “it’s 20 inch black and white in the corner somewhere ” people dealing with trauma can’t get the images of the violence they’ve seen out of their minds karen lansing who’s known as the is an expert on and has treated hundreds of police and u s military personnel who suffer from ptsd and other forms of trauma lansing was the first to study brain images and trauma in police she says it’s tough to break through the that first responders and military people have when she does an session she asks officers to close their eyes and recall the traumatic event and focus on every thought feeling physical reaction and emotion they experienced lansing and the officer break the episode into minute by minute segments and discuss them over and over “it’s clinically controlled flashback she said “we’re physical memory what they tasted in their mouth like the taste of metal which is really adrenaline what they actually felt as the bullet entered what were the sounds around them lansing said “we do it again and again and again until we neutralize these bombs ” \n",
            "Original summary: start cops get help to with end \n",
            "Predicted summary:  start the of the of the end\n",
            "\n",
            "\n",
            "Review: any pardon of disgraced and criminally convicted former sheriff joe arpaio by donald trump would be de facto monument to “the most egregious racial profiling in the united states” and culture of disregard for basic legal and constitutional obligations at least according to federal justice department report in 2011 arizona already has six confederate monuments almost all of them constructed in recent memory it doesn’t need another one albeit in the form of presidential pardon don’t forget in maricopa county rejected arpaio’s odious legacy last fall in long time grassroots campaign that mobilized voters and brought an end to his decades long reign even as trump won the state federal contempt conviction aside arpaio’s rap sheet has been well documented for years the east valley tribune won the 2008 pulitzer prize for their damning five part on how arpaio’s brutal raids and obsession with hunting down nonviolent undocumented immigrants shifted limited resources and law enforcement efforts from violent crime investigations in the fall of 2007 arpaio quipped on cnn’s lou tonight that he thought it was “an to be compared by his critics to the ku klux klan the justice department found his operations involved “a widespread pattern or practice of law enforcement and jail activities that discriminate against latinos ” in 2010 arpaio headlined rally on the u s mexico border with some of the most notorious white supremacists the list is endless “not only did defendant responsibility united states district judge susan bolton wrote in her guilty verdict last month “he announced to the world and to his subordinates that he was going to continue business as usual no matter who said otherwise ” let’s be clear arizona was not even recognized territory during the brief confederate occupation of southern arizona in below the thirty fourth parallel which was nothing less than an illegal act of treason by handful of land mercenaries and within months union forces from california sent the fleeing from tucson president abraham lincoln signed the territory of arizona into existence on february 24 1863 another half century passed before arizona even gained statehood instead of monuments to treasonous we need more monuments to heroes like mexican immigrant who defied the confederate occupation in tucson bottom line of history various confederate sympathizers and traitors in arizona ended up imprisoned briefly in the historic jail that would be good place for the confederate monuments the legacy of hate and all of its modern day expressions \n",
            "Original summary: start trump arpaio pardon instead arizona confederate monuments must come down end \n",
            "Predicted summary:  start the of the of the end\n",
            "\n",
            "\n",
            "Review: it took while but 2017 finally has real breakout comedy smash will packer and director malcolm lee brought us girls trip and the movie has grossed 90 domestic as of aug 10 2017 when four lifelong friends regina hall queen latifah jada pinkett smith and tiffany haddish travel to new orleans for the annual essence festival are wild sides are and there enough dancing drinking and to make even the big easy why has this movie been such hit playing well to adult women of all races because grown generally responsible women love to see movies where other grown generally responsible women have an opportunity to have enjoyable guilt free fun and become closer friends and better people in the process with all the turmoil in the world and women especially moms often found in the middle of lot of it i’d say we deserve to have these comedic moments even if for only two hours at clip hollywood executives suggest you take notes and continue with this formula there is an audience for this type of movie and if nothing more would expect to see part of girls trip jada pinkett smith’s character lisa is the only mom in the group yet many moms including me related to the entire movie in fact on the official release date of the movie july 21 2017 11 of my mom friends and me had our own girls’ night out as life coach and strategist many of my clients are stuck overwhelmed and anxious to become the women they want to be not just the moms they’re expected to be am certain this movie did for moms all over the country what encourage them to do in my coaching business it gave them the much needed permission to reconnect with their pre mom selves after all motherhood is not where dreams go to die last november along with 11 other moms from the east west coasts of the u s headed to turk for what turned out to be trip of lifetime seven days of fun and in luxury villa sans kids and partners self care good food great conversations and of course shopping consumed the week friendship bonds were strengthened and wonderful memories were created in conversations with other women who are mothers it’s been getaways are very popular excursions they are also very important all agreed that it’s just refreshing to have some “me time ” to be with friends and talk late into the night about their dreams kids relationships and just life in general being able to do so uninterrupted makes it that much special sarah has getaway with her best friend every year they’re both moms with two kids each she lives in san diego her friend in california’s bay area and they generally meet in locations between the two some of her trip details can be found here jennifer is from pennsylvania and her best friend is from canada they recently spent long weekend in toronto with other friends celebrating her 50th birthday and canada’s it was fun relaxing bonding time with friends away from spouses and kids her words of encouragement for mom who may be considering taking moms only vacation are “you are worth it your friends are worth it and your friendships are worth it just do it blair and her girl plan an annual two day escape usually after christmas but before new year their most recent trip was to in orlando florida “i know it’s flooded with kids but this time we didn’t have to worry about our kids it was completely different perspective we decided to around” and visit every country we we had blast each mom that these getaways are often necessary for our sanity these trips make us better moms and partners women need to reflect as friends and bond as women and that’s exactly what these types of getaways generally provide our hectic day to day schedules simply don’t allow opportunities for the laughter relaxation intimate conversations etc that mom getaways do here are few helpful tips in preparation for your next getaway and to ensure the very best time while you’re away discuss the idea with your significant other in advance so that he understands the need for you to have some much needed time ” in other words express how much this getaway will not just benefit you but everyone else in the home because if mom isn’t happy most often nobody else in the home is going to be happy take care of all things related to the home and family members being left behind leave detailed instructions including emergency information for tasks etc that may need to be completed in your absence of course provide your location and contact information choose wisely just because you’re friends doesn’t make you good travel companions the purpose of the trip is to wind down and enjoy and the last thing you need is to have someone who is debbie or drama queen in tow agree on the location an agenda or schedule for the trip if there is to be one some structure is great but keep in mind that some may simply want the freedom of being away discuss this in advance so that every mom is on the same page establish the mom girl code before leaving i e what happens in vegas stays in vegas what are the guidelines for social media sharing discuss any other or that all travelers should be aware of there truly is something about good old fashioned girls trip that your soul doing it mom style makes it even more special women are typically the caregivers in our society but often feel guilty when we take time out for ourselves am in the process of identifying the perfect location for my next getaway suggestions anyone are you feeling the desire to schedule one for you and your friends set girls’ trip no better time than now to make it happen guilt free unapologetically \n",
            "Original summary: start moms need to get away too end \n",
            "Predicted summary:  start the of the of the end\n",
            "\n",
            "\n",
            "Review: a new montana bill recently expanded the definition of rape to include cases in which victims did not explicitly fight against their attackers on monday montana governor steve bullock signed senate bill 29 into law after state legislators passed it almost unanimously 2 with only two republican house members opposing the statute according to local outlet the the bill changed the legal definition of sexual assault and rape in montana the bill the requirement of force from the definition of ’” before monday survivors had to prove that they fought back or were threatened into submission during their assault in order to prosecute their attackers that definition of rape completely left out cases where survivors were drugged or the attacker was in position of authority that prevented the victim from speaking up original definition of assault also allowed the attacker to claim consent was given if the victim was married to or in previous relationship with their attacker sen diane told the that many of the state’s sexual assault laws were completely outdated “most of these laws were passed in the 1970s when we had very different idea of what sexual assault was we have had many cases of sexual assault that everyone agrees was sexual assault but isn’t sexual assault under the law she said “we looked at really what it takes to convict someone of sexual assault i’m very pleased we could actually pass these pieces of legislation in most cases pretty much unanimously ” along with expanding the definition of assault senate bill 29 creates more comprehensive conversation about sexual crimes because it takes into account the fight or flight experience so many survivors encounter if person doesn’t fight back during their attack their assault can still be considered assault under the new statute head over the the to read more about senate bill 29 \n",
            "Original summary: start just rape laws to when victims don fight back end \n",
            "Predicted summary:  start the of the of the end\n",
            "\n",
            "\n",
            "Review: the devastation in harvey’s aftermath multiple explosions have been reported at chemical plant near houston read live updates on the aftermath of harvey which has left at least 35 people dead these aerial photos capture the true scale of the devastation in houston and third of americans say they know someone affected by harvey huffpost tweet share on facebook special counsel robert mueller has teamed up with new york attorney general eric schneiderman to investigate potential financial crimes committed by donald trump’s former campaign chairman paul manafort and here’s what trump’s former special counsel michael cohen had to say about those russia emails huffpost look at trump’s unveiled tax relief pitch without getting into specifics the president proposed “a tax break for the middle class fewer bringing home companies’ overseas profits and much lower corporate tax rate ” huffpost the google monopoly in action when barry lynn and his team of anti monopoly researchers at the new america foundation spoke out about google’s status as monopoly they were promptly fired from their institution which receives large donations from the tech giant huffpost latest north korean missile launch highlights short window for reaction “we imagine that we live in this universe in which we can see exactly where the missile is heading and so we know whether to shoot it down or not but that’s something we imagine not the world we actually live in ” huffpost break out your tin foil hats scientists are mysterious radio signals from deep space huffpost what’s brewing \n",
            "Original summary: start thursday morning email rising death toll in harvey wake end \n",
            "Predicted summary:  start the of the of the end\n",
            "\n",
            "\n",
            "Review: the man behind the people’s might just be the people’s choice for president campaign committee was formally filed on sunday to support actor and former wrestler dwayne “the rock” johnson for president in the 2020 election according to fec records the organization aptly called the rock 2020 was filed on behalf of johnson with the federal election commission fec by west virginia based writer tilford huffpost reached out to tilford for comment and has not heard back tilford has tweeted about his thoughts on johnson running for president in the past his twitter account is now private but there has been no public comment made as to why he’s formally filed this draft it’s important to note than anyone can register with the fec and it’s very common for people to do things like this but draft for johnson is particularly intriguing because he’s been buzzy name for presidential candidate for 2020 reuters photographer reuters johnson most recently joked about running for president in may on the season finale of and also revealed in an interview with gq for the same month that he’s not ruling the white house out “i think that it’s real possibility he told the publication of his possibly candidacy time will tell like tilford many fans of johnson hope he’s cooking up real presidential bid for 2020 and that this filing is just the start \n",
            "Original summary: start run the rock committee to make president end \n",
            "Predicted summary:  start the of the of the end\n",
            "\n",
            "\n",
            "Review: singapore washington reuters u s warship was damaged after colliding with merchant vessel east of singapore on monday the u s navy said the second accident involving u s navy in asian waters in little more than two months the navy said in statement the guided missile destroyer uss john mccain collided with the merchant vessel alnic mc while “the ship was to routine port visit in reports indicate john mccain sustained damage to her port side aft the navy said search and rescue mission was under way the navy says 10 sailors are missing and five are injured the associated press reports cindy are keeping america sailors aboard the uss john mccain in our prayers tonight appreciate the work of search rescue crews t co john mccain senjohnmccain august 21 2017 the u s navy said last week it had removed the two senior officers and the senior enlisted sailor on u s warship that almost sank off the coast of japan in june after it was struck by philippine container ship that collision killed seven u s sailors aboard the guided missile destroyer the uss fitzgerald jim tanner reuters map shows the location where the alnic mc merchant vessel came to halt after collision with the guided missile destroyer uss john mccain east of singapore august 21 2017 reuters the alnic mc is liberian flagged meter long oil or chemical of 50 tonnes according to shipping data in thomson reuters shipping data showed it last sent signal at gmt sunday and has since come to halt 10 20 km 6 12 miles off the east coast of the peninsula in southern malaysia the ship data showed it was meaning that it was not loaded full of oil for cargo us navy reuters the u s navy vessel is named for john mccain sr and john mccain jr both admirals in the united states navy are keeping america’s sailors aboard the uss john mccain in our prayers tonight appreciate the work of search rescue crews their son and grandson u s republican senator john mccain said on twitter senator mccain is vietnam war era naval who was shot down and held prisoner for five and a half years he is now undergoing treatment for brain cancer \n",
            "Original summary: start u s with east of end \n",
            "Predicted summary:  start the of the of the end\n",
            "\n",
            "\n",
            "Review: extremists and alike have attempted to paint violent factions within islam as the true expression of the faith but new study gives credence to what countless muslim leaders activists and scholars have argued that groups like the self proclaimed islamic state are muslim in name alone group of german scholars at the universities of and analyzed whatsapp messages found on phone seized by police following terrorist attack in the spring of 2016 the messages were exchanged among 12 young men involved in the attack the attack itself was not identified in the report noted that the timeframe suggested it may have been bombing at sikh temple in carried out in april of that year by group of german teens with reported links to islamic extremism researchers conducting the study said the young men’s conversations demonstrated little understanding of their professed faith and that the group constructed to suit their purposes dziri researcher at the university of and co author on the report examined the messages from an islamic studies perspective and concluded “the group had no basic knowledge about islam ” the scholars published their study as book exploring the youth scene in germany according to the amazon referencing an strain of islam with which the young men were allegedly affiliated the brookings institute defines as “the idea that the most authentic and true islam is found in the lived example of the early righteous generations of muslims known as the who were closest in both time and proximity to the prophet muhammad ” the movement has historically been and nonviolent wrote researcher mohammed in column on the new york times but brookings notes that smaller offshoot faction called jihadists do promote violence as and include groups like isis and al qaeda as one case study the amazon highlights the whatsapp offer into the group internal dynamics of young and their processes ” one thing that stood out dziri said in an email to huffpost was the extent to which the men had distanced themselves from local mosques and seemed confused about things as simple as how to go about conducting friday prayers at one point in the exchange young man asked if the faith permits cheating in school the researcher said “the answer was that it is allowed to do everything with the and since nearly all other people are you can do everything with everyone dziri said another man admitted in the messages he didn’t have copy of the quran islam’s holy text and the others agreed that they needed to purchase one dr professor at the university of and one of the study’s co authors said it was that the discussion about obtaining quran occurred well after the group had been established “all religious conversations conducted up to this time were only content that has been learned from and rumors told huffpost when the group’s self appointed leader called for meeting one participant that he didn’t have any islamic clothing the leader responded “you can also wear or something like that if you want can loan you something for the day ” the report is just case study from one group of individuals and its conclusions might not apply in all circumstances but it echoes the conclusions of many muslim scholars and activists who see little resemblance to their religion in such militant groups and dziri also noted that the 12 men involved in the whatsapp chat appeared to have received little and isolated themselves from other muslims in their community “one of the main points for us is that these young radicalized people come mostly from family which is remote from religion and they do not themselves in mosques dziri said “with profound knowledge of faith it would be impossible or at least considerably more difficult to in that way ” \n",
            "Original summary: start german study finds muslims have little of end \n",
            "Predicted summary:  start the of the of the end\n",
            "\n",
            "\n",
            "Review: a woman demonstrated perfectly how best to tackle hate as she helped supporters of president donald trump navigate through crowd that was yelling and spitting at them during rally in boston saturday the woman 27 year old named williams from connecticut told the boston globe she couldn’t think of better way to counter much of the hate that’s to the surface in america than helping people with whom she disagreed “you know don’t believe in this right wing narrative of the alt left and how we are crazed and looking to get violent she told the globe “what better way to show them they are wrong her comments came week after white supremacist groups and counterprotesters clashed in charlottesville virginia left one person dead and 19 injured trump said on tuesday there were “very fine people on both sides” at the charlottesville event and that counterprotesters whom he dubbed the “alt left were responsible too he has also strongly criticized efforts to remove confederate statues prominent white supremacists have praised his comments williams who is black told the globe she didn’t think white supremacists would give her the same kind of help she gave on saturday but that didn’t matter “i couldn’t get through kkk rally with the same treatment she said “but we shouldn’t be like them ” correction an earlier version of this article incorrectly stated williams’ age she is 27 \n",
            "Original summary: start woman trump supporters from crowd us how to hate end \n",
            "Predicted summary:  start the of the of the end\n",
            "\n",
            "\n",
            "Review: washington president donald trump on tuesday was on whether he still had confidence in attorney general jeff sessions after repeatedly expressing displeasure in sessions’ decision to recuse himself from the ongoing investigations into whether trump’s campaign colluded with russian officials “we will see what happens time will tell time will tell trump said after dodging questions on whether he would fire sessions at joint press conference with lebanon’s prime minister trump received multiple questions on sessions the president admitted in new york times interview published last week that he would not have appointed session had he known beforehand about the recusal when asked by margaret whether he was letting sessions in the wind trump said “i don’t think i’m doing that ” but he would not say outright whether he planned to fire the attorney general instead trump reiterated that he was “disappointed” in sessions’ recusal he added as he had asserted to the times that he “would have picked someone else ” trump said sessions needs to be “much tougher on the leaks from the intelligence agencies ” those sentiments echo several of tweets he wrote this week in which he bullied sessions including one in which he called the attorney general ” earlier tuesday the president similarly declined to tell the wall street journal whether he would fire sessions the president himself is used to shooting from the hip and doesn’t know that there’s some things that he’s better off not getting involved in john wood u s attorney for the western district of missouri during president george bush’s administration sessions recused himself from the investigation in march after he was found not to have disclosed multiple meetings he had with russian ambassador sergey kislyak he also cited his role as an adviser on trump’s campaign trump’s attacks on sessions are among series of unprecedented violations of department of justice norms generally the white house and doj operate with strict protocols to maintain independence former justice department officials on both sides of the political aisle expressed at trump’s criticisms which have furthered the appearance that the president is trying to throw cold water on the investigations into his campaign “i think it’s certainly correct that the president is not really familiar with the traditional lines between the justice department and the white house john wood u s attorney for the western district of missouri during president george bush’s administration told huffpost last week “the president himself is used to shooting from the hip and doesn’t know that there’s some things that he’s better off not getting involved in ” wood said he “could not imagine president bush saying something like that about really anyone who worked for him referring to trump’s comments about sessions “i think it hurts morale wood added “i think it is disruptive and it undermines the attorney general within the justice department ” trump is “obviously with sessions and “probably” wants the attorney general to go new white house communications director anthony scaramucci told radio host hugh hewitt on tuesday morning doj spokeswoman declined to comment on trump’s remarks from tuesday this article has been updated with more context about sessions and the department of justice ryan reilly contributed reporting \n",
            "Original summary: start donald trump in jeff sessions but won fire him for now end \n",
            "Predicted summary:  start the of the of the end\n",
            "\n",
            "\n",
            "Review: like what you read below sign up for huffpost hill and get cheeky dose of political news every evening anthony scaramucci is the new white house communications director which is perfect because what this fine tuned machine really lacked was guy with nickname like “the mooch ” sean spicer will soon be liberated from telling trump’s lies and be able to spend more time lying about things of his own choosing and the democratic party has new slogan replacing its previous one this is huffpost hill for friday july 21st 2017 white house shakeup wake us when trump fires himself glenn spicer the white house press secretary resigned on friday morning after denouncing chaos in the west wing and telling president trump he vehemently disagreed with the appointment of the new york financier anthony scaramucci as communications mr scaramucci founded the global investment firm skybridge capital and is fox news contributor he is known for his spirited on air defense of mr trump … the resignation is serious blow to the embattled white house chief of staff reince priebus the former republican party chairman who brought mr spicer into the west wing despite skepticism from mr trump who initially questioned his mr trump’s son in law jared kushner has grown critical of both mr spicer and mr priebus whom he regards as party establishment figures who operate out of self interest ” nyt watch huffpost’s video roundup of greatest hits huckabee sanders to continue getting back to you on that huckabee sanders will replace sean spicer as white house press sanders who had served as principal deputy press secretary had frequently substituted for spicer during daily briefings since may ” huffpost’s reilly wapo compiled history of people leaving or never making it into the trump administration it been an honor privilege to serve potus realdonaldtrump this amazing country will continue my service through august sean spicer july 21 2017 yeah sure dude nope too on the nose sorry pic twitter com alexandra petri july 21 2017 constitutional crisis right up carol ashley parker and tom hamburger “some of president trump’s lawyers are exploring ways to limit or undercut special counsel robert mueller russia investigation building case against what they allege are his conflicts of interest and discussing the president’s authority to grant pardons according to people familiar with the effort trump has asked his advisers about his power to pardon aides family members and even himself in connection with the probe according to one of those people second person said trump’s lawyers have been discussing the president’s pardoning powers among themselves ” wapo strongly worded statements to the rescue “the top democrats on the congressional panels investigating russia’s election meddling are warning president donald trump not to attempt to pardon his campaign aides whose alleged ties to moscow are now under investigation the statements by rep adam schiff of california and mark warner of virginia follow reports including in the washington post that trump’s legal team is exploring the possibility of pardons ” politico’s austin wright the only thing that can stop trump is trump prepare yourself for this to get worse ryan reilly “democrats who hope that special counsel robert mueller’s investigation into russian interference in the 2016 election could bring an end to donald trump’s presidency may want to consult constitutional scholar congress could always impeach the president but short of that trump’s job offers him sweeping protections from the types of accountability that normally apply to regular while his position as president may allow trump to dodge legal accountability the russia probe has already had an effect on his political standing that could ultimately be where the real consequences lie preemptive move like pardoning his son would spark massive criticism and cement the belief in many americans’ mind that whoever received pardon broke the law in similar vein trump himself had proclaimed that pleading the fifth amendment was an admission of guilt ” huffpost this is getting ridiculous maria and jack “the russian lawyer who met donald trump jr after his father won the republican nomination for the 2016 u s presidential election counted russia’s security service among her clients for years russian court documents seen by reuters show the documents show that the lawyer natalia veselnitskaya successfully represented the interests in legal over ownership of an upscale property in northwest moscow between 2005 and 2013 the successor to the soviet era kgb service was headed by vladimir putin before he became russian president ” reuters does somebody keep forwarding you this newsletter get your own copy it’s free sign up here send tips stories photos events fundraisers job movement juicy miscellanea to eliot huffpost com follow us on twitter huffposthill for your ‘this was only bad when obama wanted file adam goldman and matt “the trump administration has brought qaeda suspect to the united states to face trial in federal court backing off its hard line position that terrorist suspects should be sent to the naval prison in bay cuba rather than to civilian for years republicans portrayed civilian trials as weakness in mr obama’s national security policy his plan to prosecute mohammed the admitted of the sept 11 attacks in new york amid controversy since then however federal prosecutors have consistently won convictions and lengthy prison sentences for foreign terrorists and helped crucial intelligence ” nyt huffpost exclusive 200 is less than nothing gets past us jonathan cohn “senate republican leaders and trump administration officials trying to rally support for their health care bill are apparently dangling an offer of some new money to help low income people get health insurance it could be as much as 200 billion over 10 years according to reports in bloomberg and the the better care reconciliation act the proposal that senate leaders are trying to bring to the floor next week would take billion out of medicaid over the next 10 years according to the nonpartisan congressional budget office the bill would also reduce tax credits for people buying private insurance on their own bringing the total reduction in federal spending to 1 2 trillion putting something like 200 billion of that back into health coverage isn’t nearly enough to blunt the effects ″ huffpost revenge of the nerds “every economist who has previously served as director of the congressional budget office has signed letter registering objection to recent on the agency the letter sent friday morning and addressed to congressional leaders does not specify who has been making those attacks but only one political party is attacking the cbo right now and only one party has so brazenly questioned the agency’s methods to draw this kind of response from such distinguished bipartisan group of economists it’s the republicans because they don’t like what the cbo has been saying about gop proposals to repeal the affordable care act ” huffpost’s jonathan cohn they go low we go look out dangerous donald here come the dems and sam stein “house and senate democrats this coming week are poised to unveil new government platform geared around populist policy suggestions and it won’t be done under banner that evokes thoughts of papa john’s pizza the party’s slogan according to numerous sources is set to be ‘a better deal better jobs better wages better future ’ myriad observers noted that the phrase sounded similar to the famous longtime ingredients better pizza papa corporate ad slogan ″ daily beast former 18 term rep ralph r ohio is dead at 92 this is gross in addition to the obvious this can’t possibly go over well with all those really old chris massie and andrew kaczynski “us senate candidate kelli ward who is challenging arizona sen jeff flake in the state’s 2018 republican primary said thursday that she hopes sen john mccain will step aside as quickly as possible following the news this week of his brain cancer diagnosis ward who failed in her effort to unseat mccain during last year’s primary also floated the possibility that she would be appointed to mccain’s seat should he resign ” cnn another letter for trump to ignore “california attorney general xavier becerra and the top cops in 18 other states and the district of columbia urged president donald trump to uphold protections for young undocumented immigrants also known as dreamers who came to the u s as children they also vowed to help defend the policy against lawsuits from other states opposed to the program ” huffpost’s reilly huffpost bus tour stop in pyongyang yeganeh torbati and se young lee “the u s government will ban americans from traveling to north korea due to ‘the serious risk of after an american student was jailed while on tour and later died the state department said on north korea has detained two korean american academics and missionary canadian pastor and three south korean nationals who were doing missionary work there japan says at least several dozen of its nationals are being held in the country ” reuters because you’ve read this far area do the right thing eventually and under at least it’s hotter someplace else you’re wearing suit right now aren’t you jason “on friday the 24 million plus inhabitants of shanghai witnessed the temperature skyrocket to 105 6 degrees 40 9 celsius its hottest day ever recorded the chinese city which has more people than any in the world has tracked temperatures since this record high temperature in shanghai is one of several all time heat records set this summer around the northern hemisphere ” wapo comfort food this is what rocket launch looks like from space in honor of sean spicer here’s definitive ranking of people in bunny costumes some pretty impressive wedding dresses made out of toilet paper twitterama sean love july 21 2017 sean to the next one mary july 21 2017 sean in 60 seconds doha july 21 2017 sean baby sean matt ortega july 21 2017 jack montgomery july 21 2017 here today sean tomorrow ariel edwards levy aedwardslevy july 21 2017 sean but not forgotten ariel edwards levy aedwardslevy july 21 2017 going going sean ariel edwards levy aedwardslevy july 21 2017 got something to add sen tips quotes stories photos events fundraisers job movement juicy miscellanea to eliot nelson eliot huffpost com \n",
            "Original summary: start to white house press secretary jared kushner end \n",
            "Predicted summary:  start the of the of the end\n",
            "\n",
            "\n",
            "Review: every monday the creators of the movie themed game organize hashtag game on twitter in which they call on people to rewrite famous film titles around different themes for the latest hashtag game the theme is parents and twitter users have not disappointed from first to “i’m not mad max just disappointed these titles are creative and hilarious keep scrolling and visit twitter for some more funny titles m not mad max just disappointed parentschmovies daniel july 24 2017 the have eyes in the backs of their heads parentschmovies july 24 2017 50 first play dates parentschmovies july 24 2017 always hoping the kids are alright parentschmovies hillary miller july 24 2017 legal guardians of the galaxy parentschmovies michael july 24 2017 \n",
            "Original summary: start hilarious tweets if famous movies were about parenting end \n",
            "Predicted summary:  start the of the of the end\n",
            "\n",
            "\n",
            "Review: reuters the u s health regulator on thursday raised concerns about facility that manufactures lead testing devices nearly two months after the regulator warned that the tests may underestimate lead levels in blood the food and drug administration said it had issued unit form for its north massachusetts based facility which manufactures the devices devices are the only lead testing products cleared by the fda and account for about half of all lead tests in the united states if the agency finds problems in company facilities it issues form a notice outlining violations which if not resolved can lead to and in worst case ban bit ly in its report the fda listed certain observations that may be in violation of federal law including concerns that design validation studies on some devices did not ensure they work the way they are intended to the agency also called out the company for failing to identify potential risk to patients from falsely low test result “we are carefully reviewing the evidence collected during the inspection to determine if there have been violations of federal law and whether further action is warranted the fda said in statement on thursday bit ly said its unit will respond to the issues raised by the agency is addressing the observations noted in the form fda with the highest sense of urgency the company said in statement on thursday in may the fda warned laboratories and healthcare professionals not to use any lead testing device made by which was bought by in 2016 to test blood drawn from veins the tests are designed to detect lead poisoning that can stunt children’s growth and reduce according to the centers for disease control and prevention awareness of lead poisoning escalated following widespread exposure in flint michigan reuters has identified more than 300 areas with lead poisoning rates in children at least double those found in michigan city \n",
            "Original summary: start about that makes lead end \n",
            "Predicted summary:  start the of the of the end\n",
            "\n",
            "\n",
            "Review: after their efforts to approve replacement for the affordable care act aca went down to defeat again the republicans came up with new strategy on health care as donald trump put it they are going to “let obamacare fail ” the idea appears to let the health care exchanges which are the centerpiece of the aca fall apart as more insurers leave then when there are few exchanges operating with any substantial level of competition trump and the republicans will sail in with some version of the plans that have collapsed in the last five months they will now have the compelling argument that their replacement plan is better than nothing since there will be little or nothing left of the health care exchanges while it is possible that this strategy could work there is really important point that often gets left out of the picture the exchanges are not dying in fact according to experts who study this issue and aren’t on donald trump’s payroll the exchanges are actually doing quite well the assessment of the congressional budget office the kaiser family foundation and others is that the health care exchanges have largely stabilized and insurers are now able to operate in other words the people who don’t have something to gain by lying about the health of obamacare say that the program is actually working predictably the people who do get paid by the white house pronounce such assessments as “fake news ” the basic point is simple one contrary to the claims of trump and congressional republicans the exchanges are not in death spiral are increasing that is the wrong direction for the the obamacare story of course many people have heard about all of the counties with little or no competition in their exchanges more than counties only have single insurer in their exchanges and some don’t have any that is indeed bad news but the lack of competition in the exchanges is overwhelming problem for people who live in states controlled by republicans while more than 20 percent of the people who live in states with republican governors only have one insurer in their exchange this is the case for less than 2 0 percent of the people who live in states with democratic governors this figure excludes north carolina where democratic governor just took over in january many states with republican governors did not expand medicaid this expansion helped the exchanges since it pulled out many of the less healthy people from the patient pools in the exchange these governors also were not aggressive in promoting the exchanges as result fewer healthy people signed up for insurance making the exchange population less healthy than in states controlled by democrats trying to make the aca work the result is that republicans can now happily boast about their success in undermining the insurance market in much of the country trump is apparently prepared to build on this success and see if he can undermine the exchanges even in the states controlled by democrats and he does have tools to do it the first tool is the the government makes to insurers for covering out of pocket costs for low income people if insurers did not cover these expenses insurance would be unaffordable for many low income people and the insurers won’t cover the costs if the government is not picking up the tab even more importantly trump could refuse to enforce the individual mandate this is an essential part of the system since insurers are prohibited from discriminating against people based on their health as result healthy person could decide to go years without insurance and only start paying premiums if they develop serious illness in this situation the insurance pool ends up being less healthy and more costly for insurers this is sure path to death spiral in this scenario insurers raise rates because of their less healthy pool the higher rates discourage healthier people from getting insurance further worsening the health of the average insure this cycle will continue until the pool only includes the least healthy and most expensive patients through these and other mechanisms president trump certainly is capable of killing obamacare but let’s not play games here trump is not talking about letting the patient die he is talking about murder trump and the republicans are not discussing whether they should let obamacare die they are plotting to kill it \n",
            "Original summary: start obamacare isn just dying trump and republicans are trying to kill it end \n",
            "Predicted summary:  start the of the of the end\n",
            "\n",
            "\n",
            "Review: afp sana photo released by the syrian arab news agency sana shows former iranian president mahmoud his syrian counterpart bashar al assad and lebanon’s hezbollah chief hassan arriving for an official dinner in damascus late on feb 25 2010 since the start of the syrian conflict lebanon’s government has officially adopted policy of toward the war next door however now some lebanese political parties and organizations allied with bashar al assad seem to be trying to overthrow the policy beirut president bashar al assad’s allies in lebanon have continued to challenge muddled policy of disengagement with the syrian state so far without any repercussions lebanon’s official policy toward the war next door is ” however earlier this month the country’s preeminent armed lebanese political group hezbollah coordinated with damascus to organize the largest formal of refugees and fighters to syria since the start of the conflict ministers from three pro assad lebanese political groups also attended an international trade fair in the syrian capital last week in an open display of contempt for the policy this is not the first time that assad’s lebanese allies have ignored their government’s official position toward syria but the latest developments signal that they may be actively trying to upend the policy even if it has been largely symbolic “the policy is myth it’s not reality it’s nothing more than political slogan head of the beirut based institute for strategic affairs told syria deeply “right now we are in situation where we have multiple governments within one government with each minister choosing to have foreign policy of their own it’s complete chaos ” the flaws of when fighting broke out in syria lebanese political parties were split between those who were pro opposition and those who supported the government meanwhile the majority of arab states in the region severed ties with damascus publicly criticizing assad by 2012 lebanese political groups were as divided as the warring syrian factions themselves to protect his divided government from complete collapse and to maintain ties with the international community then prime minister adopted the so called policy the policy did not sever diplomatic or trade ties between the two countries but prevented the lebanese government from engaging with assad’s government in an official capacity it also meant that lebanon would not officially support assad or the syrian opposition political parties in lebanon however failed to fall in line hezbollah made its support for the syrian government abundantly clear and over the following six years the group emerged as one of the most powerful paramilitary forces fighting in syria on behalf of assad on the other hand lebanon’s largest sunni bloc and primary rival the future movement openly sided with the syrian opposition and supported international calls to overthrow the government in damascus the rift in the government over ties with syria deepened last week when ministers affiliated with hezbollah the shiite amal movement and the christian movement attended the damascus international fair trade exhibition the syrian government touted as its of economic victory ” the visit was one of the most publicized by lebanese ministerial delegation since the start of the conflict it was also highly controversial since it was not sanctioned by the state instead lebanon’s prime minister said any minister who went to syria was doing so in personal rather than official capacity but the ministers publicly contradicted the official statement “we are here in our official ministerial capacities and we congratulate the syrian leadership for their victory over terrorism industry minister and hezbollah official hussein hajj hassan said after meeting with the syrian prime minister on thursday according to lebanon’s state run national news agency minister of public works and transportation youssef followed suit in comments reported by the “why should we hide behind our fingers the movement minister asked “when we as ministers arrive at the syrian border will they say we are no longer ministers will they say we are just ordinary people visiting the trade fair a larger trend according to associate professor of political science at the lebanese american university the contradictory narratives illustrate trend in lebanese foreign policy “my impression is that in lebanon you rarely ever have coherent foreign policy because of the structure of the state different have different foreign policies said “so what we are seeing today is not something that is extraordinary in lebanese politics we have weak state and strong non state actors ” another example of this he said was the evacuation of thousands of syrian refugees militants and their families from lebanon to syria earlier this month although lebanon’s prime minister said his government would coordinate refugee transfers only with the u n hezbollah negotiated the largest formal of syrian refugees and fighters since the start of the war without the official involvement of the lebanese government or international humanitarian agencies the first population transfer saw thousands of refugees al qaida linked militants and their families bused from lebanese border town to the rebel held province of idlib on august less than two weeks later hezbollah reached an agreement with free syrian army affiliate that saw thousands more refugees fighters and their families transferred to the syrian town of al ward and rebel held positions in the eastern region what’s more hezbollah coordinated the transfer with state run lebanese security agencies such as lebanese general security but without official state involvement deliberate balancing act who has written extensively on lebanon’s relationship with syria said the lebanese government was intentionally allowing non state actors to manage relations with damascus “to think you can ignore what is happening on the other side of the border is impossible the government can’t do it so it will be up to non state actors to get involved he said “the government is intentionally leaving it to non state actors to handle relations with syria to balance between regional powers and their internal ” by allowing hezbollah to handle relations with syria the lebanese government can still claim degree of distance from syria and in turn maneuver between the competing demands of regional powers such as saudi arabia and iran which both support rival groups within the cabinet the government recipient of significant u s military aid can also continue to pose as natural arab ally of assad’s opponents in washington as evidenced by last month’s meeting between the lebanese prime minister and u s president donald trump this balancing act may be sustainable for the time being but looking forward lebanon will eventually have to confront the issue of future ties with syria especially if assad’s allies in lebanon keep pushing the country toward normalizing ties with damascus however according to future ties between lebanon and syria will not be shaped by the two countries themselves but will instead be defined by broader agreement between regional and international powers “for the future we have to remember that lebanon’s foreign policy is consequence of the geopolitical balance of power lebanon is not of geopolitics it is receiver ” this article originally appeared on syria deeply and you can find the original here for important news about the war in syria you can sign up to the syria deeply email list \n",
            "Original summary: start allies trying to syria policy end \n",
            "Predicted summary:  start the of the of the end\n",
            "\n",
            "\n",
            "Review: this article is authored by the mayo clinic center for individualized medicine the mission of the center is to discover and integrate the latest in molecular and clinical sciences into personalized care for patients new technology is prenatal screening to assess the health of developing baby now pregnant women can have their baby initially screened for genetic disorders such as down syndrome through the use of newer blood test that dna present in the mother’s blood stream another test for couples planning family uses single blood sample to assess whether future children might be at risk for developing genetic disease “it’s an exciting time in perinatal testing explains wick m d ph d sequencing and molecular technology have improved and become more cost effective these tests are important for family planning before pregnancy as well as planning for the care of baby who is found to have genetic disorder during pregnancy researchers from mayo clinic and the center for individualized medicine have helped implement several of these tests which use personalized medicine approach to perinatal screening three state of the art perinatal genetic tests are becoming more widely available to expectant parents cell free dna testing mayo medical laboratories recently launched blood test to screen for the most common disorders diagnosed in pregnancy such as down syndrome it’s known as cell free dna test it screens the mother’s blood that contains dna from the baby looking for genetic disorders in the fetus the new test generally has higher detection rate and fewer false positives than traditional screening tests to this new test mothers had the option of traditional first trimester screening which is blood test and ultrasound or second trimester screening which is blood test in general the cell free dna blood test can be used in place of the traditional first and second trimester screening explains dr wick it is important to remember that the cell free dna testing is screening test and abnormal results should be followed up with additional testing the out of pocket cost for the new blood test varies depending on insurance coverage and the specific laboratory performing the testing general estimate is approximately 350 results are usually ready within one week expanded carrier screening in the past couples had genetic screening based on family history of genetic disorder or if they were part of an ethnic group at risk for certain inherited diseases previous tests only screened for small defined group of genetic disorders those tests didn’t help couples who were uncertain of their ethnic heritage plus the tests were very limited in scope “it’s an exciting time in perinatal testing dna sequencing and molecular technology has improved and become more cost effective these tests are important for family planning prior to pregnancy as well as planning for the care of child who is found to have genetic disorder during pregnancy dr wick now couples may choose more comprehensive test that looks for 100 or more genetic disorders it’s called expanded carrier screening this test is done with blood sample from each prospective parent carrier screening looks at multiple genes associated with genetic diseases most of the disorders included on an expanded carrier screen are inherited in an manner this means that the parents are carriers of the disorder with one normal copy of the gene and one abnormal copy of the gene carriers of an disorder do not typically have signs or symptoms of the disease child is affected with an disorder when he or she one abnormal copy of the gene from mom and one abnormal copy of the gene from dad approximately 5 of couples who undergo expanded carrier screening are found to be carriers for the same disorder and at risk for having an affected says dr wick depending upon insurance coverage the test costs approximately 350 test results are returned within one to two weeks whole sequencing wes in rare cases an ultrasound during pregnancy reveals that the baby has several medical problems traditional genetic testing may not identify diagnosis now whole sequencing wes which looks at most of the genes linked to growth and health can be used to evaluate the condition it can provide diagnosis in 30 percent of cases for this testing an is performed first to obtain dna for genetic analysis “we are beginning to use wes even before the baby is born results can be used to plan for care of an infant who may be born with several complex medical concerns in addition parents can use this information for future family planning says dr wick whole sequencing is expensive with typical costs of approximately 8 000 depending upon the specific test and insurance coverage results from this more complex screening usually take several weeks depending upon the specific test being used seek genetic counseling dr suggests that you ask your health care provider about genetic testing and recommends that all prospective and expectant parents consult with medical or genetic counselor before genetic screening \n",
            "Original summary: start 3 to improve end \n",
            "Predicted summary:  start the of the of the end\n",
            "\n",
            "\n",
            "Review: sarah huckabee sanders has put herself in quite the internet already ripped into the white house press secretary after she read letter during press briefing that purportedly came from 9 year old who loves president donald trump and goes by the nickname ” chelsea handler couldn’t resist joining in fortune an actress on “the mindy and comedy writer joined handler on the latest episode of ” she sanders by reading letter from boy named ” apparently his vocabulary comes straight from former white house communications director anthony “the mooch” scaramucci meaning chief strategist steve bannon probably won’t be fan as sanders also got candid about working with the off camera press briefings and whether she feels like she’s lying all the time spoiler alert yup she does \n",
            "Original summary: start chelsea brutal of sarah sanders on her show end \n",
            "Predicted summary:  start the of the of the end\n",
            "\n",
            "\n",
            "Review: in piece published on fox news’ website pence showered trump with praise about his successful six months in office “president trump’s accomplishments are nothing short of historic pence wrote “but as the president likes to say at this white house that’s just what we call good start ” pence then listed number of promises the trump administration had yet to deliver on namely tax cuts “it is the greatest privilege of my life to serve as vice president to president who is fighting every single day to restore an america of freedom prosperity and opportunity for all he added pence’s sentiments echoed comments made at june cabinet meeting in which trump appointees took turns praising the president pence spoke first and said “this is the greatest privilege of my life to serve as vice president to president who’s keeping his word to the american people ” hours after fox news published the op ed trump attacked members of his own party complaining that some republicans do not their president ” \n",
            "Original summary: start mike pence his trump with love letter end \n",
            "Predicted summary:  start the of the of the end\n",
            "\n",
            "\n"
          ],
          "name": "stdout"
        }
      ]
    }
  ]
}