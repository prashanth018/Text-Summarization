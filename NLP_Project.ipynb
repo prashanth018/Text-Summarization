{
  "nbformat": 4,
  "nbformat_minor": 0,
  "metadata": {
    "colab": {
      "name": "NLP Project.ipynb",
      "provenance": [],
      "collapsed_sections": [],
      "authorship_tag": "ABX9TyPegYOX7mCG2RTsIjHci6Ed",
      "include_colab_link": true
    },
    "kernelspec": {
      "name": "python3",
      "display_name": "Python 3"
    },
    "language_info": {
      "name": "python"
    },
    "accelerator": "GPU"
  },
  "cells": [
    {
      "cell_type": "markdown",
      "metadata": {
        "id": "view-in-github",
        "colab_type": "text"
      },
      "source": [
        "<a href=\"https://colab.research.google.com/github/prashanth018/Text-Summarization/blob/Dyuthi/NLP_Project.ipynb\" target=\"_parent\"><img src=\"https://colab.research.google.com/assets/colab-badge.svg\" alt=\"Open In Colab\"/></a>"
      ]
    },
    {
      "cell_type": "code",
      "metadata": {
        "id": "XCc-CEcaI0dE"
      },
      "source": [
        "import pandas as pd\n",
        "import io\n",
        "import re\n",
        "import spacy\n",
        "from time import time\n",
        "import matplotlib.pyplot as plt\n",
        "import numpy as np\n",
        "from sklearn.model_selection import train_test_split\n",
        "from tensorflow.keras.preprocessing.text import Tokenizer \n",
        "from tensorflow.keras.preprocessing.sequence import pad_sequences\n",
        "from tensorflow.keras.layers import Input, LSTM, Embedding, Dense, \\\n",
        "    Concatenate, TimeDistributed\n",
        "from tensorflow.keras.models import Model\n",
        "from tensorflow.keras.callbacks import EarlyStopping\n",
        "from matplotlib import pyplot"
      ],
      "execution_count": null,
      "outputs": []
    },
    {
      "cell_type": "code",
      "metadata": {
        "colab": {
          "resources": {
            "http://localhost:8080/nbextensions/google.colab/files.js": {
              "data": "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",
              "ok": true,
              "headers": [
                [
                  "content-type",
                  "application/javascript"
                ]
              ],
              "status": 200,
              "status_text": "OK"
            }
          },
          "base_uri": "https://localhost:8080/",
          "height": 75
        },
        "id": "svfStoEIJFnr",
        "outputId": "df09d7e2-56dd-4f44-d8df-22b0a99bff31"
      },
      "source": [
        "from google.colab import files\n",
        "uploaded = files.upload()"
      ],
      "execution_count": null,
      "outputs": [
        {
          "output_type": "display_data",
          "data": {
            "text/html": [
              "\n",
              "     <input type=\"file\" id=\"files-7c0d1b37-fee8-4030-bc32-523dc78dffb5\" name=\"files[]\" multiple disabled\n",
              "        style=\"border:none\" />\n",
              "     <output id=\"result-7c0d1b37-fee8-4030-bc32-523dc78dffb5\">\n",
              "      Upload widget is only available when the cell has been executed in the\n",
              "      current browser session. Please rerun this cell to enable.\n",
              "      </output>\n",
              "      <script src=\"/nbextensions/google.colab/files.js\"></script> "
            ],
            "text/plain": [
              "<IPython.core.display.HTML object>"
            ]
          },
          "metadata": {
            "tags": []
          }
        },
        {
          "output_type": "stream",
          "text": [
            "Saving news_category_dataset-161000-171000.csv to news_category_dataset-161000-171000 (1).csv\n"
          ],
          "name": "stdout"
        }
      ]
    },
    {
      "cell_type": "code",
      "metadata": {
        "id": "eE8WhGPRJSTB",
        "colab": {
          "base_uri": "https://localhost:8080/",
          "height": 614
        },
        "outputId": "084ebe1b-df8d-448b-d25d-a33d759bda30"
      },
      "source": [
        "dataset = pd.read_csv(io.BytesIO(uploaded[r'news_category_dataset-161000-171000.csv']))\n",
        "dataset"
      ],
      "execution_count": null,
      "outputs": [
        {
          "output_type": "execute_result",
          "data": {
            "text/html": [
              "<div>\n",
              "<style scoped>\n",
              "    .dataframe tbody tr th:only-of-type {\n",
              "        vertical-align: middle;\n",
              "    }\n",
              "\n",
              "    .dataframe tbody tr th {\n",
              "        vertical-align: top;\n",
              "    }\n",
              "\n",
              "    .dataframe thead th {\n",
              "        text-align: right;\n",
              "    }\n",
              "</style>\n",
              "<table border=\"1\" class=\"dataframe\">\n",
              "  <thead>\n",
              "    <tr style=\"text-align: right;\">\n",
              "      <th></th>\n",
              "      <th>Unnamed: 0</th>\n",
              "      <th>news_text</th>\n",
              "      <th>category</th>\n",
              "      <th>headline</th>\n",
              "      <th>short_desc</th>\n",
              "      <th>url</th>\n",
              "    </tr>\n",
              "  </thead>\n",
              "  <tbody>\n",
              "    <tr>\n",
              "      <th>0</th>\n",
              "      <td>1</td>\n",
              "      <td>This undated publicity film image provided by ...</td>\n",
              "      <td>ENTERTAINMENT</td>\n",
              "      <td>Entertainment vs. Historical Accuracy?</td>\n",
              "      <td>A filmmaker who seeks to portray major events ...</td>\n",
              "      <td>https://www.huffingtonpost.com/entry/entertain...</td>\n",
              "    </tr>\n",
              "    <tr>\n",
              "      <th>1</th>\n",
              "      <td>2</td>\n",
              "      <td>WASHINGTON, UNITED STATES: The Easter Bunny wa...</td>\n",
              "      <td>ENTERTAINMENT</td>\n",
              "      <td>The Easter Bunny And 11 Other Famous Rabbits I...</td>\n",
              "      <td>March 31 marks Easter Sunday, and with it come...</td>\n",
              "      <td>https://www.huffingtonpost.com/entry/the-easte...</td>\n",
              "    </tr>\n",
              "    <tr>\n",
              "      <th>2</th>\n",
              "      <td>3</td>\n",
              "      <td>1 / 712 Animal Photos Of The Week (9/16-9/22)\\...</td>\n",
              "      <td>ENVIRONMENT</td>\n",
              "      <td>Animal Photos Of The Week: Lemurs, Lions, Monk...</td>\n",
              "      <td>Here’s a recap of animal stories and events fr...</td>\n",
              "      <td>https://www.huffingtonpost.com/entry/animal-ph...</td>\n",
              "    </tr>\n",
              "    <tr>\n",
              "      <th>3</th>\n",
              "      <td>4</td>\n",
              "      <td>* Melted ice re-freezes faster than sea water ...</td>\n",
              "      <td>ENVIRONMENT</td>\n",
              "      <td>Antarctica Melting Brings Expanded Sea Ice Ext...</td>\n",
              "      <td>WINDS At a winter maximum in September, ice on...</td>\n",
              "      <td>https://www.huffingtonpost.com/entry/antarctic...</td>\n",
              "    </tr>\n",
              "    <tr>\n",
              "      <th>4</th>\n",
              "      <td>5</td>\n",
              "      <td>Co-written by Pushker Kharecha and Makiko Sato...</td>\n",
              "      <td>ENVIRONMENT</td>\n",
              "      <td>Doubling Down on Our Faustian Bargain</td>\n",
              "      <td>Humanity's Faustian climate bargain is well kn...</td>\n",
              "      <td>https://www.huffingtonpost.com/entry/doubling-...</td>\n",
              "    </tr>\n",
              "    <tr>\n",
              "      <th>...</th>\n",
              "      <td>...</td>\n",
              "      <td>...</td>\n",
              "      <td>...</td>\n",
              "      <td>...</td>\n",
              "      <td>...</td>\n",
              "      <td>...</td>\n",
              "    </tr>\n",
              "    <tr>\n",
              "      <th>9995</th>\n",
              "      <td>9996</td>\n",
              "      <td>Last week I shared how I was able to get off c...</td>\n",
              "      <td>WELLNESS</td>\n",
              "      <td>Change Is Easy... When You Want It</td>\n",
              "      <td>Before you start making lofty resolutions that...</td>\n",
              "      <td>https://www.huffingtonpost.com/entry/new-year-...</td>\n",
              "    </tr>\n",
              "    <tr>\n",
              "      <th>9996</th>\n",
              "      <td>9997</td>\n",
              "      <td>\"It is not true that money can't buy happiness...</td>\n",
              "      <td>WELLNESS</td>\n",
              "      <td>10 Tricks to Avoid Utter Misery This Holiday S...</td>\n",
              "      <td>Be happy with what you have instead of allowin...</td>\n",
              "      <td>https://www.huffingtonpost.com/entry/holiday-s...</td>\n",
              "    </tr>\n",
              "    <tr>\n",
              "      <th>9997</th>\n",
              "      <td>9998</td>\n",
              "      <td>Even if you don't, there's no need to be afrai...</td>\n",
              "      <td>FOOD &amp; DRINK</td>\n",
              "      <td>5 Seriously Spicy Cocktails</td>\n",
              "      <td>Do you love hot sauce? Sriracha? Chile peppers...</td>\n",
              "      <td>https://www.huffingtonpost.com/entry/spicy-coc...</td>\n",
              "    </tr>\n",
              "    <tr>\n",
              "      <th>9998</th>\n",
              "      <td>9999</td>\n",
              "      <td>After stumbling across this peculiar Check You...</td>\n",
              "      <td>HOME &amp; LIVING</td>\n",
              "      <td>11 Most Inappropriate Christmas Ornaments We'v...</td>\n",
              "      <td>This might be almost NSFW thanks to \"pornaments.\"</td>\n",
              "      <td>https://www.huffingtonpost.com/entry/inappropr...</td>\n",
              "    </tr>\n",
              "    <tr>\n",
              "      <th>9999</th>\n",
              "      <td>10000</td>\n",
              "      <td>Officials in Carson City, Nev., shocked a Cali...</td>\n",
              "      <td>MONEY</td>\n",
              "      <td>Arlene Magdon, Distant Relative Of Dead Reclus...</td>\n",
              "      <td>City Clerk-Recorder Alan Glover said it took a...</td>\n",
              "      <td>https://www.huffingtonpost.com/entry/arlene-ma...</td>\n",
              "    </tr>\n",
              "  </tbody>\n",
              "</table>\n",
              "<p>10000 rows × 6 columns</p>\n",
              "</div>"
            ],
            "text/plain": [
              "      Unnamed: 0  ...                                                url\n",
              "0              1  ...  https://www.huffingtonpost.com/entry/entertain...\n",
              "1              2  ...  https://www.huffingtonpost.com/entry/the-easte...\n",
              "2              3  ...  https://www.huffingtonpost.com/entry/animal-ph...\n",
              "3              4  ...  https://www.huffingtonpost.com/entry/antarctic...\n",
              "4              5  ...  https://www.huffingtonpost.com/entry/doubling-...\n",
              "...          ...  ...                                                ...\n",
              "9995        9996  ...  https://www.huffingtonpost.com/entry/new-year-...\n",
              "9996        9997  ...  https://www.huffingtonpost.com/entry/holiday-s...\n",
              "9997        9998  ...  https://www.huffingtonpost.com/entry/spicy-coc...\n",
              "9998        9999  ...  https://www.huffingtonpost.com/entry/inappropr...\n",
              "9999       10000  ...  https://www.huffingtonpost.com/entry/arlene-ma...\n",
              "\n",
              "[10000 rows x 6 columns]"
            ]
          },
          "metadata": {
            "tags": []
          },
          "execution_count": 5
        }
      ]
    },
    {
      "cell_type": "code",
      "metadata": {
        "colab": {
          "base_uri": "https://localhost:8080/",
          "height": 632
        },
        "id": "HHEgS7fofzIi",
        "outputId": "a2a50024-1684-402b-db71-f5c4b68c6626"
      },
      "source": [
        "dataset = dataset[0:2000]\n",
        "dataset"
      ],
      "execution_count": null,
      "outputs": [
        {
          "output_type": "execute_result",
          "data": {
            "text/html": [
              "<div>\n",
              "<style scoped>\n",
              "    .dataframe tbody tr th:only-of-type {\n",
              "        vertical-align: middle;\n",
              "    }\n",
              "\n",
              "    .dataframe tbody tr th {\n",
              "        vertical-align: top;\n",
              "    }\n",
              "\n",
              "    .dataframe thead th {\n",
              "        text-align: right;\n",
              "    }\n",
              "</style>\n",
              "<table border=\"1\" class=\"dataframe\">\n",
              "  <thead>\n",
              "    <tr style=\"text-align: right;\">\n",
              "      <th></th>\n",
              "      <th>Unnamed: 0</th>\n",
              "      <th>news_text</th>\n",
              "      <th>category</th>\n",
              "      <th>headline</th>\n",
              "      <th>short_desc</th>\n",
              "      <th>url</th>\n",
              "    </tr>\n",
              "  </thead>\n",
              "  <tbody>\n",
              "    <tr>\n",
              "      <th>0</th>\n",
              "      <td>1</td>\n",
              "      <td>This undated publicity film image provided by ...</td>\n",
              "      <td>ENTERTAINMENT</td>\n",
              "      <td>Entertainment vs. Historical Accuracy?</td>\n",
              "      <td>A filmmaker who seeks to portray major events ...</td>\n",
              "      <td>https://www.huffingtonpost.com/entry/entertain...</td>\n",
              "    </tr>\n",
              "    <tr>\n",
              "      <th>1</th>\n",
              "      <td>2</td>\n",
              "      <td>WASHINGTON, UNITED STATES: The Easter Bunny wa...</td>\n",
              "      <td>ENTERTAINMENT</td>\n",
              "      <td>The Easter Bunny And 11 Other Famous Rabbits I...</td>\n",
              "      <td>March 31 marks Easter Sunday, and with it come...</td>\n",
              "      <td>https://www.huffingtonpost.com/entry/the-easte...</td>\n",
              "    </tr>\n",
              "    <tr>\n",
              "      <th>2</th>\n",
              "      <td>3</td>\n",
              "      <td>1 / 712 Animal Photos Of The Week (9/16-9/22)\\...</td>\n",
              "      <td>ENVIRONMENT</td>\n",
              "      <td>Animal Photos Of The Week: Lemurs, Lions, Monk...</td>\n",
              "      <td>Here’s a recap of animal stories and events fr...</td>\n",
              "      <td>https://www.huffingtonpost.com/entry/animal-ph...</td>\n",
              "    </tr>\n",
              "    <tr>\n",
              "      <th>3</th>\n",
              "      <td>4</td>\n",
              "      <td>* Melted ice re-freezes faster than sea water ...</td>\n",
              "      <td>ENVIRONMENT</td>\n",
              "      <td>Antarctica Melting Brings Expanded Sea Ice Ext...</td>\n",
              "      <td>WINDS At a winter maximum in September, ice on...</td>\n",
              "      <td>https://www.huffingtonpost.com/entry/antarctic...</td>\n",
              "    </tr>\n",
              "    <tr>\n",
              "      <th>4</th>\n",
              "      <td>5</td>\n",
              "      <td>Co-written by Pushker Kharecha and Makiko Sato...</td>\n",
              "      <td>ENVIRONMENT</td>\n",
              "      <td>Doubling Down on Our Faustian Bargain</td>\n",
              "      <td>Humanity's Faustian climate bargain is well kn...</td>\n",
              "      <td>https://www.huffingtonpost.com/entry/doubling-...</td>\n",
              "    </tr>\n",
              "    <tr>\n",
              "      <th>...</th>\n",
              "      <td>...</td>\n",
              "      <td>...</td>\n",
              "      <td>...</td>\n",
              "      <td>...</td>\n",
              "      <td>...</td>\n",
              "      <td>...</td>\n",
              "    </tr>\n",
              "    <tr>\n",
              "      <th>1995</th>\n",
              "      <td>1996</td>\n",
              "      <td>FILE - This undated performance photo shows Ji...</td>\n",
              "      <td>ENTERTAINMENT</td>\n",
              "      <td>Jimi Hendrix's 'People, Hell and Angels': Post...</td>\n",
              "      <td>For more, head over to Billboard. \"People, Hel...</td>\n",
              "      <td>https://www.huffingtonpost.com/entry/jimi-hend...</td>\n",
              "    </tr>\n",
              "    <tr>\n",
              "      <th>1996</th>\n",
              "      <td>1997</td>\n",
              "      <td>GLASTONBURY, ENGLAND - JUNE 24: Wu Tang Clan p...</td>\n",
              "      <td>ENTERTAINMENT</td>\n",
              "      <td>New Wu-Tang Clan: Cappadonna Says The Group Wi...</td>\n",
              "      <td>The album was also confirmed earlier this mont...</td>\n",
              "      <td>https://www.huffingtonpost.com/entry/new-wu-ta...</td>\n",
              "    </tr>\n",
              "    <tr>\n",
              "      <th>1997</th>\n",
              "      <td>1998</td>\n",
              "      <td>March 10 (Reuters) - The California wildlife s...</td>\n",
              "      <td>ENVIRONMENT</td>\n",
              "      <td>Cat Haven Preserve To Reopen To Public After L...</td>\n",
              "      <td>A four-year-old male lion named Cous Cous esca...</td>\n",
              "      <td>https://www.huffingtonpost.com/entry/cat-have-...</td>\n",
              "    </tr>\n",
              "    <tr>\n",
              "      <th>1998</th>\n",
              "      <td>1999</td>\n",
              "      <td>1 / 712 Animal Photos Of The Week (9/16-9/22)\\...</td>\n",
              "      <td>ENVIRONMENT</td>\n",
              "      <td>Animal Photos Of The Week: Tapirs, Monkeys, Ba...</td>\n",
              "      <td>Check out the newest and best animal photos be...</td>\n",
              "      <td>https://www.huffingtonpost.com/entry/animal-ph...</td>\n",
              "    </tr>\n",
              "    <tr>\n",
              "      <th>1999</th>\n",
              "      <td>2000</td>\n",
              "      <td>This picture taken on January 29, 2013 shows a...</td>\n",
              "      <td>ENVIRONMENT</td>\n",
              "      <td>China's Environmental Secrecy Sparks Public Anger</td>\n",
              "      <td>\"But the facts proved this is not the case. 'B...</td>\n",
              "      <td>https://www.huffingtonpost.com/entry/china-env...</td>\n",
              "    </tr>\n",
              "  </tbody>\n",
              "</table>\n",
              "<p>2000 rows × 6 columns</p>\n",
              "</div>"
            ],
            "text/plain": [
              "      Unnamed: 0  ...                                                url\n",
              "0              1  ...  https://www.huffingtonpost.com/entry/entertain...\n",
              "1              2  ...  https://www.huffingtonpost.com/entry/the-easte...\n",
              "2              3  ...  https://www.huffingtonpost.com/entry/animal-ph...\n",
              "3              4  ...  https://www.huffingtonpost.com/entry/antarctic...\n",
              "4              5  ...  https://www.huffingtonpost.com/entry/doubling-...\n",
              "...          ...  ...                                                ...\n",
              "1995        1996  ...  https://www.huffingtonpost.com/entry/jimi-hend...\n",
              "1996        1997  ...  https://www.huffingtonpost.com/entry/new-wu-ta...\n",
              "1997        1998  ...  https://www.huffingtonpost.com/entry/cat-have-...\n",
              "1998        1999  ...  https://www.huffingtonpost.com/entry/animal-ph...\n",
              "1999        2000  ...  https://www.huffingtonpost.com/entry/china-env...\n",
              "\n",
              "[2000 rows x 6 columns]"
            ]
          },
          "metadata": {
            "tags": []
          },
          "execution_count": 6
        }
      ]
    },
    {
      "cell_type": "code",
      "metadata": {
        "colab": {
          "base_uri": "https://localhost:8080/",
          "height": 423
        },
        "id": "rKBqpm6eOF9C",
        "outputId": "0b43a838-1fce-4456-f38b-97b98047cbe2"
      },
      "source": [
        "df = pd.DataFrame()\n",
        "df['news_text'] = dataset['news_text']\n",
        "df['headline'] = dataset['headline']\n",
        "df"
      ],
      "execution_count": null,
      "outputs": [
        {
          "output_type": "execute_result",
          "data": {
            "text/html": [
              "<div>\n",
              "<style scoped>\n",
              "    .dataframe tbody tr th:only-of-type {\n",
              "        vertical-align: middle;\n",
              "    }\n",
              "\n",
              "    .dataframe tbody tr th {\n",
              "        vertical-align: top;\n",
              "    }\n",
              "\n",
              "    .dataframe thead th {\n",
              "        text-align: right;\n",
              "    }\n",
              "</style>\n",
              "<table border=\"1\" class=\"dataframe\">\n",
              "  <thead>\n",
              "    <tr style=\"text-align: right;\">\n",
              "      <th></th>\n",
              "      <th>news_text</th>\n",
              "      <th>headline</th>\n",
              "    </tr>\n",
              "  </thead>\n",
              "  <tbody>\n",
              "    <tr>\n",
              "      <th>0</th>\n",
              "      <td>This undated publicity film image provided by ...</td>\n",
              "      <td>Entertainment vs. Historical Accuracy?</td>\n",
              "    </tr>\n",
              "    <tr>\n",
              "      <th>1</th>\n",
              "      <td>WASHINGTON, UNITED STATES: The Easter Bunny wa...</td>\n",
              "      <td>The Easter Bunny And 11 Other Famous Rabbits I...</td>\n",
              "    </tr>\n",
              "    <tr>\n",
              "      <th>2</th>\n",
              "      <td>1 / 712 Animal Photos Of The Week (9/16-9/22)\\...</td>\n",
              "      <td>Animal Photos Of The Week: Lemurs, Lions, Monk...</td>\n",
              "    </tr>\n",
              "    <tr>\n",
              "      <th>3</th>\n",
              "      <td>* Melted ice re-freezes faster than sea water ...</td>\n",
              "      <td>Antarctica Melting Brings Expanded Sea Ice Ext...</td>\n",
              "    </tr>\n",
              "    <tr>\n",
              "      <th>4</th>\n",
              "      <td>Co-written by Pushker Kharecha and Makiko Sato...</td>\n",
              "      <td>Doubling Down on Our Faustian Bargain</td>\n",
              "    </tr>\n",
              "    <tr>\n",
              "      <th>...</th>\n",
              "      <td>...</td>\n",
              "      <td>...</td>\n",
              "    </tr>\n",
              "    <tr>\n",
              "      <th>1995</th>\n",
              "      <td>FILE - This undated performance photo shows Ji...</td>\n",
              "      <td>Jimi Hendrix's 'People, Hell and Angels': Post...</td>\n",
              "    </tr>\n",
              "    <tr>\n",
              "      <th>1996</th>\n",
              "      <td>GLASTONBURY, ENGLAND - JUNE 24: Wu Tang Clan p...</td>\n",
              "      <td>New Wu-Tang Clan: Cappadonna Says The Group Wi...</td>\n",
              "    </tr>\n",
              "    <tr>\n",
              "      <th>1997</th>\n",
              "      <td>March 10 (Reuters) - The California wildlife s...</td>\n",
              "      <td>Cat Haven Preserve To Reopen To Public After L...</td>\n",
              "    </tr>\n",
              "    <tr>\n",
              "      <th>1998</th>\n",
              "      <td>1 / 712 Animal Photos Of The Week (9/16-9/22)\\...</td>\n",
              "      <td>Animal Photos Of The Week: Tapirs, Monkeys, Ba...</td>\n",
              "    </tr>\n",
              "    <tr>\n",
              "      <th>1999</th>\n",
              "      <td>This picture taken on January 29, 2013 shows a...</td>\n",
              "      <td>China's Environmental Secrecy Sparks Public Anger</td>\n",
              "    </tr>\n",
              "  </tbody>\n",
              "</table>\n",
              "<p>2000 rows × 2 columns</p>\n",
              "</div>"
            ],
            "text/plain": [
              "                                              news_text                                           headline\n",
              "0     This undated publicity film image provided by ...             Entertainment vs. Historical Accuracy?\n",
              "1     WASHINGTON, UNITED STATES: The Easter Bunny wa...  The Easter Bunny And 11 Other Famous Rabbits I...\n",
              "2     1 / 712 Animal Photos Of The Week (9/16-9/22)\\...  Animal Photos Of The Week: Lemurs, Lions, Monk...\n",
              "3     * Melted ice re-freezes faster than sea water ...  Antarctica Melting Brings Expanded Sea Ice Ext...\n",
              "4     Co-written by Pushker Kharecha and Makiko Sato...              Doubling Down on Our Faustian Bargain\n",
              "...                                                 ...                                                ...\n",
              "1995  FILE - This undated performance photo shows Ji...  Jimi Hendrix's 'People, Hell and Angels': Post...\n",
              "1996  GLASTONBURY, ENGLAND - JUNE 24: Wu Tang Clan p...  New Wu-Tang Clan: Cappadonna Says The Group Wi...\n",
              "1997  March 10 (Reuters) - The California wildlife s...  Cat Haven Preserve To Reopen To Public After L...\n",
              "1998  1 / 712 Animal Photos Of The Week (9/16-9/22)\\...  Animal Photos Of The Week: Tapirs, Monkeys, Ba...\n",
              "1999  This picture taken on January 29, 2013 shows a...  China's Environmental Secrecy Sparks Public Anger\n",
              "\n",
              "[2000 rows x 2 columns]"
            ]
          },
          "metadata": {
            "tags": []
          },
          "execution_count": 7
        }
      ]
    },
    {
      "cell_type": "code",
      "metadata": {
        "id": "9iQ-pmXfOP_J"
      },
      "source": [
        "def text_strip(column):\n",
        "\n",
        "    for row in column:\n",
        "        row = re.sub(\"(\\\\t)\", \" \", str(row)).lower()\n",
        "        row = re.sub(\"(\\\\r)\", \" \", str(row)).lower()\n",
        "        row = re.sub(\"(\\\\n)\", \" \", str(row)).lower()\n",
        "\n",
        "        # Remove _ if it occurs more than one time consecutively\n",
        "        row = re.sub(\"(__+)\", \" \", str(row)).lower()\n",
        "\n",
        "        # Remove - if it occurs more than one time consecutively\n",
        "        row = re.sub(\"(--+)\", \" \", str(row)).lower()\n",
        "\n",
        "        # Remove ~ if it occurs more than one time consecutively\n",
        "        row = re.sub(\"(~~+)\", \" \", str(row)).lower()\n",
        "\n",
        "        # Remove + if it occurs more than one time consecutively\n",
        "        row = re.sub(\"(\\+\\++)\", \" \", str(row)).lower()\n",
        "\n",
        "        # Remove . if it occurs more than one time consecutively\n",
        "        row = re.sub(\"(\\.\\.+)\", \" \", str(row)).lower()\n",
        "\n",
        "        # Remove the characters - <>()|&©ø\"',;?~*!\n",
        "        row = re.sub(r\"[<>()|&©ø\\[\\]\\'\\\",;?~*!]\", \" \", str(row)).lower()\n",
        "\n",
        "        # Remove mailto:\n",
        "        row = re.sub(\"(mailto:)\", \" \", str(row)).lower()\n",
        "\n",
        "        # Remove \\x9* in text\n",
        "        row = re.sub(r\"(\\\\x9\\d)\", \" \", str(row)).lower()\n",
        "\n",
        "        # Replace INC nums to INC_NUM\n",
        "        row = re.sub(\"([iI][nN][cC]\\d+)\", \"INC_NUM\", str(row)).lower()\n",
        "\n",
        "        # Replace CM# and CHG# to CM_NUM\n",
        "        row = re.sub(\"([cC][mM]\\d+)|([cC][hH][gG]\\d+)\", \"CM_NUM\", str(row)).lower()\n",
        "\n",
        "        # Remove punctuations at the end of a word\n",
        "        row = re.sub(\"(\\.\\s+)\", \" \", str(row)).lower()\n",
        "        row = re.sub(\"(\\-\\s+)\", \" \", str(row)).lower()\n",
        "        row = re.sub(\"(\\:\\s+)\", \" \", str(row)).lower()\n",
        "\n",
        "        # Replace any url to only the domain name\n",
        "        try:\n",
        "            url = re.search(r\"((https*:\\/*)([^\\/\\s]+))(.[^\\s]+)\", str(row))\n",
        "            repl_url = url.group(3)\n",
        "            row = re.sub(r\"((https*:\\/*)([^\\/\\s]+))(.[^\\s]+)\", repl_url, str(row))\n",
        "        except:\n",
        "            pass\n",
        "\n",
        "        # Remove multiple spaces\n",
        "        row = re.sub(\"(\\s+)\", \" \", str(row)).lower()\n",
        "\n",
        "        # Remove the single character hanging between any two spaces\n",
        "        row = re.sub(\"(\\s+.\\s+)\", \" \", str(row)).lower()\n",
        "\n",
        "        yield row"
      ],
      "execution_count": null,
      "outputs": []
    },
    {
      "cell_type": "code",
      "metadata": {
        "id": "HczVYInhORI4"
      },
      "source": [
        "processed_text = text_strip(df['news_text'])\n",
        "processed_summary = text_strip(df['headline'])\n",
        "nlp = spacy.load('en_core_web_sm', disable=['ner', 'parser']) \n",
        "text = [str(doc) for doc in nlp.pipe(processed_text, batch_size=5000)]\n",
        "summary = ['_START_ '+ str(doc) + ' _END_' for doc in nlp.pipe(processed_summary, batch_size=5000)]"
      ],
      "execution_count": null,
      "outputs": []
    },
    {
      "cell_type": "code",
      "metadata": {
        "id": "a72TRVErOa8Z"
      },
      "source": [
        "df['cleaned_news_text'] = pd.Series(text)\n",
        "df['cleaned_headline'] = pd.Series(summary)"
      ],
      "execution_count": null,
      "outputs": []
    },
    {
      "cell_type": "code",
      "metadata": {
        "colab": {
          "base_uri": "https://localhost:8080/",
          "height": 597
        },
        "id": "JuIEARMAPjRK",
        "outputId": "55235b12-5233-4618-e535-2e31d2626252"
      },
      "source": [
        "df"
      ],
      "execution_count": null,
      "outputs": [
        {
          "output_type": "execute_result",
          "data": {
            "text/html": [
              "<div>\n",
              "<style scoped>\n",
              "    .dataframe tbody tr th:only-of-type {\n",
              "        vertical-align: middle;\n",
              "    }\n",
              "\n",
              "    .dataframe tbody tr th {\n",
              "        vertical-align: top;\n",
              "    }\n",
              "\n",
              "    .dataframe thead th {\n",
              "        text-align: right;\n",
              "    }\n",
              "</style>\n",
              "<table border=\"1\" class=\"dataframe\">\n",
              "  <thead>\n",
              "    <tr style=\"text-align: right;\">\n",
              "      <th></th>\n",
              "      <th>news_text</th>\n",
              "      <th>headline</th>\n",
              "      <th>cleaned_news_text</th>\n",
              "      <th>cleaned_headline</th>\n",
              "    </tr>\n",
              "  </thead>\n",
              "  <tbody>\n",
              "    <tr>\n",
              "      <th>0</th>\n",
              "      <td>This undated publicity film image provided by ...</td>\n",
              "      <td>Entertainment vs. Historical Accuracy?</td>\n",
              "      <td>this undated publicity film image provided by ...</td>\n",
              "      <td>_START_ entertainment vs historical accuracy  ...</td>\n",
              "    </tr>\n",
              "    <tr>\n",
              "      <th>1</th>\n",
              "      <td>WASHINGTON, UNITED STATES: The Easter Bunny wa...</td>\n",
              "      <td>The Easter Bunny And 11 Other Famous Rabbits I...</td>\n",
              "      <td>washington united states the easter bunny wave...</td>\n",
              "      <td>_START_ the easter bunny and 11 other famous r...</td>\n",
              "    </tr>\n",
              "    <tr>\n",
              "      <th>2</th>\n",
              "      <td>1 / 712 Animal Photos Of The Week (9/16-9/22)\\...</td>\n",
              "      <td>Animal Photos Of The Week: Lemurs, Lions, Monk...</td>\n",
              "      <td>1 712 animal photos of the week 9/16-9/22 yant...</td>\n",
              "      <td>_START_ animal photos of the week lemurs lions...</td>\n",
              "    </tr>\n",
              "    <tr>\n",
              "      <th>3</th>\n",
              "      <td>* Melted ice re-freezes faster than sea water ...</td>\n",
              "      <td>Antarctica Melting Brings Expanded Sea Ice Ext...</td>\n",
              "      <td>melted ice re-freezes faster than sea water i...</td>\n",
              "      <td>_START_ antarctica melting brings expanded sea...</td>\n",
              "    </tr>\n",
              "    <tr>\n",
              "      <th>4</th>\n",
              "      <td>Co-written by Pushker Kharecha and Makiko Sato...</td>\n",
              "      <td>Doubling Down on Our Faustian Bargain</td>\n",
              "      <td>co-written by pushker kharecha and makiko sato...</td>\n",
              "      <td>_START_ doubling down on our faustian bargain ...</td>\n",
              "    </tr>\n",
              "    <tr>\n",
              "      <th>...</th>\n",
              "      <td>...</td>\n",
              "      <td>...</td>\n",
              "      <td>...</td>\n",
              "      <td>...</td>\n",
              "    </tr>\n",
              "    <tr>\n",
              "      <th>1995</th>\n",
              "      <td>FILE - This undated performance photo shows Ji...</td>\n",
              "      <td>Jimi Hendrix's 'People, Hell and Angels': Post...</td>\n",
              "      <td>file this undated performance photo shows jimi...</td>\n",
              "      <td>_START_ jimi hendrix people hell and angels po...</td>\n",
              "    </tr>\n",
              "    <tr>\n",
              "      <th>1996</th>\n",
              "      <td>GLASTONBURY, ENGLAND - JUNE 24: Wu Tang Clan p...</td>\n",
              "      <td>New Wu-Tang Clan: Cappadonna Says The Group Wi...</td>\n",
              "      <td>glastonbury england june 24 wu tang clan perfo...</td>\n",
              "      <td>_START_ new wu-tang clan cappadonna says the g...</td>\n",
              "    </tr>\n",
              "    <tr>\n",
              "      <th>1997</th>\n",
              "      <td>March 10 (Reuters) - The California wildlife s...</td>\n",
              "      <td>Cat Haven Preserve To Reopen To Public After L...</td>\n",
              "      <td>march 10 reuters the california wildlife sanct...</td>\n",
              "      <td>_START_ cat haven preserve to reopen to public...</td>\n",
              "    </tr>\n",
              "    <tr>\n",
              "      <th>1998</th>\n",
              "      <td>1 / 712 Animal Photos Of The Week (9/16-9/22)\\...</td>\n",
              "      <td>Animal Photos Of The Week: Tapirs, Monkeys, Ba...</td>\n",
              "      <td>1 712 animal photos of the week 9/16-9/22 yant...</td>\n",
              "      <td>_START_ animal photos of the week tapirs monke...</td>\n",
              "    </tr>\n",
              "    <tr>\n",
              "      <th>1999</th>\n",
              "      <td>This picture taken on January 29, 2013 shows a...</td>\n",
              "      <td>China's Environmental Secrecy Sparks Public Anger</td>\n",
              "      <td>this picture taken on january 29 2013 shows ge...</td>\n",
              "      <td>_START_ china environmental secrecy sparks pub...</td>\n",
              "    </tr>\n",
              "  </tbody>\n",
              "</table>\n",
              "<p>2000 rows × 4 columns</p>\n",
              "</div>"
            ],
            "text/plain": [
              "                                              news_text  ...                                   cleaned_headline\n",
              "0     This undated publicity film image provided by ...  ...  _START_ entertainment vs historical accuracy  ...\n",
              "1     WASHINGTON, UNITED STATES: The Easter Bunny wa...  ...  _START_ the easter bunny and 11 other famous r...\n",
              "2     1 / 712 Animal Photos Of The Week (9/16-9/22)\\...  ...  _START_ animal photos of the week lemurs lions...\n",
              "3     * Melted ice re-freezes faster than sea water ...  ...  _START_ antarctica melting brings expanded sea...\n",
              "4     Co-written by Pushker Kharecha and Makiko Sato...  ...  _START_ doubling down on our faustian bargain ...\n",
              "...                                                 ...  ...                                                ...\n",
              "1995  FILE - This undated performance photo shows Ji...  ...  _START_ jimi hendrix people hell and angels po...\n",
              "1996  GLASTONBURY, ENGLAND - JUNE 24: Wu Tang Clan p...  ...  _START_ new wu-tang clan cappadonna says the g...\n",
              "1997  March 10 (Reuters) - The California wildlife s...  ...  _START_ cat haven preserve to reopen to public...\n",
              "1998  1 / 712 Animal Photos Of The Week (9/16-9/22)\\...  ...  _START_ animal photos of the week tapirs monke...\n",
              "1999  This picture taken on January 29, 2013 shows a...  ...  _START_ china environmental secrecy sparks pub...\n",
              "\n",
              "[2000 rows x 4 columns]"
            ]
          },
          "metadata": {
            "tags": []
          },
          "execution_count": 11
        }
      ]
    },
    {
      "cell_type": "code",
      "metadata": {
        "colab": {
          "base_uri": "https://localhost:8080/",
          "height": 281
        },
        "id": "oBivFMdRPrF2",
        "outputId": "eeb55643-eab6-4745-eadd-89121d18b37e"
      },
      "source": [
        "text_count = []\n",
        "summary_count = []\n",
        "for sent in df['cleaned_news_text']:\n",
        "  text_count.append(len(sent.split()))\n",
        "for sent in df['cleaned_headline']:\n",
        "  summary_count.append(len(sent.split()))\n",
        "graph = pd.DataFrame()\n",
        "graph['Text'] = text_count\n",
        "graph['Summary'] = summary_count\n",
        "graph.hist(bins=10)\n",
        "plt.show()"
      ],
      "execution_count": null,
      "outputs": [
        {
          "output_type": "display_data",
          "data": {
            "image/png": "[encoded data removed]",
            "text/plain": [
              "<Figure size 432x288 with 2 Axes>"
            ]
          },
          "metadata": {
            "tags": [],
            "needs_background": "light"
          }
        }
      ]
    },
    {
      "cell_type": "code",
      "metadata": {
        "colab": {
          "base_uri": "https://localhost:8080/"
        },
        "id": "iBGDEge_QIxA",
        "outputId": "6b597a06-2a92-466c-fb5f-15f85c0ece26"
      },
      "source": [
        "cnt = 0\n",
        "for sent in df['cleaned_news_text']:\n",
        "  if len(sent.split())<=1500:\n",
        "    cnt=cnt+1\n",
        "print(cnt/len(df['cleaned_news_text']))"
      ],
      "execution_count": null,
      "outputs": [
        {
          "output_type": "stream",
          "text": [
            "0.979\n"
          ],
          "name": "stdout"
        }
      ]
    },
    {
      "cell_type": "code",
      "metadata": {
        "id": "lifFjNaiQb-L"
      },
      "source": [
        "max_text_len = 1500\n",
        "max_summary_len = 50"
      ],
      "execution_count": null,
      "outputs": []
    },
    {
      "cell_type": "code",
      "metadata": {
        "colab": {
          "base_uri": "https://localhost:8080/",
          "height": 112
        },
        "id": "QN6i5flJQjSC",
        "outputId": "865c2d4f-0da3-4d69-ab54-fdeabc7c0e19"
      },
      "source": [
        "cleaned_text = np.array(df['cleaned_news_text'])\n",
        "cleaned_summary= np.array(df['cleaned_headline'])\n",
        "\n",
        "short_text = []\n",
        "short_summary = []\n",
        "\n",
        "for i in range(len(cleaned_text)):\n",
        "    if len(cleaned_summary[i].split()) <= max_summary_len and len(cleaned_text[i].split()) <= max_text_len:\n",
        "        short_text.append(cleaned_text[i])\n",
        "        short_summary.append(cleaned_summary[i])\n",
        "        \n",
        "post_pre = pd.DataFrame({'text': short_text,'summary': short_summary})\n",
        "\n",
        "post_pre.head(2)"
      ],
      "execution_count": null,
      "outputs": [
        {
          "output_type": "execute_result",
          "data": {
            "text/html": [
              "<div>\n",
              "<style scoped>\n",
              "    .dataframe tbody tr th:only-of-type {\n",
              "        vertical-align: middle;\n",
              "    }\n",
              "\n",
              "    .dataframe tbody tr th {\n",
              "        vertical-align: top;\n",
              "    }\n",
              "\n",
              "    .dataframe thead th {\n",
              "        text-align: right;\n",
              "    }\n",
              "</style>\n",
              "<table border=\"1\" class=\"dataframe\">\n",
              "  <thead>\n",
              "    <tr style=\"text-align: right;\">\n",
              "      <th></th>\n",
              "      <th>text</th>\n",
              "      <th>summary</th>\n",
              "    </tr>\n",
              "  </thead>\n",
              "  <tbody>\n",
              "    <tr>\n",
              "      <th>0</th>\n",
              "      <td>this undated publicity film image provided by ...</td>\n",
              "      <td>_START_ entertainment vs historical accuracy  ...</td>\n",
              "    </tr>\n",
              "    <tr>\n",
              "      <th>1</th>\n",
              "      <td>washington united states the easter bunny wave...</td>\n",
              "      <td>_START_ the easter bunny and 11 other famous r...</td>\n",
              "    </tr>\n",
              "  </tbody>\n",
              "</table>\n",
              "</div>"
            ],
            "text/plain": [
              "                                                text                                            summary\n",
              "0  this undated publicity film image provided by ...  _START_ entertainment vs historical accuracy  ...\n",
              "1  washington united states the easter bunny wave...  _START_ the easter bunny and 11 other famous r..."
            ]
          },
          "metadata": {
            "tags": []
          },
          "execution_count": 15
        }
      ]
    },
    {
      "cell_type": "code",
      "metadata": {
        "colab": {
          "base_uri": "https://localhost:8080/",
          "height": 112
        },
        "id": "Th6E1isIQvbd",
        "outputId": "83a66b81-28da-4ed7-dafe-27569f338b48"
      },
      "source": [
        "post_pre['summary'] = post_pre['summary'].apply(lambda x: 'sostok ' + x \\\n",
        "        + ' eostok')\n",
        "\n",
        "post_pre.head(2)"
      ],
      "execution_count": null,
      "outputs": [
        {
          "output_type": "execute_result",
          "data": {
            "text/html": [
              "<div>\n",
              "<style scoped>\n",
              "    .dataframe tbody tr th:only-of-type {\n",
              "        vertical-align: middle;\n",
              "    }\n",
              "\n",
              "    .dataframe tbody tr th {\n",
              "        vertical-align: top;\n",
              "    }\n",
              "\n",
              "    .dataframe thead th {\n",
              "        text-align: right;\n",
              "    }\n",
              "</style>\n",
              "<table border=\"1\" class=\"dataframe\">\n",
              "  <thead>\n",
              "    <tr style=\"text-align: right;\">\n",
              "      <th></th>\n",
              "      <th>text</th>\n",
              "      <th>summary</th>\n",
              "    </tr>\n",
              "  </thead>\n",
              "  <tbody>\n",
              "    <tr>\n",
              "      <th>0</th>\n",
              "      <td>this undated publicity film image provided by ...</td>\n",
              "      <td>sostok _START_ entertainment vs historical acc...</td>\n",
              "    </tr>\n",
              "    <tr>\n",
              "      <th>1</th>\n",
              "      <td>washington united states the easter bunny wave...</td>\n",
              "      <td>sostok _START_ the easter bunny and 11 other f...</td>\n",
              "    </tr>\n",
              "  </tbody>\n",
              "</table>\n",
              "</div>"
            ],
            "text/plain": [
              "                                                text                                            summary\n",
              "0  this undated publicity film image provided by ...  sostok _START_ entertainment vs historical acc...\n",
              "1  washington united states the easter bunny wave...  sostok _START_ the easter bunny and 11 other f..."
            ]
          },
          "metadata": {
            "tags": []
          },
          "execution_count": 16
        }
      ]
    },
    {
      "cell_type": "code",
      "metadata": {
        "id": "8UxkT2ysQ1kI"
      },
      "source": [
        "x_tr, x_val, y_tr, y_val = train_test_split(\n",
        "    np.array(post_pre[\"text\"]),\n",
        "    np.array(post_pre[\"summary\"]),\n",
        "    test_size=0.1,\n",
        "    random_state=0,\n",
        "    shuffle=True,\n",
        ")"
      ],
      "execution_count": null,
      "outputs": []
    },
    {
      "cell_type": "code",
      "metadata": {
        "colab": {
          "base_uri": "https://localhost:8080/"
        },
        "id": "zVnYeYQWQ8wR",
        "outputId": "b43c4378-5196-4feb-fe9b-2da03e6db244"
      },
      "source": [
        "x_tokenizer = Tokenizer() \n",
        "x_tokenizer.fit_on_texts(list(x_tr))\n",
        "thresh = 5\n",
        "\n",
        "cnt = 0\n",
        "tot_cnt = 0\n",
        "\n",
        "for key, value in x_tokenizer.word_counts.items():\n",
        "    tot_cnt = tot_cnt + 1\n",
        "    if value < thresh:\n",
        "        cnt = cnt + 1\n",
        "    \n",
        "print(\"% of rare words in vocabulary: \", (cnt / tot_cnt) * 100)"
      ],
      "execution_count": null,
      "outputs": [
        {
          "output_type": "stream",
          "text": [
            "% of rare words in vocabulary:  68.31037622250287\n"
          ],
          "name": "stdout"
        }
      ]
    },
    {
      "cell_type": "code",
      "metadata": {
        "colab": {
          "base_uri": "https://localhost:8080/"
        },
        "id": "YAh9h2McRGxz",
        "outputId": "2bbffaad-6033-4923-fcd5-c79eba11af62"
      },
      "source": [
        "x_tokenizer = Tokenizer(num_words = tot_cnt - cnt) \n",
        "x_tokenizer.fit_on_texts(list(x_tr))\n",
        "\n",
        "# Convert text sequences to integer sequences \n",
        "x_tr_seq = x_tokenizer.texts_to_sequences(x_tr) \n",
        "x_val_seq = x_tokenizer.texts_to_sequences(x_val)\n",
        "\n",
        "# Pad zero upto maximum length\n",
        "x_tr = pad_sequences(x_tr_seq,  maxlen=max_text_len, padding='post')\n",
        "x_val = pad_sequences(x_val_seq, maxlen=max_text_len, padding='post')\n",
        "\n",
        "# Size of vocabulary (+1 for padding token)\n",
        "x_voc = x_tokenizer.num_words + 1\n",
        "\n",
        "print(\"Size of vocabulary in X = {}\".format(x_voc))"
      ],
      "execution_count": null,
      "outputs": [
        {
          "output_type": "stream",
          "text": [
            "Size of vocabulary in X = 10791\n"
          ],
          "name": "stdout"
        }
      ]
    },
    {
      "cell_type": "code",
      "metadata": {
        "colab": {
          "base_uri": "https://localhost:8080/"
        },
        "id": "veFO0vnwRNJx",
        "outputId": "025cd6e4-b668-48b4-ce8e-dc6f31c3b807"
      },
      "source": [
        "y_tokenizer = Tokenizer()   \n",
        "y_tokenizer.fit_on_texts(list(y_tr))\n",
        "\n",
        "thresh = 5\n",
        "\n",
        "cnt = 0\n",
        "tot_cnt = 0\n",
        "\n",
        "for key, value in y_tokenizer.word_counts.items():\n",
        "    tot_cnt = tot_cnt + 1\n",
        "    if value < thresh:\n",
        "        cnt = cnt + 1\n",
        "    \n",
        "print(\"% of rare words in vocabulary:\",(cnt / tot_cnt) * 100)\n",
        "\n",
        "# Prepare a tokenizer, again -- by not considering the rare words\n",
        "y_tokenizer = Tokenizer(num_words=tot_cnt-cnt) \n",
        "y_tokenizer.fit_on_texts(list(y_tr))\n",
        "\n",
        "# Convert text sequences to integer sequences \n",
        "y_tr_seq = y_tokenizer.texts_to_sequences(y_tr) \n",
        "y_val_seq = y_tokenizer.texts_to_sequences(y_val) \n",
        "y_tr = pad_sequences(y_tr_seq, maxlen=max_summary_len, padding='post')\n",
        "y_val = pad_sequences(y_val_seq, maxlen=max_summary_len, padding='post')\n",
        "y_voc = y_tokenizer.num_words + 1\n",
        "\n",
        "print(\"Size of vocabulary in Y = {}\".format(y_voc))"
      ],
      "execution_count": null,
      "outputs": [
        {
          "output_type": "stream",
          "text": [
            "% of rare words in vocabulary: 89.33700570529214\n",
            "Size of vocabulary in Y = 543\n"
          ],
          "name": "stdout"
        }
      ]
    },
    {
      "cell_type": "code",
      "metadata": {
        "id": "MJ7HCvgmRXqg"
      },
      "source": [
        "ind = []\n",
        "\n",
        "for i in range(len(y_tr)):\n",
        "    cnt = 0\n",
        "    for j in y_tr[i]:\n",
        "        if j != 0:\n",
        "            cnt = cnt + 1\n",
        "    if cnt == 2:\n",
        "        ind.append(i)\n",
        "\n",
        "y_tr = np.delete(y_tr, ind, axis=0)\n",
        "x_tr = np.delete(x_tr, ind, axis=0)"
      ],
      "execution_count": null,
      "outputs": []
    },
    {
      "cell_type": "code",
      "metadata": {
        "id": "XQSEBVqdRbNo"
      },
      "source": [
        "ind = []\n",
        "for i in range(len(y_val)):\n",
        "    cnt = 0\n",
        "    for j in y_val[i]:\n",
        "        if j != 0:\n",
        "            cnt = cnt + 1\n",
        "    if cnt == 2:\n",
        "        ind.append(i)\n",
        "\n",
        "y_val = np.delete(y_val, ind, axis=0)\n",
        "x_val = np.delete(x_val, ind, axis=0)"
      ],
      "execution_count": null,
      "outputs": []
    },
    {
      "cell_type": "code",
      "metadata": {
        "colab": {
          "base_uri": "https://localhost:8080/"
        },
        "id": "nzLLGOsIRmlo",
        "outputId": "30ea23dd-af11-47d6-99a7-c57e9967e064"
      },
      "source": [
        "latent_dim = 120\n",
        "embedding_dim = 70\n",
        "\n",
        "# Encoder\n",
        "encoder_inputs = Input(shape=(max_text_len, ))\n",
        "\n",
        "# Embedding layer\n",
        "enc_emb = Embedding(x_voc, embedding_dim,\n",
        "                    trainable=True)(encoder_inputs)\n",
        "\n",
        "# Encoder LSTM 1\n",
        "encoder_lstm1 = LSTM(latent_dim, return_sequences=True,\n",
        "                     return_state=True, dropout=0.4,\n",
        "                     recurrent_dropout=0.4)\n",
        "(encoder_output1, state_h1, state_c1) = encoder_lstm1(enc_emb)\n",
        "\n",
        "# Encoder LSTM 2\n",
        "encoder_lstm2 = LSTM(latent_dim, return_sequences=True,\n",
        "                     return_state=True, dropout=0.4,\n",
        "                     recurrent_dropout=0.4)\n",
        "(encoder_output2, state_h2, state_c2) = encoder_lstm2(encoder_output1)\n",
        "\n",
        "# Encoder LSTM 3\n",
        "encoder_lstm3 = LSTM(latent_dim, return_state=True,\n",
        "                     return_sequences=True, dropout=0.4,\n",
        "                     recurrent_dropout=0.4)\n",
        "(encoder_outputs, state_h, state_c) = encoder_lstm3(encoder_output2)\n",
        "\n",
        "# Set up the decoder, using encoder_states as the initial state\n",
        "decoder_inputs = Input(shape=(None, ))\n",
        "\n",
        "# Embedding layer\n",
        "dec_emb_layer = Embedding(y_voc, embedding_dim, trainable=True)\n",
        "dec_emb = dec_emb_layer(decoder_inputs)\n",
        "\n",
        "# Decoder LSTM\n",
        "decoder_lstm = LSTM(latent_dim, return_sequences=True,\n",
        "                    return_state=True, dropout=0.4,\n",
        "                    recurrent_dropout=0.2)\n",
        "(decoder_outputs, decoder_fwd_state, decoder_back_state) = \\\n",
        "    decoder_lstm(dec_emb, initial_state=[state_h, state_c])\n",
        "\n",
        "# Dense layer\n",
        "decoder_dense = TimeDistributed(Dense(y_voc, activation='softmax'))\n",
        "decoder_outputs = decoder_dense(decoder_outputs)\n",
        "\n",
        "# Define the model\n",
        "model = Model([encoder_inputs, decoder_inputs], decoder_outputs)\n",
        "\n",
        "model.summary()"
      ],
      "execution_count": null,
      "outputs": [
        {
          "output_type": "stream",
          "text": [
            "WARNING:tensorflow:Layer lstm will not use cuDNN kernel since it doesn't meet the cuDNN kernel criteria. It will use generic GPU kernel as fallback when running on GPU\n",
            "WARNING:tensorflow:Layer lstm_1 will not use cuDNN kernel since it doesn't meet the cuDNN kernel criteria. It will use generic GPU kernel as fallback when running on GPU\n",
            "WARNING:tensorflow:Layer lstm_2 will not use cuDNN kernel since it doesn't meet the cuDNN kernel criteria. It will use generic GPU kernel as fallback when running on GPU\n",
            "WARNING:tensorflow:Layer lstm_3 will not use cuDNN kernel since it doesn't meet the cuDNN kernel criteria. It will use generic GPU kernel as fallback when running on GPU\n",
            "Model: \"model\"\n",
            "__________________________________________________________________________________________________\n",
            "Layer (type)                    Output Shape         Param #     Connected to                     \n",
            "==================================================================================================\n",
            "input_1 (InputLayer)            [(None, 1500)]       0                                            \n",
            "__________________________________________________________________________________________________\n",
            "embedding (Embedding)           (None, 1500, 70)     755370      input_1[0][0]                    \n",
            "__________________________________________________________________________________________________\n",
            "lstm (LSTM)                     [(None, 1500, 120),  91680       embedding[0][0]                  \n",
            "__________________________________________________________________________________________________\n",
            "input_2 (InputLayer)            [(None, None)]       0                                            \n",
            "__________________________________________________________________________________________________\n",
            "lstm_1 (LSTM)                   [(None, 1500, 120),  115680      lstm[0][0]                       \n",
            "__________________________________________________________________________________________________\n",
            "embedding_1 (Embedding)         (None, None, 70)     38010       input_2[0][0]                    \n",
            "__________________________________________________________________________________________________\n",
            "lstm_2 (LSTM)                   [(None, 1500, 120),  115680      lstm_1[0][0]                     \n",
            "__________________________________________________________________________________________________\n",
            "lstm_3 (LSTM)                   [(None, None, 120),  91680       embedding_1[0][0]                \n",
            "                                                                 lstm_2[0][1]                     \n",
            "                                                                 lstm_2[0][2]                     \n",
            "__________________________________________________________________________________________________\n",
            "time_distributed (TimeDistribut (None, None, 543)    65703       lstm_3[0][0]                     \n",
            "==================================================================================================\n",
            "Total params: 1,273,803\n",
            "Trainable params: 1,273,803\n",
            "Non-trainable params: 0\n",
            "__________________________________________________________________________________________________\n"
          ],
          "name": "stdout"
        }
      ]
    },
    {
      "cell_type": "code",
      "metadata": {
        "id": "haNbSqKQRu-y"
      },
      "source": [
        "model.compile(optimizer='rmsprop', loss='sparse_categorical_crossentropy')\n",
        "\n",
        "es = EarlyStopping(monitor='val_loss', mode='min', verbose=1, patience=2)"
      ],
      "execution_count": null,
      "outputs": []
    },
    {
      "cell_type": "code",
      "metadata": {
        "colab": {
          "base_uri": "https://localhost:8080/"
        },
        "id": "LbUC7g1AR4Ba",
        "outputId": "aa441e75-610a-4186-f33b-bfdddf1293f8"
      },
      "source": [
        "history = model.fit(\n",
        "    [x_tr, y_tr[:, :-1]],\n",
        "    y_tr.reshape(y_tr.shape[0], y_tr.shape[1], 1)[:, 1:],\n",
        "    epochs=30,\n",
        "    callbacks=[es],\n",
        "    batch_size=128,\n",
        "    validation_data=([x_val, y_val[:, :-1]],\n",
        "                     y_val.reshape(y_val.shape[0], y_val.shape[1], 1)[:\n",
        "                     , 1:]),\n",
        "    )"
      ],
      "execution_count": null,
      "outputs": [
        {
          "output_type": "stream",
          "text": [
            "Epoch 1/30\n",
            "14/14 [==============================] - 218s 15s/step - loss: 4.2632 - val_loss: 0.9717\n",
            "Epoch 2/30\n",
            "14/14 [==============================] - 207s 15s/step - loss: 0.9629 - val_loss: 0.8292\n",
            "Epoch 3/30\n",
            "14/14 [==============================] - 209s 15s/step - loss: 0.8466 - val_loss: 0.7729\n",
            "Epoch 4/30\n",
            "14/14 [==============================] - 214s 15s/step - loss: 0.8148 - val_loss: 0.7527\n",
            "Epoch 5/30\n",
            "14/14 [==============================] - 210s 15s/step - loss: 0.7801 - val_loss: 0.7014\n",
            "Epoch 6/30\n",
            "14/14 [==============================] - 211s 15s/step - loss: 0.7259 - val_loss: 0.6674\n",
            "Epoch 7/30\n",
            "14/14 [==============================] - 209s 15s/step - loss: 0.7121 - val_loss: 0.6474\n",
            "Epoch 8/30\n",
            "14/14 [==============================] - 208s 15s/step - loss: 0.6851 - val_loss: 0.6376\n",
            "Epoch 9/30\n",
            "14/14 [==============================] - 207s 15s/step - loss: 0.6715 - val_loss: 0.6187\n",
            "Epoch 10/30\n",
            "14/14 [==============================] - 204s 15s/step - loss: 0.6566 - val_loss: 0.6089\n",
            "Epoch 11/30\n",
            "14/14 [==============================] - 206s 15s/step - loss: 0.6633 - val_loss: 0.6021\n",
            "Epoch 12/30\n",
            "14/14 [==============================] - 207s 15s/step - loss: 0.6436 - val_loss: 0.5931\n",
            "Epoch 13/30\n",
            "14/14 [==============================] - 207s 15s/step - loss: 0.6306 - val_loss: 0.5893\n",
            "Epoch 14/30\n",
            "14/14 [==============================] - 207s 15s/step - loss: 0.6220 - val_loss: 0.5888\n",
            "Epoch 15/30\n",
            "14/14 [==============================] - 206s 15s/step - loss: 0.6182 - val_loss: 0.5861\n",
            "Epoch 16/30\n",
            "14/14 [==============================] - 205s 15s/step - loss: 0.6207 - val_loss: 0.5845\n",
            "Epoch 17/30\n",
            "14/14 [==============================] - 207s 15s/step - loss: 0.6209 - val_loss: 0.5812\n",
            "Epoch 18/30\n",
            "14/14 [==============================] - 207s 15s/step - loss: 0.6110 - val_loss: 0.5810\n",
            "Epoch 19/30\n",
            "14/14 [==============================] - 205s 15s/step - loss: 0.6104 - val_loss: 0.5830\n",
            "Epoch 20/30\n",
            "14/14 [==============================] - 208s 15s/step - loss: 0.6105 - val_loss: 0.5785\n",
            "Epoch 21/30\n",
            "14/14 [==============================] - 209s 15s/step - loss: 0.6052 - val_loss: 0.5786\n",
            "Epoch 22/30\n",
            "14/14 [==============================] - 208s 15s/step - loss: 0.6173 - val_loss: 0.5781\n",
            "Epoch 23/30\n",
            "14/14 [==============================] - 208s 15s/step - loss: 0.6074 - val_loss: 0.5774\n",
            "Epoch 24/30\n",
            "14/14 [==============================] - 207s 15s/step - loss: 0.5976 - val_loss: 0.5767\n",
            "Epoch 25/30\n",
            "14/14 [==============================] - 204s 15s/step - loss: 0.6034 - val_loss: 0.5766\n",
            "Epoch 26/30\n",
            "14/14 [==============================] - 205s 15s/step - loss: 0.6151 - val_loss: 0.5756\n",
            "Epoch 27/30\n",
            "14/14 [==============================] - 205s 15s/step - loss: 0.6137 - val_loss: 0.5742\n",
            "Epoch 28/30\n",
            "14/14 [==============================] - 206s 15s/step - loss: 0.5977 - val_loss: 0.5754\n",
            "Epoch 29/30\n",
            "14/14 [==============================] - 204s 15s/step - loss: 0.5999 - val_loss: 0.5725\n",
            "Epoch 30/30\n",
            "14/14 [==============================] - 207s 15s/step - loss: 0.5951 - val_loss: 0.5721\n"
          ],
          "name": "stdout"
        }
      ]
    },
    {
      "cell_type": "code",
      "metadata": {
        "colab": {
          "base_uri": "https://localhost:8080/",
          "height": 265
        },
        "id": "ua3X9AukVqo0",
        "outputId": "761faedb-ba29-470b-a333-00b072b2fb76"
      },
      "source": [
        "pyplot.plot(history.history['loss'], label='train')\n",
        "pyplot.plot(history.history['val_loss'], label='test')\n",
        "pyplot.legend()\n",
        "pyplot.show()"
      ],
      "execution_count": null,
      "outputs": [
        {
          "output_type": "display_data",
          "data": {
            "image/png": "[encoded data removed]",
            "text/plain": [
              "<Figure size 432x288 with 1 Axes>"
            ]
          },
          "metadata": {
            "tags": [],
            "needs_background": "light"
          }
        }
      ]
    },
    {
      "cell_type": "code",
      "metadata": {
        "id": "qZmRLt3mVxmJ"
      },
      "source": [
        "reverse_target_word_index = y_tokenizer.index_word\n",
        "reverse_source_word_index = x_tokenizer.index_word\n",
        "target_word_index = y_tokenizer.word_index"
      ],
      "execution_count": null,
      "outputs": []
    },
    {
      "cell_type": "code",
      "metadata": {
        "id": "oCEK96A2V2FZ"
      },
      "source": [
        "encoder_model = Model(inputs=encoder_inputs, outputs=[encoder_outputs,\n",
        "                      state_h, state_c])\n",
        "\n",
        "# Decoder setup\n",
        "\n",
        "# Below tensors will hold the states of the previous time step\n",
        "decoder_state_input_h = Input(shape=(latent_dim, ))\n",
        "decoder_state_input_c = Input(shape=(latent_dim, ))\n",
        "decoder_hidden_state_input = Input(shape=(max_text_len, latent_dim))\n",
        "\n",
        "# Get the embeddings of the decoder sequence\n",
        "dec_emb2 = dec_emb_layer(decoder_inputs)\n",
        "\n",
        "# To predict the next word in the sequence, set the initial states to the states from the previous time step\n",
        "(decoder_outputs2, state_h2, state_c2) = decoder_lstm(dec_emb2,\n",
        "        initial_state=[decoder_state_input_h, decoder_state_input_c])\n",
        "\n",
        "# A dense softmax layer to generate prob dist. over the target vocabulary\n",
        "decoder_outputs2 = decoder_dense(decoder_outputs2)\n",
        "\n",
        "# Final decoder model\n",
        "decoder_model = Model([decoder_inputs] + [decoder_hidden_state_input,\n",
        "                      decoder_state_input_h, decoder_state_input_c],\n",
        "                      [decoder_outputs2] + [state_h2, state_c2])"
      ],
      "execution_count": null,
      "outputs": []
    },
    {
      "cell_type": "code",
      "metadata": {
        "id": "d8KP8gyCV6T9"
      },
      "source": [
        "def decode_sequence(input_seq):\n",
        "\n",
        "    # Encode the input as state vectors.\n",
        "    (e_out, e_h, e_c) = encoder_model.predict(input_seq)\n",
        "\n",
        "    # Generate empty target sequence of length 1\n",
        "    target_seq = np.zeros((1, 1))\n",
        "\n",
        "    # Populate the first word of target sequence with the start word.\n",
        "    target_seq[0, 0] = target_word_index['sostok']\n",
        "\n",
        "    stop_condition = False\n",
        "    decoded_sentence = ''\n",
        "\n",
        "    while not stop_condition:\n",
        "        (output_tokens, h, c) = decoder_model.predict([target_seq]\n",
        "                + [e_out, e_h, e_c])\n",
        "\n",
        "        # Sample a token\n",
        "        sampled_token_index = np.argmax(output_tokens[0, -1, :])\n",
        "        sampled_token = reverse_target_word_index[sampled_token_index]\n",
        "\n",
        "        if sampled_token != 'eostok':\n",
        "            decoded_sentence += ' ' + sampled_token\n",
        "\n",
        "        # Exit condition: either hit max length or find the stop word.\n",
        "        if sampled_token == 'eostok' or len(decoded_sentence.split()) \\\n",
        "            >= max_summary_len - 1:\n",
        "            stop_condition = True\n",
        "\n",
        "        # Update the target sequence (of length 1)\n",
        "        target_seq = np.zeros((1, 1))\n",
        "        target_seq[0, 0] = sampled_token_index\n",
        "\n",
        "        # Update internal states\n",
        "        (e_h, e_c) = (h, c)\n",
        "\n",
        "    return decoded_sentence"
      ],
      "execution_count": null,
      "outputs": []
    },
    {
      "cell_type": "code",
      "metadata": {
        "id": "Eej371eCV-MJ"
      },
      "source": [
        "def seq2summary(input_seq):\n",
        "    newString = ''\n",
        "    for i in input_seq:\n",
        "        if i != 0 and i != target_word_index['sostok'] and i \\\n",
        "            != target_word_index['eostok']:\n",
        "            newString = newString + reverse_target_word_index[i] + ' '\n",
        "\n",
        "    return newString\n",
        "\n",
        "\n",
        "# To convert sequence to text\n",
        "def seq2text(input_seq):\n",
        "    newString = ''\n",
        "    for i in input_seq:\n",
        "        if i != 0:\n",
        "            newString = newString + reverse_source_word_index[i] + ' '\n",
        "\n",
        "    return newString"
      ],
      "execution_count": null,
      "outputs": []
    },
    {
      "cell_type": "code",
      "metadata": {
        "colab": {
          "base_uri": "https://localhost:8080/"
        },
        "id": "-BsiYo8hWBi0",
        "outputId": "31c72b78-4878-4943-fc46-2a53ff478fde"
      },
      "source": [
        "for i in range(0, 19):\n",
        "    print('Review:', seq2text(x_tr[i]))\n",
        "    print('Original summary:', seq2summary(y_tr[i]))\n",
        "    print('Predicted summary:', decode_sequence(x_tr[i].reshape(1,\n",
        "           max_text_len)))\n",
        "    print('\\n')"
      ],
      "execution_count": null,
      "outputs": [
        {
          "output_type": "stream",
          "text": [
            "Review: being in this band for the past 12 years has been true blessing statement posted to the band website reads we ve gotten to go places we never knew we would we ve been able to see and experience things we never imagined possible we ve shared the stage with people we admire people we look up to and best of all our friends and now like all great things it has come time for it to end thanks for all of your support and for being part of the adventure \n",
            "Original summary: start my as thanks for end \n",
            "Predicted summary:  start the to the end\n",
            "\n",
            "\n",
            "Review: couples who married in 2012 spent about 28 000 on average on their weddings but that doesn mean you have to do the same we asked top wedding experts for their budget saving advice and they responded with tips and tricks that will lower your spending without your vision check out the slideshow below to discover steps you can take at every step of the planning process to save money after all no one wants to start their marriage in debt \n",
            "Original summary: start wedding budget experts reveal their top tips for saving money on your big day end \n",
            "Predicted summary:  start the to the end\n",
            "\n",
            "\n",
            "Review: tea in mug decades of hard tea drinking led to tooth loss and other bone problems for 47 year old michigan woman reports the new england journal of medicine after treating the patient for severe pain in her back arms legs and her doctor discovered that consuming amounts of highly concentrated tea for nearly 20 years had caused her levels to spike to more than four times the normal amount more from the fix coffee addiction is no joke as result her bones had become so that her teeth had to be her bone density was very high seven times than normal says it was like steel in the us tea contains high amounts of which believes was causing her bone problems there have been about three to four cases reported in the us associated with tea especially large amounts of it he notes the patient had been of tea containing roughly 20 milligrams of day most of us can extremely well but if you drink too much it can be problem he says more from the fix now you can drink water the patient has been prescribed tea free diet and has since recovered experts say her case serves as proof that extreme consumption of almost any substance can be harmful new york city doctor joseph lane chief of the metabolic bone disease service at medical college says he once had patient who on fish oil then she had minor injury and lot almost like he explains it turns out the patient had too much vitamin in the blood \n",
            "Original summary: start in woman loss end \n",
            "Predicted summary:  start the to the end\n",
            "\n",
            "\n",
            "Review: brothers playing together and sharing toys at home by tia ghose livescience staff writer published 03 20 2013 07 pm edt on livescience as young as believe it important to share but when sparkly stickers enter the picture the young ones get new research finds the results published today march 20 in the journal one suggest that children already understand and agree with fairness principles by age but don actually live by those until older ages the study also suggests lack of impulse control or failure of can explain the trend as might be expected these little kids are really clear yeah you should split things equally when everyone is equally but when given chance to do that they tend to things said study co author craig smith developmental psychologist at the university of michigan at ann arbor stickers several studies in the past have shown that toddlers are bad at sharing in classic experiment called the game 3 year olds typically out less than half of their stickers to another child often giving none separately studies have suggested that even babies have sense of fairness to see how those beliefs and actions interact smith and his colleagues gave 3 to 8 year old children four stickers each and told the kids they could share any number with another child of the same gender the youngest children were more selfish while older kids stickers more fairly ways to foster self compassion in your child the researchers also asked the children questions about what people should do in similar situations and both age groups of children agreed that people should split the stickers evenly that led the researchers to wonder why younger children so dramatically from their actual behaviors can help themselves under one possible explanation children planned to share but lost their as soon as they got their hands on the sparkly but when researchers asked children to predict how they would share stickers they accurately their behavior they have this bizarre sense of self awareness like know m going to this smith told livescience that suggests the children at least in this task did not come from lack of impulse control researchers also tested the idea that children expected other kids to stickers so they might as well too but most children expected other kids to share fairly ruling out as the explanation for the observed children also knew that rules of fairness applied to themselves as well as others after stickers younger children felt quite happy with their whereas older children felt more after doing the same question the findings are impressive because they tie together children beliefs and actions said developmental psychologist at harvard university who was not involved in the study what striking is that there this between what should be done and what they actually do told livescience it still not clear exactly why little children beliefs and actions differ so dramatically but it may be part of the developmental process said still that doesn mean is in collective cultures in which sharing is necessity in life children tend to act fairly in sharing tasks at an earlier age smith said follow tia ghose on twitter follow livescience livescience facebook google original article on livescience com copyright 2013 livescience techmedianetwork company all rights reserved this material may not be published broadcast rewritten or redistributed \n",
            "Original summary: start kids and 3 year know they should but don study end \n",
            "Predicted summary:  start the to the end\n",
            "\n",
            "\n",
            "Review: nan \n",
            "Original summary: start 10 ways to more time as family end \n",
            "Predicted summary:  start the to the end\n",
            "\n",
            "\n",
            "Review: we ve heard of 3d remarkable of children illustrations and cool home decor and furniture but when we came across feature on the expanding house plan for an entire home to be constructed with this technology we were dutch company architects has been using 3d they call maker which translates to room maker to construct series of experimental projects that they hope will be the of full size house along the bank of the canal in amsterdam after model using computer design software the digital instructions are sent to the where the product will be formed by and according to the firm plans to use this method to build the house one room at time pretty cool huh but this house in progress wasn their first major innovative idea according to design boom the firm also installed the world premiere 3d constructed in amsterdam center used to educate the community about this type of design photo by architects it safe to say that the possibilities of 3d seem endless especially if this technology can build our homes in the future and as long as they re sustainable and sound we re on board with the to learn what this project head on over to for the full scoop and check out our favorite 3d printed home decor in the slideshow below 11 things built by 3d see gallery \n",
            "Original summary: start house by home will be using photo end \n",
            "Predicted summary:  start the to the end\n",
            "\n",
            "\n",
            "Review: america appetite is out of control yes we have an obesity epidemic but far more is the lack of understanding and compassion for the daily minute to minute struggle that the vast majority two thirds of american adults to be exact with being overweight or obese to put it skinny people just don get it ron recent wall street journal post the of the more sophisticated fatty foods such as roast goose split beef and clotted cream is prime example of this ignorance first d like to remind that the very few of us who have the luxury or interest for that matter of dining on such foods unfortunately do not have the genetic or capability to indulge and quietly stop at the point most people don hit the bliss point fold their politely and asked to be they keep eating and they won stop until they have far feeling full the of america appetite over the past 30 years can attributed to the of sugar in nearly everything we consume for example the greek yogurt fad driven by this idea that it good for you is in actuality driven by sugar six ounce container of black cherry yogurt contains 21 grams of sugar while there is no general recommended daily allowance for sugar ironically this is because there is no known nutritional value to sugar most health professionals would advise people to limit their intake of simple sugar to 12 teaspoons or 40 grams per day based on 2 000 calorie per day diet with this in mind that yogurt is quite an indulgent snack it no gras but you get the point human beings are to and exposure to this western dietary pattern of sugar and fat merely this inclination the cycle of begins with fat which triggers inflammation which then causes damage increased appetite insulin and resistance and weight gain for most people this means major weight gain and for an few it means eating to the the point of no return point where surgery is their only option to lose weight in my practice ve operated on more than 000 patients many of whom would fall into the category of extremely obese those with greater than 60 and can tell you this they don wake up saying they want to be fat and they don dream of sampling with the percent of us who can enjoy food and stay thin is the answer to the problem banning super sized foods or pushing food manufacturers to their practices don know what do know is that we need to stop applying the biggest loser mentality to weight loss where someone into vomit induced exercise wins the prize people need compassion education and encouragement to turn away from sugary foods in favor of lean proteins and complex carbohydrates instead joseph m d f a c s is an recognized robotic and surgeon having performed more than 000 procedures he is currently the director of robotic surgery at st margaret hospital at the university of pittsburgh medical center and is an assistant professor of surgery at the university of pittsburgh medical school he is founding member on the board of the clinical robotic surgery association an international association of the world premier robotic surgeons dr has published numerous professional articles on topics including anorexia traumatic injuries and surgery and nutrition \n",
            "Original summary: start people just don get it end \n",
            "Predicted summary:  start the to the end\n",
            "\n",
            "\n",
            "Review: nan \n",
            "Original summary: start richard says end \n",
            "Predicted summary:  start the to the end\n",
            "\n",
            "\n",
            "Review: happy loving couple on nature while planning your wedding it can be easy to assume that all the stress will be gone when you return home from the honeymoon but as any married person knows maintaining healthy relationship can be just as stressful or more than planning your walk down the aisle since we don believe that marriage has to be major source of anxiety in your life we ve compiled the best advice from huffpost weddings bloggers about how to stress from your marriage take look at the slideshow below to hear how real women deal with marriage anxiety and get some inspiration for how to stress proof your marriage how to have stress free marriage see gallery \n",
            "Original summary: start marriage how to take the stress out of your relationship end \n",
            "Predicted summary:  start the to the end\n",
            "\n",
            "\n",
            "Review: american economy nobel prize paul krugman talks to journalists during news conference before being awarded an degree by lisbon university lisbon technical university and lisbon university monday feb 27 2012 in lisbon ap photo francisco paul krugman is getting bit fed up with all of this wing ” the nobel prize winning economist and new york times criticized in blog post saturday for accusing left leaning slate blogger matt of for of all things buying condo in fact as krugman sees it the right wing bloggers are the ones acting in this case by after they told everyone to lay off the super rich during the 2012 presidential campaign guys don’t actually believe in any rules at all krugman wrote rule they may lay down in one case break in an instant if they think they see an advantage ” have on 1 2 million condo buy largely because they believe his past support for some form of wealth implies that he doesn’t believe anyone should own private property but that interpretation argument new york jonathan writes his argument about ownership does not imply that nobody should own anything it merely implies that people don’t have right to the of their market income so absolute it makes and as the atlantic argues advocating that rich people should pay higher taxes and then buying an expensive condo doesn’t would if he opened p o box in florida to avoid paying some income taxes writes it’s also worth noting that the conservative may have in on the wrong target in this case while has advocated for raising taxes on the rich as way to boost funding for public services he doesn’t think it should necessarily be the go to solution in addition he even offered sort of defense of republican presidential candidate low tax rate writing in september that many agree that capital income which accounts for much of wealth should be lightly than labor income ” \n",
            "Original summary: start paul shows don believe in any at all end \n",
            "Predicted summary:  start the to the end\n",
            "\n",
            "\n",
            "Review: nan \n",
            "Original summary: start so these are hair end \n",
            "Predicted summary:  start the to the end\n",
            "\n",
            "\n",
            "Review: among the many needs of modern man well at least this particular modern man fresh air ranks high right up there with buffalo wings and chocolate milk the houston four seasons hotel is lovely of course it is modern pleasure palace if ever there was one but even the of containers is still at the end of the day container and can be contained now say that last bit again out loud pretending to off your shirt from the center of your chest bill style funny right during the 2 days of the wonderful 2013 dad 2 0 summit last month took frequent beneath the warm texas sun needed to escape the the conversation bubbles and the never ending food m fat who cannot say no to chocolate mousse shots mean really chocolate mousse shots instead of more socialization and compulsory eating d pop in my up some loud indie rock and walk the mean streets of downtown houston thus continuing my air solo tour of america that been going strong since 2004 upon one of my several returns to the hotel at the of and caroline to be exact there stood human symbol of what we and were discussing inside dad alone with his infant daughter and pushing primary colored stroller was probably bit too excited about this this extension of the speeches panels and chats d soaked up up to that point in the weekend mean there was guy with little girl in non pink and purple with no technological visible just the two of them enjoying stroll in the fresh air modern man and his wee thought it beautiful until opened my mouth did something my mother still warns me about and with solid reasoning in this case talked to stranger couldn help myself simply had to say hey and add in how awesome thought it was to see dad and daughter on an outing on that beautiful 70 degree afternoon and so did and then this modern proceeded to kick me in my very modern not mind you but with short and simple that reinforced so many of the madison avenue of us dads that we inside are trying to change he said yeah her mother left her with me today he wasn parenting at all had seen it the way wanted to see it which was it turns out radically different than how it was in you know real life the guy was his own adorable daughter was to reply simply turned away and dragged myself and my chin which had into the warm sidewalk when my mouth fell open back into the hotel \n",
            "Original summary: start how not to be modern dad end \n",
            "Predicted summary:  start the to the end\n",
            "\n",
            "\n",
            "Review: shopping for wedding gown is one of the most fun most exciting parts of planning your special day and you ll likely want to share the moment with your nearest and but even the best intentioned friends and family members can turn totally and once they re with you in the salon so to ensure your appointment stays positive and focused on you here are nine tips that will help manage your entourage and avoid some of the more common problems before you even start trying on gowns choose your entourage the best way to avoid an unruly entourage is to keep the group intimate the fewer the better only invite close family members and friends that you really care about on the fence about someone if you think you could still enjoy yourself without that certain person there don invite her large groups are complicated because not everyone you bring shopping will focus on what is best for you rather they may project their own tastes and end up confusing you altogether plus if you do fall in love and fee compelled to purchase dress it can be awkward with an entourage watching think in advance about who might be an issue quite often it is the person least close to the bride who voices the opinions brides often share their in the dressing suite away from the ears of the entourage and complain to their that they felt compelled to ask that person to accompany them so if you felt like you needed to ask your mother in law or aunt along be prepared for the worst so you re not disappointed talk to the group before the appointment starts suggest the bride be firm before the salon trip starts and let her entire party know that although their opinion is appreciated it may be different from her own there is no harm in reminding the group that you invited them for sake and for the joy of sharing in the experience give each member of larger entourage task just recently had group from beach drive up they ran loose in the salon pulling all different and price points the bride and tried all the gowns on for them often making faces and at the gowns she didn like after an hour the bride was exhausted and confused and needed to schedule another appointment with just her mother to see the gowns she actually did like that meant another hour each way from their home not to mention another day off from work it would have been better had she given each member of the group particular task one to write down the elements of each dress she loved another to keep track of her theme and what her original vision was another to make sure everyone keeping the budget in mind and yet another to ease her through as she changed her mind group leader give your mother or your maid of honor the task of keeping the entourage in line so you don have to this person will be specifically assigned the task of keeping unhelpful negative comments at bay and helping the appointment stay on track so if your great aunt starts pulling dresses herself this person will be there to reign her in make sure you re paired with an experienced stylist an experienced stylist will know to work with the bride and the bride only if he or she allows the group to take over the appointment you are shopping in the wrong salon try to give too vocal person another task if the experience starts to go south and there is real tension brewing the bride should gently but firmly ask the specific person causing the problems to go and look at bridesmaid dresses elsewhere in the salon talk to the group if you re feeling overwhelmed if the group leader isn keeping the group in check address the group yourself and ask them to work with you not against you they may not even realize you feel up on and will likely change their if someone specific is upsetting you talk to her in private and relay that you find it more to your relationship and the shopping experience if she says nothing at all than to hear her be negative \n",
            "Original summary: start how to deal when your takes over your bridal end \n",
            "Predicted summary:  start the to the end\n",
            "\n",
            "\n",
            "Review: nan \n",
            "Original summary: start gps guide for the ultimate end \n",
            "Predicted summary:  start the to the end\n",
            "\n",
            "\n",
            "Review: can do this just 20 minutes just sit still my shoulder stop thinking about it my foot is falling asleep almost numb the numbness is always the opening act for the pins and needles that would be good name for band the pins and needles and here they come singing right up my leg ve never been able to decide whether moving helps them go away faster or just makes it worse think should go get more yogurt cups for the girls at trader joe oh and need more apples too okay my shoulder really now ve got to itch it just breathe little longer speaking of how long has it been don look don do it peel my upper lid from my lower lid just enough so no one will notice even though the only living creature nearby is outside my door and doubt he can see past his beak really it only been two minutes who am meditating for why would care if someone sees me open my eyes feel can even sit for two minutes without full chorus of complaints and to dos this is how it used to be for 10 years struggled my way through every meditation had the desire and the discipline yet couldn seem to be anywhere but elsewhere few years ago began asking the question why why do meditate and why can i meditate from the why came the how how do meditate meditation is science the science of understanding the pathways of the brain and how they react to different situations experiences and through this understanding we can learn how to respond to these reactions and train the brain to focus before we can have purposeful meditation and yoga practice we must first become scientist in the physics of the practice it is impossible to in stillness for any amount of time without knowing how our brain functions until we this knowledge sitting is ineffective waste of time and detrimental to our well being due to the unnecessary pressure and expectation that breeds from our practice and all is coming these are the wise words of the late the master of ashtanga agree as long as there is method to the practice and guidance of the method practice may bring mastery that mimics perfection but practice also creates suffering if one does not know what they are doing and why they are doing it attempting to sit in meditation without learned technique is comparable to placing 2 year old on the floor of the nyse and expecting him to navigate the system on his own while conducting the trades for the day chaos amidst chaos chaos causes more chaos my favorite description of enlightenment is enlightenment is learning not to make more struggle of the existing struggle in this situation not making more struggle would be grooming and teaching person how to traverse the trading floor with grace discerning the viable trades within the noise and creating profit meditation is the same we learn how the brain operates cultivating the tools to manage it before we sit down to listen to it the profit to an educated is life with an abundance of efficiency and intention we respond more and react less because we the mind have learned how to direct the brain as it keeps the trading floor open all day every day the brain is the nyse the mind is the trader the brain and the mind are two separate parts as are the spirit and the soul in order for them to work they must be studied separately understood individually and then connected together before we can be present in stillness we may want to learn how to be present in action the other day woman approached me and in one stressed breath she asked my friend told me you are yoga teacher and ve always wanted to meditate and be present and just want to learn how how can meditate asked you probably already do and you don even know it what do you love to do that you her face relaxed and she replied quietly like to run can hear myself breathe feel my feet and notice my surroundings so you see you already meditate just do it more in other of your life turn any chore or repetitive action into sensory and see if you can separate each sense from the other for example when vacuum am only pay attention to the feel of the handle in my hand the and as turn it on how the vacuum as it across crumb on the carpet and the sound of the crumb as it is chewed inside the am completely there in the experience hearing feeling seeing am my brain on task as my mind remains concentrated in the experience extract myself from my surroundings so that may be in it being in it is being present her response began with sigh of relief oh my gosh can totally do that yes you can encouraged the how to begins with attention paying attention and educating ourselves about the mechanics of the brain that it before we can sit still and meditate like in cave we need to learn how within ourselves in the active moment without thinking of the next action this is presence being present and think it may even be little something they like to call enlightenment \n",
            "Original summary: start the of meditation you don have to still to be end \n",
            "Predicted summary:  start the to the end\n",
            "\n",
            "\n",
            "Review: the treasure of beautiful images we find on pinterest never fails to surprise us and during the holidays especially the site is our go to source of inspiration so to help you navigate the collection of easter ideas we ve put together list of five boards worth checking out ranging from egg decorating ideas to bunny crafts you ll be sure to find what you re looking for and while you re at it be sure to check out our own pinterest page for all things easter happy hunting \n",
            "Original summary: start easter ideas to now for holiday inspiration photos end \n",
            "Predicted summary:  start the to the end\n",
            "\n",
            "\n",
            "Review: my family and co workers like to tease me that am that if they want me to do something they have to send an email so that the task exists somewhere other than just my brain admit it have way too much on my plate and as result just cannot keep track of things unless they are written down this generally works pretty well for me the things have to do are scheduled in my calendar or saved in my email sometimes forget to do things if they aren written down remember my son preschool but everything usually turns out ok the other thing you should know is that don have enough brain power to keep score don pay attention to who picked up their room last who cleared how many plates who did more or less also if m mad you ll know it but once ve had my say my being upset almost always disappears since am focused on making sure that don screw up major things often forget about whatever m mad about after address it this tends to work really well for me since it allows me to move on however it can sometimes be problem for others even though forgot was mad they didn even if wasn upset with them they are often left wondering how m doing what the resolution was and whether everything worked out by the time we connect again ve completely forgotten about my communication while they ve been holding onto it they ve essentially been holding my baggage and giving it weight worth and energy so the other day my friend asked me how was doing with something we had discussed me fine hadn thought of it since we discussed it two weeks ago at this she got little you see she had been for me hoping all was well while was onto something else when we discussed it she felt like she was carrying around my baggage while was going on my merry way so asked her if her back hurt carrying around my baggage we laughed and talked about holding onto other people issues don normally go looking for extra issues with four children local parents and in law 60 employees and two location business my experience is that issues usually find me and often ve mentioned being minded since can remember my own issues definitely don take on or carry around other people issues mean don even want my issues why on earth would someone else as we continued our conversation started to think it probably more common to hold onto problems than to let them go even when they re not our own think of yourself and the issues you carry with you like pantry it easier to clean out the pantry in your house which has visible mess than to up your psychological pantry but the problem is that messy pantry is infinitely less harmful to our health and vitality than the baggage so as the weather up and you trade in your winter weather wear for lighter invite you to evaluate the bags you carry around that your shoulders your energy and distract your mind as one of characters said when asked what atlas should do about the weight of the world on his shoulders he responded that atlas should so this spring take deep breath and your issues will be there on the floor ready to haul around again should you miss them for more by click here \n",
            "Original summary: start it off end \n",
            "Predicted summary:  start the to the end\n",
            "\n",
            "\n",
            "Review: did you ever stare at person walking past you because they look different know have did you ever ask yourself if that person made choice in the way they looked or if an unfortunate circumstance came into their life causing an appearance change have these questions ever crossed your mind personally don judge people by the way they look but if see something different or unusual tend to stare think this is true for most people however don stare anymore for more days than d like to count was the person people stared at as cancer transplant patient ve had immune system doctors tend to explain it this way common cold can put you in the hospital for weeks that kind of scary so for the first 100 days post transplant it recommended well more like to wear large mask that protects the from all incoming germs it like the captain america shield of masks apparently this shield can block up to 95 percent of all the incoming particles in the air after having been in the hospital for several weeks was only to be to my house after about 20 days of this was desperate to get out knew if wanted to leave the house had to wear that mask many thoughts ran through my mind before out are people going to stare at me are they going to ask me questions will they be able to hear me if speak will be able to stand my own breath every question and thought made me more nervous my choice to be in public my lasted only few more days because ultimately couldn take it any longer and had to go outside so my family and decided to go see movie good choice right it dark people would only see me walking from the car to inside the movie and then out again you can do it told myself as suspected when walked down the sidewalk people glanced and stared looked away got all hot and sweaty wanted to return to the car but proceeded ahead as walked into the movie theater had to walk in front of the screen to get to the other side for seating this had me dead center in front of an audience of viewers now m soaking wet as the heat from my anxiety was on fire when sat down became calmer accepting the fact that if wanted to go into public had to wear this mask settling in and starting to feel better about my choice an older man his head around to look at me started to itch all over it was as if couldn stand the fear and worry of not looking normal was embarrassed embarrassed this thought had me what was happening society has bad habit of putting lot of pressure on people looks whether it is what people wear their hairstyle or hair color body size trendy or not normal or not my fear was that society was not going to accept bald pale man with mask and in some ways think it less about acceptance and more about how often we re told what is normal that had me thinking that most people stare because what they see is something unusual or uncommon it the uncommon things that usually catch my attention when am out in public causing me to stare don stare at everyday or typical instances of babies in strollers couples holding hands or people walking their dogs imagine if everyone was wearing mask and was bald would have less fear of going in public after about 40 days of going out in public with the mask began to feel like was no longer wearing the mask grew accustomed to being stared at so made sure was wearing the clothes just kidding felt normal although society did not view my appearance as normal the mask and my bald head had become my new normal being stared at because was different made me appreciate the permanent physical hard ships that some people go through luckily for me was only going to be wearing the mask for short period of time but for some people their physical differences are permanent \n",
            "Original summary: start the man behind the end \n",
            "Predicted summary:  start the to the end\n",
            "\n",
            "\n",
            "Review: a former food industry executive is turning against his own michael the ex vice president of global corporate affairs for kraft foods urged lawmakers in new york times op ed sunday to keep the pressure on the food industry to reform through taxes mandatory guidelines for marketing food to children and requirements to display nutrition information more “i left the industry when finally had to acknowledge that reform would never come from within who retired in 2004 wrote “i could no longer accept business model that put profits over public health and no one else should have to either ” the op ed comes less than week after judge struck down new york city mayor michael plan to ban large sugary drinks calling it and ” the beverage industry opposed the controversial initiative since its argued in the op ed that limits like proposed plan are necessary to curb obesity because he knows from experience that the food industry won’t police itself during meeting in 1999 reportedly tried to convince group of food industry ceos from variety of companies to tackle the obesity problem head on by their army of scientists and marketers to creating healthier food and convincing americans to like it according to the new york times for their part food industry executives have said that processed foods and drinks aren’t the only thing to blame for the rise in obesity boost in tv watching and video game playing habits play role as well they say the food industry has taken some pains in recent years to address the obesity problem coca cola released controversial ad earlier this year acknowledging its role in the epidemic and highlighting its offerings with fewer calories and sugar recently some including have tried to promote healthier products by their prices still thanks to food industry efforts to engineer foods that consumers will crave and market them effectively even well intentioned shoppers face an battle in making healthy choices and it’s no wonder the push works processed foods and sugary drinks can be as addictive as in some cases according to 2011 study from the national institute on drug abuse \n",
            "Original summary: start ex food over public health end \n",
            "Predicted summary:  start the to the end\n",
            "\n",
            "\n"
          ],
          "name": "stdout"
        }
      ]
    }
  ]
}